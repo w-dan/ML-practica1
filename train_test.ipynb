{
 "cells": [
  {
   "cell_type": "code",
   "execution_count": 36,
   "metadata": {
    "id": "w2idwO_vlVn_"
   },
   "outputs": [],
   "source": [
    "import numpy as np\n",
    "import pandas as pd\n",
    "import sklearn.compose as Compose\n",
    "\n",
    "from sklearn.preprocessing import MinMaxScaler\n",
    "from sklearn.preprocessing import OrdinalEncoder\n",
    "from sklearn.metrics import mean_absolute_error\n",
    "\n",
    "import matplotlib.pyplot as plt\n",
    "\n",
    "from sklearn.model_selection import train_test_split\n",
    "from xgboost import XGBRegressor\n",
    "import xgboost as xgb"
   ]
  },
  {
   "cell_type": "markdown",
   "metadata": {
    "id": "3-Er7lMqlmsd"
   },
   "source": [
    "Descargamos las datasets "
   ]
  },
  {
   "cell_type": "code",
   "execution_count": 37,
   "metadata": {
    "id": "J0RlYHn3luG2"
   },
   "outputs": [],
   "source": [
    "train_url = \"https://raw.githubusercontent.com/w-dan/ML-practica1/main/train.csv\"\n",
    "df_train = pd.read_csv(train_url)\n",
    "\n",
    "test_url = \"https://raw.githubusercontent.com/w-dan/ML-practica1/main/test.csv\"\n",
    "df_test = pd.read_csv(test_url)\n",
    "\n",
    "#df_test.Memory.unique()                       # Con esto vemos todos los valores posibles que tiene una columna"
   ]
  },
  {
   "cell_type": "markdown",
   "metadata": {
    "id": "jhQHMosxQGWv"
   },
   "source": [
    "## Pre-procesamiento de datos de df_train"
   ]
  },
  {
   "cell_type": "markdown",
   "metadata": {
    "id": "06l5t1IgnGns"
   },
   "source": [
    "Vamos a guardar Price en la variable \"y\" y la vamos a separar del resto de columnas. \n",
    "También vamos a eliminar la columna \"LaptopId\" porque no nos aporta nada. "
   ]
  },
  {
   "cell_type": "code",
   "execution_count": 38,
   "metadata": {
    "colab": {
     "base_uri": "https://localhost:8080/",
     "height": 424
    },
    "id": "g5TxJajpnOjE",
    "outputId": "cc49cf03-17db-4b14-f19f-f75c2f1a492f"
   },
   "outputs": [
    {
     "data": {
      "text/plain": "     Company                            Product            TypeName  Inches  \\\n0    Toshiba                  Portege Z30-C-1CV            Notebook    13.3   \n1         HP                  Spectre 13-V111dx           Ultrabook    13.3   \n2       Dell                      Inspiron 5570            Notebook    15.6   \n3         HP                     Envy 13-ad009n           Ultrabook    13.3   \n4       Dell                      Latitude 7280           Ultrabook    12.5   \n..       ...                                ...                 ...     ...   \n907     Dell                      Inspiron 5378  2 in 1 Convertible    13.3   \n908     Asus  FX753VD-GC007T (i7-7700HQ/8GB/1TB              Gaming    17.3   \n909     Dell                      Inspiron 5567            Notebook    15.6   \n910     Dell                      Inspiron 3567            Notebook    15.6   \n911   Lenovo                      Thinkpad E470            Notebook    14.0   \n\n                              ScreenResolution                          Cpu  \\\n0                            Full HD 1920x1080   Intel Core i5 6200U 2.3GHz   \n1    IPS Panel Full HD / Touchscreen 1920x1080   Intel Core i7 7500U 2.7GHz   \n2                            Full HD 1920x1080   Intel Core i7 8550U 1.8GHz   \n3                  IPS Panel Full HD 1920x1080   Intel Core i7 7500U 2.7GHz   \n4              Full HD / Touchscreen 1920x1080   Intel Core i5 7200U 2.5GHz   \n..                                         ...                          ...   \n907            Full HD / Touchscreen 1920x1080   Intel Core i5 7200U 2.5GHz   \n908                          Full HD 1920x1080  Intel Core i7 7700HQ 2.8GHz   \n909                          Full HD 1920x1080   Intel Core i7 7500U 2.7GHz   \n910                          Full HD 1920x1080   Intel Core i7 7500U 2.7GHz   \n911                IPS Panel Full HD 1920x1080   Intel Core i7 7500U 2.7GHz   \n\n      Ram                Memory                      Gpu       OpSys  Weight  \\\n0     4GB             128GB SSD    Intel HD Graphics 520   Windows 7   1.2kg   \n1     8GB             256GB SSD    Intel HD Graphics 620  Windows 10  1.11kg   \n2     8GB  128GB SSD +  1TB HDD   Intel UHD Graphics 620  Windows 10  2.02kg   \n3     8GB             256GB SSD     Nvidia GeForce MX150  Windows 10  1.38kg   \n4     8GB             256GB SSD        Intel HD Graphics  Windows 10  1.36kg   \n..    ...                   ...                      ...         ...     ...   \n907   8GB             256GB SSD    Intel HD Graphics 620  Windows 10  1.68kg   \n908   8GB  128GB SSD +  1TB HDD  Nvidia GeForce GTX 1050  Windows 10     3kg   \n909  16GB               2TB HDD       AMD Radeon R7 M445  Windows 10  2.32kg   \n910   8GB               1TB HDD       AMD Radeon R5 M430       Linux   2.2kg   \n911   8GB             256GB SSD     Nvidia GeForce 940MX  Windows 10  1.87kg   \n\n       Price  \n0    1195.00  \n1    1349.00  \n2     855.00  \n3    1119.00  \n4    1472.20  \n..       ...  \n907   889.00  \n908  1168.00  \n909   989.99  \n910   599.90  \n911   859.00  \n\n[912 rows x 12 columns]",
      "text/html": "<div>\n<style scoped>\n    .dataframe tbody tr th:only-of-type {\n        vertical-align: middle;\n    }\n\n    .dataframe tbody tr th {\n        vertical-align: top;\n    }\n\n    .dataframe thead th {\n        text-align: right;\n    }\n</style>\n<table border=\"1\" class=\"dataframe\">\n  <thead>\n    <tr style=\"text-align: right;\">\n      <th></th>\n      <th>Company</th>\n      <th>Product</th>\n      <th>TypeName</th>\n      <th>Inches</th>\n      <th>ScreenResolution</th>\n      <th>Cpu</th>\n      <th>Ram</th>\n      <th>Memory</th>\n      <th>Gpu</th>\n      <th>OpSys</th>\n      <th>Weight</th>\n      <th>Price</th>\n    </tr>\n  </thead>\n  <tbody>\n    <tr>\n      <th>0</th>\n      <td>Toshiba</td>\n      <td>Portege Z30-C-1CV</td>\n      <td>Notebook</td>\n      <td>13.3</td>\n      <td>Full HD 1920x1080</td>\n      <td>Intel Core i5 6200U 2.3GHz</td>\n      <td>4GB</td>\n      <td>128GB SSD</td>\n      <td>Intel HD Graphics 520</td>\n      <td>Windows 7</td>\n      <td>1.2kg</td>\n      <td>1195.00</td>\n    </tr>\n    <tr>\n      <th>1</th>\n      <td>HP</td>\n      <td>Spectre 13-V111dx</td>\n      <td>Ultrabook</td>\n      <td>13.3</td>\n      <td>IPS Panel Full HD / Touchscreen 1920x1080</td>\n      <td>Intel Core i7 7500U 2.7GHz</td>\n      <td>8GB</td>\n      <td>256GB SSD</td>\n      <td>Intel HD Graphics 620</td>\n      <td>Windows 10</td>\n      <td>1.11kg</td>\n      <td>1349.00</td>\n    </tr>\n    <tr>\n      <th>2</th>\n      <td>Dell</td>\n      <td>Inspiron 5570</td>\n      <td>Notebook</td>\n      <td>15.6</td>\n      <td>Full HD 1920x1080</td>\n      <td>Intel Core i7 8550U 1.8GHz</td>\n      <td>8GB</td>\n      <td>128GB SSD +  1TB HDD</td>\n      <td>Intel UHD Graphics 620</td>\n      <td>Windows 10</td>\n      <td>2.02kg</td>\n      <td>855.00</td>\n    </tr>\n    <tr>\n      <th>3</th>\n      <td>HP</td>\n      <td>Envy 13-ad009n</td>\n      <td>Ultrabook</td>\n      <td>13.3</td>\n      <td>IPS Panel Full HD 1920x1080</td>\n      <td>Intel Core i7 7500U 2.7GHz</td>\n      <td>8GB</td>\n      <td>256GB SSD</td>\n      <td>Nvidia GeForce MX150</td>\n      <td>Windows 10</td>\n      <td>1.38kg</td>\n      <td>1119.00</td>\n    </tr>\n    <tr>\n      <th>4</th>\n      <td>Dell</td>\n      <td>Latitude 7280</td>\n      <td>Ultrabook</td>\n      <td>12.5</td>\n      <td>Full HD / Touchscreen 1920x1080</td>\n      <td>Intel Core i5 7200U 2.5GHz</td>\n      <td>8GB</td>\n      <td>256GB SSD</td>\n      <td>Intel HD Graphics</td>\n      <td>Windows 10</td>\n      <td>1.36kg</td>\n      <td>1472.20</td>\n    </tr>\n    <tr>\n      <th>...</th>\n      <td>...</td>\n      <td>...</td>\n      <td>...</td>\n      <td>...</td>\n      <td>...</td>\n      <td>...</td>\n      <td>...</td>\n      <td>...</td>\n      <td>...</td>\n      <td>...</td>\n      <td>...</td>\n      <td>...</td>\n    </tr>\n    <tr>\n      <th>907</th>\n      <td>Dell</td>\n      <td>Inspiron 5378</td>\n      <td>2 in 1 Convertible</td>\n      <td>13.3</td>\n      <td>Full HD / Touchscreen 1920x1080</td>\n      <td>Intel Core i5 7200U 2.5GHz</td>\n      <td>8GB</td>\n      <td>256GB SSD</td>\n      <td>Intel HD Graphics 620</td>\n      <td>Windows 10</td>\n      <td>1.68kg</td>\n      <td>889.00</td>\n    </tr>\n    <tr>\n      <th>908</th>\n      <td>Asus</td>\n      <td>FX753VD-GC007T (i7-7700HQ/8GB/1TB</td>\n      <td>Gaming</td>\n      <td>17.3</td>\n      <td>Full HD 1920x1080</td>\n      <td>Intel Core i7 7700HQ 2.8GHz</td>\n      <td>8GB</td>\n      <td>128GB SSD +  1TB HDD</td>\n      <td>Nvidia GeForce GTX 1050</td>\n      <td>Windows 10</td>\n      <td>3kg</td>\n      <td>1168.00</td>\n    </tr>\n    <tr>\n      <th>909</th>\n      <td>Dell</td>\n      <td>Inspiron 5567</td>\n      <td>Notebook</td>\n      <td>15.6</td>\n      <td>Full HD 1920x1080</td>\n      <td>Intel Core i7 7500U 2.7GHz</td>\n      <td>16GB</td>\n      <td>2TB HDD</td>\n      <td>AMD Radeon R7 M445</td>\n      <td>Windows 10</td>\n      <td>2.32kg</td>\n      <td>989.99</td>\n    </tr>\n    <tr>\n      <th>910</th>\n      <td>Dell</td>\n      <td>Inspiron 3567</td>\n      <td>Notebook</td>\n      <td>15.6</td>\n      <td>Full HD 1920x1080</td>\n      <td>Intel Core i7 7500U 2.7GHz</td>\n      <td>8GB</td>\n      <td>1TB HDD</td>\n      <td>AMD Radeon R5 M430</td>\n      <td>Linux</td>\n      <td>2.2kg</td>\n      <td>599.90</td>\n    </tr>\n    <tr>\n      <th>911</th>\n      <td>Lenovo</td>\n      <td>Thinkpad E470</td>\n      <td>Notebook</td>\n      <td>14.0</td>\n      <td>IPS Panel Full HD 1920x1080</td>\n      <td>Intel Core i7 7500U 2.7GHz</td>\n      <td>8GB</td>\n      <td>256GB SSD</td>\n      <td>Nvidia GeForce 940MX</td>\n      <td>Windows 10</td>\n      <td>1.87kg</td>\n      <td>859.00</td>\n    </tr>\n  </tbody>\n</table>\n<p>912 rows × 12 columns</p>\n</div>"
     },
     "execution_count": 38,
     "metadata": {},
     "output_type": "execute_result"
    }
   ],
   "source": [
    "index = df_train['LaptopId']\n",
    "df_train = df_train.drop('LaptopId', axis=1)       # Borramos la ID porque no aporta nada\n",
    "\n",
    "df_train    "
   ]
  },
  {
   "cell_type": "markdown",
   "metadata": {
    "id": "o6hvQATRp1a3"
   },
   "source": [
    "Como existen varios portátiles que disponen de dos tipos de memoria vamos a separar la columna \"Memory\" para distinguir entre estos tipos y su capacidad.\n",
    "Lo distinguiremos en Memory1 y Memory2, cada una de ellas estará separada en su capacidad (\"MemoryX_storage) y tipo (\"MemoryX_type\")\n",
    "\n",
    "La tercera columna no nos aporta nada así que la borramos"
   ]
  },
  {
   "cell_type": "markdown",
   "metadata": {
    "id": "TuFHY0Xfv_55"
   },
   "source": [
    "###Tratamiento \"Memory\""
   ]
  },
  {
   "cell_type": "code",
   "execution_count": 39,
   "metadata": {
    "colab": {
     "base_uri": "https://localhost:8080/",
     "height": 424
    },
    "id": "1aT0LSAKp4MG",
    "outputId": "07d99ef0-d8f9-458b-b8f3-3c5d1eefd7ce"
   },
   "outputs": [
    {
     "data": {
      "text/plain": "    Memory1_storage Memory1_type Memory2_storage Memory2_type\n0             128GB          SSD            None         None\n1             256GB          SSD            None         None\n2             128GB          SSD             1TB          HDD\n3             256GB          SSD            None         None\n4             256GB          SSD            None         None\n..              ...          ...             ...          ...\n907           256GB          SSD            None         None\n908           128GB          SSD             1TB          HDD\n909             2TB          HDD            None         None\n910             1TB          HDD            None         None\n911           256GB          SSD            None         None\n\n[912 rows x 4 columns]",
      "text/html": "<div>\n<style scoped>\n    .dataframe tbody tr th:only-of-type {\n        vertical-align: middle;\n    }\n\n    .dataframe tbody tr th {\n        vertical-align: top;\n    }\n\n    .dataframe thead th {\n        text-align: right;\n    }\n</style>\n<table border=\"1\" class=\"dataframe\">\n  <thead>\n    <tr style=\"text-align: right;\">\n      <th></th>\n      <th>Memory1_storage</th>\n      <th>Memory1_type</th>\n      <th>Memory2_storage</th>\n      <th>Memory2_type</th>\n    </tr>\n  </thead>\n  <tbody>\n    <tr>\n      <th>0</th>\n      <td>128GB</td>\n      <td>SSD</td>\n      <td>None</td>\n      <td>None</td>\n    </tr>\n    <tr>\n      <th>1</th>\n      <td>256GB</td>\n      <td>SSD</td>\n      <td>None</td>\n      <td>None</td>\n    </tr>\n    <tr>\n      <th>2</th>\n      <td>128GB</td>\n      <td>SSD</td>\n      <td>1TB</td>\n      <td>HDD</td>\n    </tr>\n    <tr>\n      <th>3</th>\n      <td>256GB</td>\n      <td>SSD</td>\n      <td>None</td>\n      <td>None</td>\n    </tr>\n    <tr>\n      <th>4</th>\n      <td>256GB</td>\n      <td>SSD</td>\n      <td>None</td>\n      <td>None</td>\n    </tr>\n    <tr>\n      <th>...</th>\n      <td>...</td>\n      <td>...</td>\n      <td>...</td>\n      <td>...</td>\n    </tr>\n    <tr>\n      <th>907</th>\n      <td>256GB</td>\n      <td>SSD</td>\n      <td>None</td>\n      <td>None</td>\n    </tr>\n    <tr>\n      <th>908</th>\n      <td>128GB</td>\n      <td>SSD</td>\n      <td>1TB</td>\n      <td>HDD</td>\n    </tr>\n    <tr>\n      <th>909</th>\n      <td>2TB</td>\n      <td>HDD</td>\n      <td>None</td>\n      <td>None</td>\n    </tr>\n    <tr>\n      <th>910</th>\n      <td>1TB</td>\n      <td>HDD</td>\n      <td>None</td>\n      <td>None</td>\n    </tr>\n    <tr>\n      <th>911</th>\n      <td>256GB</td>\n      <td>SSD</td>\n      <td>None</td>\n      <td>None</td>\n    </tr>\n  </tbody>\n</table>\n<p>912 rows × 4 columns</p>\n</div>"
     },
     "execution_count": 39,
     "metadata": {},
     "output_type": "execute_result"
    }
   ],
   "source": [
    "for index, row in df_train.iterrows():\n",
    "   df_train.loc[index, 'Memory'].replace('Storage', '')\n",
    "\n",
    "memory = df_train[\"Memory\"].str.split(expand = True)\n",
    "memory.columns = ['Memory1_storage', 'Memory1_type','borrar' ,'Memory2_storage', 'Memory2_type']\n",
    "\n",
    "memory =  memory.drop('borrar', axis=1)       # borramos la tercera columna que no nos aporta nada.\n",
    "memory"
   ]
  },
  {
   "cell_type": "markdown",
   "metadata": {
    "id": "tFrMdvo8CFob"
   },
   "source": [
    "Ahora vamos a eliminar la columna de \"Memory\" original que ya teníamos y vamos\n",
    "a concatenar la nueva tabla con la anterior\n",
    "\n",
    "Ahora vamos a convertir los TB a GB, para ello tenemos que recorrer las filas y sustituir los valores. Como el compilador no nos deja recorrer los datos si tenemos valores \"None\" vamos a convertirlo temporalmente a String para poder hacer esto.\n",
    "\n",
    "Después de convertir los distintos datos a GB, vamos a covertir los valores \"None\", ya sean String o None, a un 0.\n",
    "\n",
    "Ahora ya tendremos todos los datos de capacidad den Gigabytes"
   ]
  },
  {
   "cell_type": "code",
   "execution_count": 40,
   "metadata": {
    "colab": {
     "base_uri": "https://localhost:8080/",
     "height": 424
    },
    "id": "1QU7yqpThIFz",
    "outputId": "b476213b-733f-4657-cd8a-4816002767db"
   },
   "outputs": [
    {
     "data": {
      "text/plain": "     Company                            Product            TypeName  Inches  \\\n0    Toshiba                  Portege Z30-C-1CV            Notebook    13.3   \n1         HP                  Spectre 13-V111dx           Ultrabook    13.3   \n2       Dell                      Inspiron 5570            Notebook    15.6   \n3         HP                     Envy 13-ad009n           Ultrabook    13.3   \n4       Dell                      Latitude 7280           Ultrabook    12.5   \n..       ...                                ...                 ...     ...   \n907     Dell                      Inspiron 5378  2 in 1 Convertible    13.3   \n908     Asus  FX753VD-GC007T (i7-7700HQ/8GB/1TB              Gaming    17.3   \n909     Dell                      Inspiron 5567            Notebook    15.6   \n910     Dell                      Inspiron 3567            Notebook    15.6   \n911   Lenovo                      Thinkpad E470            Notebook    14.0   \n\n                              ScreenResolution                          Cpu  \\\n0                            Full HD 1920x1080   Intel Core i5 6200U 2.3GHz   \n1    IPS Panel Full HD / Touchscreen 1920x1080   Intel Core i7 7500U 2.7GHz   \n2                            Full HD 1920x1080   Intel Core i7 8550U 1.8GHz   \n3                  IPS Panel Full HD 1920x1080   Intel Core i7 7500U 2.7GHz   \n4              Full HD / Touchscreen 1920x1080   Intel Core i5 7200U 2.5GHz   \n..                                         ...                          ...   \n907            Full HD / Touchscreen 1920x1080   Intel Core i5 7200U 2.5GHz   \n908                          Full HD 1920x1080  Intel Core i7 7700HQ 2.8GHz   \n909                          Full HD 1920x1080   Intel Core i7 7500U 2.7GHz   \n910                          Full HD 1920x1080   Intel Core i7 7500U 2.7GHz   \n911                IPS Panel Full HD 1920x1080   Intel Core i7 7500U 2.7GHz   \n\n      Ram                      Gpu       OpSys  Weight    Price  \\\n0     4GB    Intel HD Graphics 520   Windows 7   1.2kg  1195.00   \n1     8GB    Intel HD Graphics 620  Windows 10  1.11kg  1349.00   \n2     8GB   Intel UHD Graphics 620  Windows 10  2.02kg   855.00   \n3     8GB     Nvidia GeForce MX150  Windows 10  1.38kg  1119.00   \n4     8GB        Intel HD Graphics  Windows 10  1.36kg  1472.20   \n..    ...                      ...         ...     ...      ...   \n907   8GB    Intel HD Graphics 620  Windows 10  1.68kg   889.00   \n908   8GB  Nvidia GeForce GTX 1050  Windows 10     3kg  1168.00   \n909  16GB       AMD Radeon R7 M445  Windows 10  2.32kg   989.99   \n910   8GB       AMD Radeon R5 M430       Linux   2.2kg   599.90   \n911   8GB     Nvidia GeForce 940MX  Windows 10  1.87kg   859.00   \n\n    Memory1_storage Memory1_type Memory2_storage Memory2_type  \n0             128GB          SSD               0            0  \n1             256GB          SSD               0            0  \n2             128GB          SSD          1024GB          HDD  \n3             256GB          SSD               0            0  \n4             256GB          SSD               0            0  \n..              ...          ...             ...          ...  \n907           256GB          SSD               0            0  \n908           128GB          SSD          1024GB          HDD  \n909          2048GB          HDD               0            0  \n910          1024GB          HDD               0            0  \n911           256GB          SSD               0            0  \n\n[912 rows x 15 columns]",
      "text/html": "<div>\n<style scoped>\n    .dataframe tbody tr th:only-of-type {\n        vertical-align: middle;\n    }\n\n    .dataframe tbody tr th {\n        vertical-align: top;\n    }\n\n    .dataframe thead th {\n        text-align: right;\n    }\n</style>\n<table border=\"1\" class=\"dataframe\">\n  <thead>\n    <tr style=\"text-align: right;\">\n      <th></th>\n      <th>Company</th>\n      <th>Product</th>\n      <th>TypeName</th>\n      <th>Inches</th>\n      <th>ScreenResolution</th>\n      <th>Cpu</th>\n      <th>Ram</th>\n      <th>Gpu</th>\n      <th>OpSys</th>\n      <th>Weight</th>\n      <th>Price</th>\n      <th>Memory1_storage</th>\n      <th>Memory1_type</th>\n      <th>Memory2_storage</th>\n      <th>Memory2_type</th>\n    </tr>\n  </thead>\n  <tbody>\n    <tr>\n      <th>0</th>\n      <td>Toshiba</td>\n      <td>Portege Z30-C-1CV</td>\n      <td>Notebook</td>\n      <td>13.3</td>\n      <td>Full HD 1920x1080</td>\n      <td>Intel Core i5 6200U 2.3GHz</td>\n      <td>4GB</td>\n      <td>Intel HD Graphics 520</td>\n      <td>Windows 7</td>\n      <td>1.2kg</td>\n      <td>1195.00</td>\n      <td>128GB</td>\n      <td>SSD</td>\n      <td>0</td>\n      <td>0</td>\n    </tr>\n    <tr>\n      <th>1</th>\n      <td>HP</td>\n      <td>Spectre 13-V111dx</td>\n      <td>Ultrabook</td>\n      <td>13.3</td>\n      <td>IPS Panel Full HD / Touchscreen 1920x1080</td>\n      <td>Intel Core i7 7500U 2.7GHz</td>\n      <td>8GB</td>\n      <td>Intel HD Graphics 620</td>\n      <td>Windows 10</td>\n      <td>1.11kg</td>\n      <td>1349.00</td>\n      <td>256GB</td>\n      <td>SSD</td>\n      <td>0</td>\n      <td>0</td>\n    </tr>\n    <tr>\n      <th>2</th>\n      <td>Dell</td>\n      <td>Inspiron 5570</td>\n      <td>Notebook</td>\n      <td>15.6</td>\n      <td>Full HD 1920x1080</td>\n      <td>Intel Core i7 8550U 1.8GHz</td>\n      <td>8GB</td>\n      <td>Intel UHD Graphics 620</td>\n      <td>Windows 10</td>\n      <td>2.02kg</td>\n      <td>855.00</td>\n      <td>128GB</td>\n      <td>SSD</td>\n      <td>1024GB</td>\n      <td>HDD</td>\n    </tr>\n    <tr>\n      <th>3</th>\n      <td>HP</td>\n      <td>Envy 13-ad009n</td>\n      <td>Ultrabook</td>\n      <td>13.3</td>\n      <td>IPS Panel Full HD 1920x1080</td>\n      <td>Intel Core i7 7500U 2.7GHz</td>\n      <td>8GB</td>\n      <td>Nvidia GeForce MX150</td>\n      <td>Windows 10</td>\n      <td>1.38kg</td>\n      <td>1119.00</td>\n      <td>256GB</td>\n      <td>SSD</td>\n      <td>0</td>\n      <td>0</td>\n    </tr>\n    <tr>\n      <th>4</th>\n      <td>Dell</td>\n      <td>Latitude 7280</td>\n      <td>Ultrabook</td>\n      <td>12.5</td>\n      <td>Full HD / Touchscreen 1920x1080</td>\n      <td>Intel Core i5 7200U 2.5GHz</td>\n      <td>8GB</td>\n      <td>Intel HD Graphics</td>\n      <td>Windows 10</td>\n      <td>1.36kg</td>\n      <td>1472.20</td>\n      <td>256GB</td>\n      <td>SSD</td>\n      <td>0</td>\n      <td>0</td>\n    </tr>\n    <tr>\n      <th>...</th>\n      <td>...</td>\n      <td>...</td>\n      <td>...</td>\n      <td>...</td>\n      <td>...</td>\n      <td>...</td>\n      <td>...</td>\n      <td>...</td>\n      <td>...</td>\n      <td>...</td>\n      <td>...</td>\n      <td>...</td>\n      <td>...</td>\n      <td>...</td>\n      <td>...</td>\n    </tr>\n    <tr>\n      <th>907</th>\n      <td>Dell</td>\n      <td>Inspiron 5378</td>\n      <td>2 in 1 Convertible</td>\n      <td>13.3</td>\n      <td>Full HD / Touchscreen 1920x1080</td>\n      <td>Intel Core i5 7200U 2.5GHz</td>\n      <td>8GB</td>\n      <td>Intel HD Graphics 620</td>\n      <td>Windows 10</td>\n      <td>1.68kg</td>\n      <td>889.00</td>\n      <td>256GB</td>\n      <td>SSD</td>\n      <td>0</td>\n      <td>0</td>\n    </tr>\n    <tr>\n      <th>908</th>\n      <td>Asus</td>\n      <td>FX753VD-GC007T (i7-7700HQ/8GB/1TB</td>\n      <td>Gaming</td>\n      <td>17.3</td>\n      <td>Full HD 1920x1080</td>\n      <td>Intel Core i7 7700HQ 2.8GHz</td>\n      <td>8GB</td>\n      <td>Nvidia GeForce GTX 1050</td>\n      <td>Windows 10</td>\n      <td>3kg</td>\n      <td>1168.00</td>\n      <td>128GB</td>\n      <td>SSD</td>\n      <td>1024GB</td>\n      <td>HDD</td>\n    </tr>\n    <tr>\n      <th>909</th>\n      <td>Dell</td>\n      <td>Inspiron 5567</td>\n      <td>Notebook</td>\n      <td>15.6</td>\n      <td>Full HD 1920x1080</td>\n      <td>Intel Core i7 7500U 2.7GHz</td>\n      <td>16GB</td>\n      <td>AMD Radeon R7 M445</td>\n      <td>Windows 10</td>\n      <td>2.32kg</td>\n      <td>989.99</td>\n      <td>2048GB</td>\n      <td>HDD</td>\n      <td>0</td>\n      <td>0</td>\n    </tr>\n    <tr>\n      <th>910</th>\n      <td>Dell</td>\n      <td>Inspiron 3567</td>\n      <td>Notebook</td>\n      <td>15.6</td>\n      <td>Full HD 1920x1080</td>\n      <td>Intel Core i7 7500U 2.7GHz</td>\n      <td>8GB</td>\n      <td>AMD Radeon R5 M430</td>\n      <td>Linux</td>\n      <td>2.2kg</td>\n      <td>599.90</td>\n      <td>1024GB</td>\n      <td>HDD</td>\n      <td>0</td>\n      <td>0</td>\n    </tr>\n    <tr>\n      <th>911</th>\n      <td>Lenovo</td>\n      <td>Thinkpad E470</td>\n      <td>Notebook</td>\n      <td>14.0</td>\n      <td>IPS Panel Full HD 1920x1080</td>\n      <td>Intel Core i7 7500U 2.7GHz</td>\n      <td>8GB</td>\n      <td>Nvidia GeForce 940MX</td>\n      <td>Windows 10</td>\n      <td>1.87kg</td>\n      <td>859.00</td>\n      <td>256GB</td>\n      <td>SSD</td>\n      <td>0</td>\n      <td>0</td>\n    </tr>\n  </tbody>\n</table>\n<p>912 rows × 15 columns</p>\n</div>"
     },
     "execution_count": 40,
     "metadata": {},
     "output_type": "execute_result"
    }
   ],
   "source": [
    "# Modificamos la antigua columna de Memory por las que hemos creado\n",
    "\n",
    "df_train = df_train.drop('Memory', axis=1) \n",
    "df_train = pd.concat([df_train, memory], axis = 1)\n",
    "\n",
    "# Convertimos todos los None en ceros\n",
    "\n",
    "df_train['Memory2_storage'].replace(to_replace = [None], value = \"None\", inplace = True)\n",
    "df_train['Memory1_storage'].replace(to_replace = [None], value = \"None\", inplace = True)\n",
    "\n",
    "# Convertimos TB a GB\n",
    "\n",
    "for index, row in df_train.iterrows():\n",
    "   if 'TB' in row['Memory2_storage']:\n",
    "     gb = int(df_train.loc[index, 'Memory2_storage'][0])*1024 \n",
    "     df_train.loc[index, 'Memory2_storage'] = f\"{gb}GB\"\n",
    "\n",
    "\n",
    "for index, row in df_train.iterrows():\n",
    "   if 'TB' in row['Memory1_storage']:\n",
    "     gb = int(df_train.loc[index, 'Memory1_storage'][0])*1024\n",
    "     df_train.loc[index, 'Memory1_storage'] = f\"{gb}GB\"\n",
    "\n",
    "\n",
    "df_train['Memory2_storage'].replace(to_replace = [\"None\"], value = 0, inplace = True)\n",
    "df_train['Memory1_storage'].replace(to_replace = [\"None\"], value = 0, inplace = True)\n",
    "df_train['Memory2_type'].replace(to_replace = [None], value = \"0\", inplace = True)                  # El 0 lo pongo como String para que luego al convertir los datos lo haga bien\n",
    "df_train['Memory1_type'].replace(to_replace = [None], value = \"0\", inplace = True)\n",
    "\n",
    "\n",
    "df_train"
   ]
  },
  {
   "cell_type": "markdown",
   "metadata": {
    "id": "aQJVYJ937oRe"
   },
   "source": [
    "Ahora vamos a hacer como con la RAM, eliminar la subcadena \"GB\" de los discos. Para ello usamos el mismo método de antes, pero surge un problema, en los portátiles que no tienen alguno de sus discos se nos borra el valor 0.\n",
    "\n",
    "Esto tiene fácil solución, usamos una función para que nos sustituya los valores vacíos por 0."
   ]
  },
  {
   "cell_type": "markdown",
   "metadata": {
    "id": "wA6KyyMlwLAD"
   },
   "source": [
    "###Normalizando"
   ]
  },
  {
   "cell_type": "markdown",
   "metadata": {
    "id": "YPLzT0yENznp"
   },
   "source": [
    "Vamos a convertir los valores de \"Typename\", \"Company\", \"OpSys\", etc... en números para que se pueda trabajar con ellos.\n",
    "\n",
    "También vamos a eliminar \"GB\" de los elementos de la columna RAM y las memorias al igual que vamos a eliminar \"kg\" de la columna \"Weight\" para dejar sólo los números    \n",
    "\n",
    "Con las memorias surge un problema, en los portátiles que no tienen alguno de sus discos se nos borra el valor 0.\n",
    "\n",
    "Esto tiene fácil solución, usamos una función para que nos sustituya los valores vacíos por 0.\n",
    "\n",
    "Normalizamos las columnas que tenemos"
   ]
  },
  {
   "cell_type": "code",
   "execution_count": 41,
   "outputs": [],
   "source": [
    "df_train['Ram'] = df_train['Ram'].map(lambda x: str(x)[:-2])                                # Eliminamos dos últimos caracteres del contenido de 'Ram'\n",
    "df_train['Weight'] = df_train['Weight'].map(lambda x: str(x)[:-2])                          # Igual con 'Weight'\n",
    "df_train['Memory1_storage'] = df_train['Memory1_storage'].map(lambda x: str(x)[:-2])       \n",
    "df_train['Memory2_storage'] = df_train['Memory2_storage'].map(lambda x: str(x)[:-2])\n",
    "\n",
    "df_train = df_train.replace(r'^\\s*$', value = 0, regex=True)                                #Cambia los espacios vacios por 0   ^\\s*$ es espacio vacío"
   ],
   "metadata": {
    "collapsed": false
   }
  },
  {
   "cell_type": "markdown",
   "source": [
    "# Transformamos los valores del tipo de memoria para que sean tratables\n",
    "\n",
    "enc = OrdinalEncoder()\n",
    "df_train[['Memory1_type', 'Memory2_type', 'TypeName', 'Company', 'OpSys', 'Product', 'ScreenResolution', 'Cpu', 'Gpu']] = enc.fit_transform(df_train[['Memory1_type', 'Memory2_type', 'TypeName', 'Company', 'OpSys', 'Product', 'ScreenResolution', 'Cpu', 'Gpu']])\n",
    "\n",
    "# Normalizamos todos los valores númericos que tenemos de momento\n",
    "df_train[['Company', 'TypeName', 'Inches', 'Ram', 'Memory1_storage', 'Memory1_type', 'Memory2_storage', 'Memory2_type', 'OpSys', 'Weight', 'Cpu', 'Gpu', 'ScreenResolution', 'Product']] = MinMaxScaler().fit_transform(df_train[['Company', 'TypeName', 'Inches', 'Ram', 'Memory1_storage', 'Memory1_type', 'Memory2_storage', 'Memory2_type', 'OpSys', 'Weight', 'Cpu', 'Gpu', 'ScreenResolution', 'Product']])\n",
    "\n",
    "df_train"
   ],
   "metadata": {
    "collapsed": false
   }
  },
  {
   "cell_type": "markdown",
   "source": [
    "Tratamiento de la columna CPU"
   ],
   "metadata": {
    "collapsed": false
   }
  },
  {
   "cell_type": "markdown",
   "source": [
    "Primero separamos las cadenas de caracteteres"
   ],
   "metadata": {
    "collapsed": false
   }
  },
  {
   "cell_type": "code",
   "execution_count": 42,
   "outputs": [],
   "source": [
    "prueba = df_train['Cpu'].str.split()"
   ],
   "metadata": {
    "collapsed": false
   }
  },
  {
   "cell_type": "markdown",
   "source": [
    "A continuación vamos a guardar en un array la parte que queremos separar"
   ],
   "metadata": {
    "collapsed": false
   }
  },
  {
   "cell_type": "code",
   "execution_count": 43,
   "outputs": [],
   "source": [
    "Cpu_Company = [x[0] for x in prueba]\n",
    "Cpu_Model = [\" \".join(x[1:-2]) for x in prueba]\n",
    "Cpu_Frecuency = [x[-1] for x in prueba]"
   ],
   "metadata": {
    "collapsed": false
   }
  },
  {
   "cell_type": "markdown",
   "source": [
    "Después añadimos al Dataset las nuevas columnas que hemos creado"
   ],
   "metadata": {
    "collapsed": false
   }
  },
  {
   "cell_type": "code",
   "execution_count": 44,
   "outputs": [],
   "source": [
    "df_train['Cpu_Company'] = pd.DataFrame(Cpu_Company)\n",
    "df_train['Cpu_Model'] = pd.DataFrame(Cpu_Model)\n",
    "df_train['Cpu_Frecuency(GHz)'] = pd.DataFrame(Cpu_Frecuency)"
   ],
   "metadata": {
    "collapsed": false
   }
  },
  {
   "cell_type": "markdown",
   "source": [
    "Por último eliminamos las unidades de la columna de Cpu_Frecuency"
   ],
   "metadata": {
    "collapsed": false
   }
  },
  {
   "cell_type": "code",
   "execution_count": 45,
   "outputs": [],
   "source": [
    "df_train['Cpu_Frecuency(GHz)'] = df_train['Cpu_Frecuency(GHz)'].map(lambda x: str(x)[:-3])\n",
    "df_train = df_train.drop('Cpu', axis=1)"
   ],
   "metadata": {
    "collapsed": false
   }
  },
  {
   "cell_type": "markdown",
   "source": [
    "Ahora vamos a tratar la columna de ScreenResolution separando la resolución de la tecnología que usan. Para ello vamos a seguir el mismo procedimiento que seguimos con la columna CPU"
   ],
   "metadata": {
    "collapsed": false
   }
  },
  {
   "cell_type": "code",
   "execution_count": 46,
   "outputs": [],
   "source": [
    "prueba = df_train['ScreenResolution'].str.split()\n",
    "screen_resolution = [x[-1:] for x in prueba]\n",
    "screen_tecnology = [\" \".join(x[0:-1]) for x in prueba]\n",
    "df_train['Screen_Resolution'] = pd.DataFrame(screen_resolution)\n",
    "df_train['Screen_Technology'] = pd.DataFrame(screen_tecnology)\n",
    "df_train = df_train.drop('ScreenResolution', axis=1)"
   ],
   "metadata": {
    "collapsed": false
   }
  },
  {
   "cell_type": "code",
   "execution_count": 47,
   "outputs": [
    {
     "data": {
      "text/plain": "     Company                            Product            TypeName  Inches  \\\n0    Toshiba                  Portege Z30-C-1CV            Notebook    13.3   \n1         HP                  Spectre 13-V111dx           Ultrabook    13.3   \n2       Dell                      Inspiron 5570            Notebook    15.6   \n3         HP                     Envy 13-ad009n           Ultrabook    13.3   \n4       Dell                      Latitude 7280           Ultrabook    12.5   \n..       ...                                ...                 ...     ...   \n907     Dell                      Inspiron 5378  2 in 1 Convertible    13.3   \n908     Asus  FX753VD-GC007T (i7-7700HQ/8GB/1TB              Gaming    17.3   \n909     Dell                      Inspiron 5567            Notebook    15.6   \n910     Dell                      Inspiron 3567            Notebook    15.6   \n911   Lenovo                      Thinkpad E470            Notebook    14.0   \n\n    Ram       OpSys Weight    Price Memory1_storage Memory1_type  \\\n0     4   Windows 7    1.2  1195.00             128          SSD   \n1     8  Windows 10   1.11  1349.00             256          SSD   \n2     8  Windows 10   2.02   855.00             128          SSD   \n3     8  Windows 10   1.38  1119.00             256          SSD   \n4     8  Windows 10   1.36  1472.20             256          SSD   \n..   ..         ...    ...      ...             ...          ...   \n907   8  Windows 10   1.68   889.00             256          SSD   \n908   8  Windows 10      3  1168.00             128          SSD   \n909  16  Windows 10   2.32   989.99            2048          HDD   \n910   8       Linux    2.2   599.90            1024          HDD   \n911   8  Windows 10   1.87   859.00             256          SSD   \n\n    Memory2_storage Memory2_type Cpu_Company Cpu_Model Cpu_Frecuency(GHz)  \\\n0                 0            0       Intel   Core i5                2.3   \n1                 0            0       Intel   Core i7                2.7   \n2              1024          HDD       Intel   Core i7                1.8   \n3                 0            0       Intel   Core i7                2.7   \n4                 0            0       Intel   Core i5                2.5   \n..              ...          ...         ...       ...                ...   \n907               0            0       Intel   Core i5                2.5   \n908            1024          HDD       Intel   Core i7                2.8   \n909               0            0       Intel   Core i7                2.7   \n910               0            0       Intel   Core i7                2.7   \n911               0            0       Intel   Core i7                2.7   \n\n    Screen_Resolution                Screen_Technology Gpu_Company  \\\n0           1920x1080                          Full HD       Intel   \n1           1920x1080  IPS Panel Full HD / Touchscreen       Intel   \n2           1920x1080                          Full HD       Intel   \n3           1920x1080                IPS Panel Full HD      Nvidia   \n4           1920x1080            Full HD / Touchscreen       Intel   \n..                ...                              ...         ...   \n907         1920x1080            Full HD / Touchscreen       Intel   \n908         1920x1080                          Full HD      Nvidia   \n909         1920x1080                          Full HD         AMD   \n910         1920x1080                          Full HD         AMD   \n911         1920x1080                IPS Panel Full HD      Nvidia   \n\n            Gpu_Model  \n0     HD Graphics 520  \n1     HD Graphics 620  \n2    UHD Graphics 620  \n3       GeForce MX150  \n4         HD Graphics  \n..                ...  \n907   HD Graphics 620  \n908  GeForce GTX 1050  \n909    Radeon R7 M445  \n910    Radeon R5 M430  \n911     GeForce 940MX  \n\n[912 rows x 19 columns]",
      "text/html": "<div>\n<style scoped>\n    .dataframe tbody tr th:only-of-type {\n        vertical-align: middle;\n    }\n\n    .dataframe tbody tr th {\n        vertical-align: top;\n    }\n\n    .dataframe thead th {\n        text-align: right;\n    }\n</style>\n<table border=\"1\" class=\"dataframe\">\n  <thead>\n    <tr style=\"text-align: right;\">\n      <th></th>\n      <th>Company</th>\n      <th>Product</th>\n      <th>TypeName</th>\n      <th>Inches</th>\n      <th>Ram</th>\n      <th>OpSys</th>\n      <th>Weight</th>\n      <th>Price</th>\n      <th>Memory1_storage</th>\n      <th>Memory1_type</th>\n      <th>Memory2_storage</th>\n      <th>Memory2_type</th>\n      <th>Cpu_Company</th>\n      <th>Cpu_Model</th>\n      <th>Cpu_Frecuency(GHz)</th>\n      <th>Screen_Resolution</th>\n      <th>Screen_Technology</th>\n      <th>Gpu_Company</th>\n      <th>Gpu_Model</th>\n    </tr>\n  </thead>\n  <tbody>\n    <tr>\n      <th>0</th>\n      <td>Toshiba</td>\n      <td>Portege Z30-C-1CV</td>\n      <td>Notebook</td>\n      <td>13.3</td>\n      <td>4</td>\n      <td>Windows 7</td>\n      <td>1.2</td>\n      <td>1195.00</td>\n      <td>128</td>\n      <td>SSD</td>\n      <td>0</td>\n      <td>0</td>\n      <td>Intel</td>\n      <td>Core i5</td>\n      <td>2.3</td>\n      <td>1920x1080</td>\n      <td>Full HD</td>\n      <td>Intel</td>\n      <td>HD Graphics 520</td>\n    </tr>\n    <tr>\n      <th>1</th>\n      <td>HP</td>\n      <td>Spectre 13-V111dx</td>\n      <td>Ultrabook</td>\n      <td>13.3</td>\n      <td>8</td>\n      <td>Windows 10</td>\n      <td>1.11</td>\n      <td>1349.00</td>\n      <td>256</td>\n      <td>SSD</td>\n      <td>0</td>\n      <td>0</td>\n      <td>Intel</td>\n      <td>Core i7</td>\n      <td>2.7</td>\n      <td>1920x1080</td>\n      <td>IPS Panel Full HD / Touchscreen</td>\n      <td>Intel</td>\n      <td>HD Graphics 620</td>\n    </tr>\n    <tr>\n      <th>2</th>\n      <td>Dell</td>\n      <td>Inspiron 5570</td>\n      <td>Notebook</td>\n      <td>15.6</td>\n      <td>8</td>\n      <td>Windows 10</td>\n      <td>2.02</td>\n      <td>855.00</td>\n      <td>128</td>\n      <td>SSD</td>\n      <td>1024</td>\n      <td>HDD</td>\n      <td>Intel</td>\n      <td>Core i7</td>\n      <td>1.8</td>\n      <td>1920x1080</td>\n      <td>Full HD</td>\n      <td>Intel</td>\n      <td>UHD Graphics 620</td>\n    </tr>\n    <tr>\n      <th>3</th>\n      <td>HP</td>\n      <td>Envy 13-ad009n</td>\n      <td>Ultrabook</td>\n      <td>13.3</td>\n      <td>8</td>\n      <td>Windows 10</td>\n      <td>1.38</td>\n      <td>1119.00</td>\n      <td>256</td>\n      <td>SSD</td>\n      <td>0</td>\n      <td>0</td>\n      <td>Intel</td>\n      <td>Core i7</td>\n      <td>2.7</td>\n      <td>1920x1080</td>\n      <td>IPS Panel Full HD</td>\n      <td>Nvidia</td>\n      <td>GeForce MX150</td>\n    </tr>\n    <tr>\n      <th>4</th>\n      <td>Dell</td>\n      <td>Latitude 7280</td>\n      <td>Ultrabook</td>\n      <td>12.5</td>\n      <td>8</td>\n      <td>Windows 10</td>\n      <td>1.36</td>\n      <td>1472.20</td>\n      <td>256</td>\n      <td>SSD</td>\n      <td>0</td>\n      <td>0</td>\n      <td>Intel</td>\n      <td>Core i5</td>\n      <td>2.5</td>\n      <td>1920x1080</td>\n      <td>Full HD / Touchscreen</td>\n      <td>Intel</td>\n      <td>HD Graphics</td>\n    </tr>\n    <tr>\n      <th>...</th>\n      <td>...</td>\n      <td>...</td>\n      <td>...</td>\n      <td>...</td>\n      <td>...</td>\n      <td>...</td>\n      <td>...</td>\n      <td>...</td>\n      <td>...</td>\n      <td>...</td>\n      <td>...</td>\n      <td>...</td>\n      <td>...</td>\n      <td>...</td>\n      <td>...</td>\n      <td>...</td>\n      <td>...</td>\n      <td>...</td>\n      <td>...</td>\n    </tr>\n    <tr>\n      <th>907</th>\n      <td>Dell</td>\n      <td>Inspiron 5378</td>\n      <td>2 in 1 Convertible</td>\n      <td>13.3</td>\n      <td>8</td>\n      <td>Windows 10</td>\n      <td>1.68</td>\n      <td>889.00</td>\n      <td>256</td>\n      <td>SSD</td>\n      <td>0</td>\n      <td>0</td>\n      <td>Intel</td>\n      <td>Core i5</td>\n      <td>2.5</td>\n      <td>1920x1080</td>\n      <td>Full HD / Touchscreen</td>\n      <td>Intel</td>\n      <td>HD Graphics 620</td>\n    </tr>\n    <tr>\n      <th>908</th>\n      <td>Asus</td>\n      <td>FX753VD-GC007T (i7-7700HQ/8GB/1TB</td>\n      <td>Gaming</td>\n      <td>17.3</td>\n      <td>8</td>\n      <td>Windows 10</td>\n      <td>3</td>\n      <td>1168.00</td>\n      <td>128</td>\n      <td>SSD</td>\n      <td>1024</td>\n      <td>HDD</td>\n      <td>Intel</td>\n      <td>Core i7</td>\n      <td>2.8</td>\n      <td>1920x1080</td>\n      <td>Full HD</td>\n      <td>Nvidia</td>\n      <td>GeForce GTX 1050</td>\n    </tr>\n    <tr>\n      <th>909</th>\n      <td>Dell</td>\n      <td>Inspiron 5567</td>\n      <td>Notebook</td>\n      <td>15.6</td>\n      <td>16</td>\n      <td>Windows 10</td>\n      <td>2.32</td>\n      <td>989.99</td>\n      <td>2048</td>\n      <td>HDD</td>\n      <td>0</td>\n      <td>0</td>\n      <td>Intel</td>\n      <td>Core i7</td>\n      <td>2.7</td>\n      <td>1920x1080</td>\n      <td>Full HD</td>\n      <td>AMD</td>\n      <td>Radeon R7 M445</td>\n    </tr>\n    <tr>\n      <th>910</th>\n      <td>Dell</td>\n      <td>Inspiron 3567</td>\n      <td>Notebook</td>\n      <td>15.6</td>\n      <td>8</td>\n      <td>Linux</td>\n      <td>2.2</td>\n      <td>599.90</td>\n      <td>1024</td>\n      <td>HDD</td>\n      <td>0</td>\n      <td>0</td>\n      <td>Intel</td>\n      <td>Core i7</td>\n      <td>2.7</td>\n      <td>1920x1080</td>\n      <td>Full HD</td>\n      <td>AMD</td>\n      <td>Radeon R5 M430</td>\n    </tr>\n    <tr>\n      <th>911</th>\n      <td>Lenovo</td>\n      <td>Thinkpad E470</td>\n      <td>Notebook</td>\n      <td>14.0</td>\n      <td>8</td>\n      <td>Windows 10</td>\n      <td>1.87</td>\n      <td>859.00</td>\n      <td>256</td>\n      <td>SSD</td>\n      <td>0</td>\n      <td>0</td>\n      <td>Intel</td>\n      <td>Core i7</td>\n      <td>2.7</td>\n      <td>1920x1080</td>\n      <td>IPS Panel Full HD</td>\n      <td>Nvidia</td>\n      <td>GeForce 940MX</td>\n    </tr>\n  </tbody>\n</table>\n<p>912 rows × 19 columns</p>\n</div>"
     },
     "execution_count": 47,
     "metadata": {},
     "output_type": "execute_result"
    }
   ],
   "source": [
    "prueba = df_train['Gpu'].str.split()\n",
    "Gpu_Company = [x[0] for x in prueba]\n",
    "Gpu_Model = [\" \".join(x[1:]) for x in prueba]\n",
    "df_train['Gpu_Company'] = pd.DataFrame(Gpu_Company)\n",
    "df_train['Gpu_Model'] = pd.DataFrame(Gpu_Model)\n",
    "df_train = df_train.drop('Gpu', axis=1)\n",
    "df_train"
   ],
   "metadata": {
    "collapsed": false
   }
  },
  {
   "cell_type": "code",
   "execution_count": 48,
   "outputs": [
    {
     "data": {
      "text/plain": "array(['Toshiba', 'HP', 'Dell', 'Lenovo', 'Asus', 'Microsoft', 'Vero',\n       'MSI', 'Acer', 'Apple', 'Mediacom', 'Samsung', 'Razer', 'Google',\n       'Fujitsu', 'Chuwi', 'Huawei', 'LG', 'Xiaomi'], dtype=object)"
     },
     "execution_count": 48,
     "metadata": {},
     "output_type": "execute_result"
    }
   ],
   "source": [
    "df_train['Company'].unique()"
   ],
   "metadata": {
    "collapsed": false
   }
  },
  {
   "cell_type": "markdown",
   "source": [
    "Preprocesamiento"
   ],
   "metadata": {
    "collapsed": false
   }
  },
  {
   "cell_type": "code",
   "execution_count": 30,
   "outputs": [],
   "source": [
    "ordinal_encoder = Compose.ColumnTransformer(transformers=[\n",
    "    (\"Company\", OrdinalEncoder(), [0]),\n",
    "    (\"Product\", OrdinalEncoder(), [1]),\n",
    "    (\"TypeName\", OrdinalEncoder(), [2]),\n",
    "    (\"Inches\", \"passthrough\", [3]),\n",
    "    (\"Ram\", \"passthrough\", [4]),\n",
    "    (\"OpSys\", OrdinalEncoder(), [5]),\n",
    "    (\"Weight\", \"passthrough\", [6]),\n",
    "    (\"Memory1_storage\", \"passthrough\", [7]),\n",
    "    (\"Memory1_type\", OrdinalEncoder(), [8]),\n",
    "    (\"Memory2_storage\", \"passthrough\", [9]),\n",
    "    (\"Memory2_type\", OrdinalEncoder(), [10]),\n",
    "    (\"Cpu_Company\", OrdinalEncoder(), [11]),\n",
    "    (\"Cpu_Model\", OrdinalEncoder(), [12]),\n",
    "    (\"Cpu_Frecuency\", \"passthrough\", [13]),\n",
    "    (\"Screen_Resolution\", OrdinalEncoder(), [14]),\n",
    "    (\"Screen_Technology\", OrdinalEncoder(), [15]),\n",
    "    (\"Gpu_Company\", OrdinalEncoder(), [16]),\n",
    "    (\"Gpu_Model\", OrdinalEncoder(), [17])\n",
    "])\n",
    "\n",
    "min_max_esclaer = Compose.ColumnTransformer(transformers=[\n",
    "    (\"Company\", MinMaxScaler(), [0]),\n",
    "    #(\"Product\", MinMaxScaler(), [1]),\n",
    "    (\"TypeName\", MinMaxScaler(), [2]),\n",
    "    (\"Inches\", MinMaxScaler(), [3]),\n",
    "    (\"Ram\", MinMaxScaler(), [4]),\n",
    "    (\"OpSys\", MinMaxScaler(), [5]),\n",
    "    (\"Weight\", MinMaxScaler(), [6]),\n",
    "    (\"Memory1_storage\", MinMaxScaler(), [7]),\n",
    "    (\"Memory1_type\", MinMaxScaler(), [8]),\n",
    "    (\"Memory2_storage\", MinMaxScaler(), [9]),\n",
    "    (\"Memory2_type\", MinMaxScaler(), [10]),\n",
    "    (\"Cpu_Company\", MinMaxScaler(), [11]),\n",
    "    (\"Cpu_Model\", MinMaxScaler(), [12]),\n",
    "    (\"Cpu_Frecuency\", MinMaxScaler(), [13]),\n",
    "    (\"Screen_Resolution\", MinMaxScaler(), [14]),\n",
    "    (\"Screen_Technology\", MinMaxScaler(), [15]),\n",
    "    (\"Gpu_Company\", MinMaxScaler(), [16]),\n",
    "    (\"Gpu_Model\", MinMaxScaler(), [17])\n",
    "])"
   ],
   "metadata": {
    "collapsed": false
   }
  },
  {
   "cell_type": "code",
   "execution_count": 31,
   "outputs": [],
   "source": [
    "X = df_train[['Company', 'Product', 'TypeName', 'Inches', 'Ram', 'OpSys', 'Weight', 'Memory1_storage', 'Memory1_type', 'Memory2_storage', 'Memory2_type', 'Cpu_Company', 'Cpu_Model', 'Cpu_Frecuency(GHz)', 'Screen_Resolution', 'Screen_Technology','Gpu_Company', 'Gpu_Model']]\n",
    "y = df_train['Price']"
   ],
   "metadata": {
    "collapsed": false
   }
  },
  {
   "cell_type": "code",
   "execution_count": 32,
   "outputs": [
    {
     "data": {
      "text/plain": "array([[16.0, 262.0, 3.0, ..., 3.0, 2.0, 41.0],\n       [7.0, 326.0, 4.0, ..., 9.0, 2.0, 46.0],\n       [4.0, 191.0, 3.0, ..., 3.0, 2.0, 89.0],\n       ...,\n       [4.0, 189.0, 3.0, ..., 3.0, 0.0, 81.0],\n       [4.0, 183.0, 3.0, ..., 3.0, 0.0, 77.0],\n       [10.0, 376.0, 3.0, ..., 8.0, 3.0, 8.0]], dtype=object)"
     },
     "execution_count": 32,
     "metadata": {},
     "output_type": "execute_result"
    }
   ],
   "source": [
    "X = ordinal_encoder.fit_transform(X.to_numpy())\n",
    "X"
   ],
   "metadata": {
    "collapsed": false
   }
  },
  {
   "cell_type": "code",
   "execution_count": 33,
   "outputs": [
    {
     "data": {
      "text/plain": "array([[0.88888889, 0.6       , 0.44444444, ..., 0.15      , 0.66666667,\n        0.46067416],\n       [0.38888889, 0.8       , 0.44444444, ..., 0.45      , 0.66666667,\n        0.51685393],\n       [0.22222222, 0.6       , 0.76388889, ..., 0.15      , 0.66666667,\n        1.        ],\n       ...,\n       [0.22222222, 0.6       , 0.76388889, ..., 0.15      , 0.        ,\n        0.91011236],\n       [0.22222222, 0.6       , 0.76388889, ..., 0.15      , 0.        ,\n        0.86516854],\n       [0.55555556, 0.6       , 0.54166667, ..., 0.4       , 1.        ,\n        0.08988764]])"
     },
     "execution_count": 33,
     "metadata": {},
     "output_type": "execute_result"
    }
   ],
   "source": [
    "X = min_max_esclaer.fit_transform(X)\n",
    "X"
   ],
   "metadata": {
    "collapsed": false
   }
  },
  {
   "cell_type": "markdown",
   "source": [
    "## Pre-procesamiento de datos de df_test"
   ],
   "metadata": {
    "collapsed": false
   }
  },
  {
   "cell_type": "code",
   "execution_count": null,
   "metadata": {
    "colab": {
     "base_uri": "https://localhost:8080/",
     "height": 424
    },
    "id": "cUsKJFPmQoec",
    "outputId": "231205af-1fdd-42db-8d08-d4467cc27341"
   },
   "outputs": [],
   "source": [
    "df_test = df_test.drop('LaptopId', axis=1)       # Borramos la ID porque no aporta nada\n",
    "\n",
    "df_test"
   ]
  },
  {
   "cell_type": "markdown",
   "metadata": {
    "id": "-OFt6vyZw93U"
   },
   "source": [
    "###Tratamiento \"Memory\""
   ]
  },
  {
   "cell_type": "markdown",
   "metadata": {
    "id": "ecg0pEMyQ1Tz"
   },
   "source": [
    "Como existen varios portátiles que disponen de dos tipos de memoria vamos a separar la columna \"Memory\" para distinguir entre estos tipos y su capacidad. Lo distinguiremos en Memory1 y Memory2, cada una de ellas estará separada en su capacidad (\"MemoryX_storage) y tipo (\"MemoryX_type\")\n",
    "\n",
    "La tercera columna no nos aporta nada así que la borramos"
   ]
  },
  {
   "cell_type": "code",
   "execution_count": null,
   "metadata": {
    "colab": {
     "base_uri": "https://localhost:8080/",
     "height": 424
    },
    "id": "Dvnn8qFEQ2hL",
    "outputId": "67cb7240-8d50-450e-dac2-03c09809a42b"
   },
   "outputs": [],
   "source": [
    "for index, row in df_test.iterrows():\n",
    "  df_test.loc[index, 'Memory'] = df_test.loc[index, 'Memory'].replace(\"Storage\", \"\")\n",
    "\n",
    "memoryt = df_test[\"Memory\"].str.split(expand = True)\n",
    "memoryt.columns = ['Memory1_storage', 'Memory1_type','borrar' ,'Memory2_storage', 'Memory2_type']\n",
    "\n",
    "memoryt =  memoryt.drop('borrar', axis=1)       # borramos la tercera columna que no nos aporta nada.\n",
    "memoryt"
   ]
  },
  {
   "cell_type": "markdown",
   "metadata": {
    "id": "UnJAb3-7RVGZ"
   },
   "source": [
    "Ahora vamos a convertir los TB a GB, para ello tenemos que recorrer las filas y sustituir los valores. Como el compilador no nos deja recorrer los datos si tenemos valores \"None\" vamos a convertirlo temporalmente a String para poder hacer esto.\n",
    "\n",
    "Después de convertir los distintos datos a GB, vamos a covertir los valores \"None\", ya sean String o None, a un 0.\n",
    "\n",
    "Ahora ya tendremos todos los datos de capacidad den Gigabytes"
   ]
  },
  {
   "cell_type": "code",
   "execution_count": null,
   "metadata": {
    "colab": {
     "base_uri": "https://localhost:8080/",
     "height": 424
    },
    "id": "zhT37cnzRWhG",
    "outputId": "4d879547-a2ff-4414-a1e4-29e5ba694543"
   },
   "outputs": [],
   "source": [
    "# Sustituimos la antigua columna de Memory por las creadas anteriormente\n",
    "\n",
    "df_test = df_test.drop('Memory', axis=1) \n",
    "df_test = pd.concat([df_test, memoryt], axis = 1)\n",
    "df_test\n",
    "\n",
    "# Convertimos todos los None en ceros\n",
    "\n",
    "df_test['Memory2_storage'].replace(to_replace = [None], value = \"None\", inplace = True)\n",
    "df_test['Memory1_storage'].replace(to_replace = [None], value = \"None\", inplace = True)\n",
    "\n",
    "# Convertimos de TB a GB\n",
    "\n",
    "for index, row in df_test.iterrows():\n",
    "   if 'TB' in row['Memory2_storage']:\n",
    "     gb = int(df_test.loc[index, 'Memory2_storage'][0])*1024 \n",
    "     df_test.loc[index, 'Memory2_storage'] = f\"{gb}GB\"\n",
    "\n",
    "\n",
    "for index, row in df_test.iterrows():\n",
    "   if 'TB' in row['Memory1_storage']:\n",
    "     gb = int(df_test.loc[index, 'Memory1_storage'][0])*1024\n",
    "     df_test.loc[index, 'Memory1_storage'] = f\"{gb}GB\"\n",
    "\n",
    "\n",
    "df_test['Memory2_storage'].replace(to_replace = [\"None\"], value = 0, inplace = True)\n",
    "df_test['Memory1_storage'].replace(to_replace = [\"None\"], value = 0, inplace = True)\n",
    "df_test['Memory2_type'].replace(to_replace = [None], value = \"0\", inplace = True)                  # El 0 lo pongo como String para que luego al convertir los datos lo haga bien\n",
    "df_test['Memory1_type'].replace(to_replace = [None], value = \"0\", inplace = True)\n",
    "\n",
    "df_test"
   ]
  },
  {
   "cell_type": "markdown",
   "metadata": {
    "id": "_ryyPz9sShix"
   },
   "source": [
    "Ahora vamos a hacer como con la RAM, eliminar la subcadena \"GB\" de los discos. Para ello usamos el mismo método de antes, pero "
   ]
  },
  {
   "cell_type": "markdown",
   "metadata": {
    "id": "7PGxpAo5xF10"
   },
   "source": [
    "###Normalizando"
   ]
  },
  {
   "cell_type": "markdown",
   "metadata": {
    "id": "TBCjoU5hSw5c"
   },
   "source": [
    "Vamos a convertir los valores de \"Typename\", \"Company\", \"OpSys\", etc... en números para que se pueda trabajar con ellos.\n",
    "\n",
    "También vamos a eliminar \"GB\" de los elementos de la columna RAM y las memorias al igual que vamos a eliminar \"kg\" de la columna \"Weight\" para dejar sólo los números    \n",
    "\n",
    "Con las memorias surge un problema, en los portátiles que no tienen alguno de sus discos se nos borra el valor 0.\n",
    "\n",
    "Esto tiene fácil solución, usamos una función para que nos sustituya los valores vacíos por 0.\n",
    "\n",
    "Normalizamos las columnas que tenemos"
   ]
  },
  {
   "cell_type": "code",
   "execution_count": null,
   "metadata": {
    "colab": {
     "base_uri": "https://localhost:8080/",
     "height": 424
    },
    "id": "_MZUs9yfSxRS",
    "outputId": "af1305d1-1a3e-4219-f75b-50d3d2448c25"
   },
   "outputs": [],
   "source": [
    "df_test['Ram'] = df_test['Ram'].map(lambda x: str(x)[:-2])                     # Eliminamos dos últimos caracteres del contenido de 'Ram'\n",
    "df_test['Weight'] = df_test['Weight'].map(lambda x: str(x)[:-2])               # Igual con 'Weight'\n",
    "df_test['Memory1_storage'] = df_test['Memory1_storage'].map(lambda x: str(x)[:-2])\n",
    "df_test['Memory2_storage'] = df_test['Memory2_storage'].map(lambda x: str(x)[:-2])\n",
    "\n",
    "df_test = df_test.replace(r'^\\s*$', value = 0, regex=True)                       #Cambia los espacios vacios por 0   ^\\s*$ es espacio vacío\n",
    "\n",
    "df_test = ordinal_encoder.fit_transform(df_test.to_numpy())\n",
    "df_test = min_max_esclaer.fit_transform(df_test)"
   ]
  },
  {
   "cell_type": "markdown",
   "metadata": {
    "id": "0ibbOlc1uvBL"
   },
   "source": [
    "##XGBOOST"
   ]
  },
  {
   "cell_type": "code",
   "execution_count": 34,
   "metadata": {
    "colab": {
     "base_uri": "https://localhost:8080/",
     "height": 330
    },
    "id": "DH9lHaMhuy2Z",
    "outputId": "77d57997-b3da-453d-93a9-bfacead0794c"
   },
   "outputs": [
    {
     "data": {
      "text/plain": "<AxesSubplot:title={'center':'Feature importance'}, xlabel='F score', ylabel='Features'>"
     },
     "execution_count": 34,
     "metadata": {},
     "output_type": "execute_result"
    },
    {
     "data": {
      "text/plain": "<Figure size 640x480 with 1 Axes>",
      "image/png": "[encoded data removed]"
     },
     "metadata": {},
     "output_type": "display_data"
    }
   ],
   "source": [
    "#X_train = df_train[['Ram', 'Memory1_storage', 'Memory1_type', 'Memory2_storage', 'Memory2_type', 'Cpu', 'Gpu', 'ScreenResolution', 'Company', 'OpSys', 'Weight', 'Product', 'Inches', 'TypeName']]\n",
    "#X_test = df_test[['Ram', 'Memory1_storage', 'Memory1_type', 'Memory2_storage', 'Memory2_type', 'Cpu', 'Gpu', 'ScreenResolution', 'Company', 'OpSys', 'Weight', 'Product', 'Inches', 'TypeName']]\n",
    "\n",
    "X_train, X_test, y_train, y_test = train_test_split(X, y, test_size=0.3, random_state=42)\n",
    "\n",
    "model = XGBRegressor()\n",
    "\n",
    "# Fitting the model\n",
    "model.fit(X_train, y_train)\n",
    "\n",
    "# Pintamos la importancia de cada una de las columnas\n",
    "\n",
    "%matplotlib inline\n",
    "xgb.plot_importance(model, ax=plt.gca())"
   ]
  },
  {
   "cell_type": "code",
   "execution_count": 35,
   "metadata": {
    "colab": {
     "base_uri": "https://localhost:8080/"
    },
    "id": "ZA9JsGezE_5T",
    "outputId": "0d20bb1e-ab3c-4305-bd75-2605f0f30123"
   },
   "outputs": [
    {
     "name": "stdout",
     "output_type": "stream",
     "text": [
      "MAE (train):  21.543744981341227\n",
      "MAE (test):  197.61036925155753\n"
     ]
    }
   ],
   "source": [
    "predTrain = model.predict(X_train)        # Predicción del Train\n",
    "pred = model.predict(X_test)              # Predicción del Test\n",
    "\n",
    "print(\"MAE (train): \", mean_absolute_error(y_train, predTrain))\n",
    "print(\"MAE (test): \", mean_absolute_error(y_test, pred))"
   ]
  },
  {
   "cell_type": "code",
   "execution_count": null,
   "metadata": {
    "colab": {
     "base_uri": "https://localhost:8080/"
    },
    "id": "uxQZZ3GSwazx",
    "outputId": "93c1dfba-f94b-46c0-d15e-57b3b0c2c215"
   },
   "outputs": [],
   "source": [
    "pred"
   ]
  },
  {
   "cell_type": "markdown",
   "metadata": {
    "id": "4kFtJCqtyjQQ"
   },
   "source": [
    "##Otras cosas:"
   ]
  },
  {
   "cell_type": "markdown",
   "metadata": {
    "id": "osUVgJwGyoOh"
   },
   "source": [
    "### Dudas:\n",
    "\n",
    "- ¿Se puede usar XGBoost para esta práctica?\n",
    "\n",
    "### Cosas que hacer (Cynthia):\n",
    "\n",
    "- Hacer lo de las Seed y eso para XGBoost\n"
   ]
  },
  {
   "cell_type": "markdown",
   "metadata": {
    "id": "Cd_yPI3YyoYA"
   },
   "source": [
    "### Bibliografía"
   ]
  },
  {
   "cell_type": "markdown",
   "metadata": {
    "id": "Cgp3cyE9jZrh"
   },
   "source": [
    "Sitios de los que he sacado infomación y otros que pueden venir bien luego\n",
    "\n",
    "\n",
    "\n",
    "split:\n",
    "\n",
    "https://www.analyticslane.com/2020/10/19/separar-texto-en-columnas-con-pandas-en-python/\n",
    "\n",
    "\n",
    "iterar elementos del Dataframe:\n",
    "\n",
    "https://www.analyticslane.com/2021/09/13/pandas-como-iterar-sobre-las-filas-de-un-dataframe-en-pandas/\n",
    "\n",
    "\n",
    "pandas:\n",
    "\n",
    "https://guias.makeitreal.camp/pandas/inspeccion-y-seleccion-de-datos\n",
    "\n",
    "\n",
    "eliminar duplicados (Aquí no hay):\n",
    "\n",
    "https://cursosinformatica.ucm.es/trial/analisis/"
   ]
  }
 ],
 "metadata": {
  "colab": {
   "collapsed_sections": [
    "Y8fsfNVb_3VN",
    "0ibbOlc1uvBL"
   ],
   "provenance": []
  },
  "kernelspec": {
   "display_name": "Python 3.9.12 64-bit ('anaconda3')",
   "language": "python",
   "name": "python3"
  },
  "language_info": {
   "codemirror_mode": {
    "name": "ipython",
    "version": 3
   },
   "file_extension": ".py",
   "mimetype": "text/x-python",
   "name": "python",
   "nbconvert_exporter": "python",
   "pygments_lexer": "ipython3",
   "version": "3.9.12"
  },
  "vscode": {
   "interpreter": {
    "hash": "e5898a40ac1bc55161c2b54e62bd79c8b1a24ee26972e08bccb36328cd6b373a"
   }
  }
 },
 "nbformat": 4,
 "nbformat_minor": 0
}
