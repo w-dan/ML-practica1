{
 "cells": [
  {
   "cell_type": "code",
   "execution_count": 53,
   "metadata": {
    "id": "w2idwO_vlVn_"
   },
   "outputs": [],
   "source": [
    "import numpy as np\n",
    "import pandas as pd\n",
    "import sklearn.compose as Compose\n",
    "\n",
    "from sklearn.preprocessing import MinMaxScaler\n",
    "from sklearn.preprocessing import OrdinalEncoder\n",
    "from sklearn.metrics import mean_absolute_error\n",
    "\n",
    "import matplotlib.pyplot as plt\n",
    "\n",
    "from sklearn.model_selection import train_test_split\n",
    "from xgboost import XGBRegressor\n",
    "import xgboost as xgb"
   ]
  },
  {
   "cell_type": "markdown",
   "metadata": {
    "id": "3-Er7lMqlmsd"
   },
   "source": [
    "Descargamos las datasets "
   ]
  },
  {
   "cell_type": "code",
   "execution_count": 54,
   "metadata": {
    "id": "J0RlYHn3luG2"
   },
   "outputs": [],
   "source": [
    "train_url = \"https://raw.githubusercontent.com/w-dan/ML-practica1/main/train.csv\"\n",
    "df_train = pd.read_csv(train_url)\n",
    "\n",
    "test_url = \"https://raw.githubusercontent.com/w-dan/ML-practica1/main/test.csv\"\n",
    "df_test = pd.read_csv(test_url)\n",
    "\n",
    "#df_test.Memory.unique()                       # Con esto vemos todos los valores posibles que tiene una columna"
   ]
  },
  {
   "cell_type": "markdown",
   "metadata": {
    "id": "jhQHMosxQGWv"
   },
   "source": [
    "## Pre-procesamiento de datos de df_train"
   ]
  },
  {
   "cell_type": "markdown",
   "metadata": {
    "id": "06l5t1IgnGns"
   },
   "source": [
    "Vamos a guardar Price en la variable \"y\" y la vamos a separar del resto de columnas. \n",
    "También vamos a eliminar la columna \"LaptopId\" porque no nos aporta nada. "
   ]
  },
  {
   "cell_type": "code",
   "execution_count": 55,
   "metadata": {
    "colab": {
     "base_uri": "https://localhost:8080/",
     "height": 424
    },
    "id": "g5TxJajpnOjE",
    "outputId": "cc49cf03-17db-4b14-f19f-f75c2f1a492f"
   },
   "outputs": [
    {
     "data": {
      "text/plain": "     Company                            Product            TypeName  Inches  \\\n0    Toshiba                  Portege Z30-C-1CV            Notebook    13.3   \n1         HP                  Spectre 13-V111dx           Ultrabook    13.3   \n2       Dell                      Inspiron 5570            Notebook    15.6   \n3         HP                     Envy 13-ad009n           Ultrabook    13.3   \n4       Dell                      Latitude 7280           Ultrabook    12.5   \n..       ...                                ...                 ...     ...   \n907     Dell                      Inspiron 5378  2 in 1 Convertible    13.3   \n908     Asus  FX753VD-GC007T (i7-7700HQ/8GB/1TB              Gaming    17.3   \n909     Dell                      Inspiron 5567            Notebook    15.6   \n910     Dell                      Inspiron 3567            Notebook    15.6   \n911   Lenovo                      Thinkpad E470            Notebook    14.0   \n\n                              ScreenResolution                          Cpu  \\\n0                            Full HD 1920x1080   Intel Core i5 6200U 2.3GHz   \n1    IPS Panel Full HD / Touchscreen 1920x1080   Intel Core i7 7500U 2.7GHz   \n2                            Full HD 1920x1080   Intel Core i7 8550U 1.8GHz   \n3                  IPS Panel Full HD 1920x1080   Intel Core i7 7500U 2.7GHz   \n4              Full HD / Touchscreen 1920x1080   Intel Core i5 7200U 2.5GHz   \n..                                         ...                          ...   \n907            Full HD / Touchscreen 1920x1080   Intel Core i5 7200U 2.5GHz   \n908                          Full HD 1920x1080  Intel Core i7 7700HQ 2.8GHz   \n909                          Full HD 1920x1080   Intel Core i7 7500U 2.7GHz   \n910                          Full HD 1920x1080   Intel Core i7 7500U 2.7GHz   \n911                IPS Panel Full HD 1920x1080   Intel Core i7 7500U 2.7GHz   \n\n      Ram                Memory                      Gpu       OpSys  Weight  \n0     4GB             128GB SSD    Intel HD Graphics 520   Windows 7   1.2kg  \n1     8GB             256GB SSD    Intel HD Graphics 620  Windows 10  1.11kg  \n2     8GB  128GB SSD +  1TB HDD   Intel UHD Graphics 620  Windows 10  2.02kg  \n3     8GB             256GB SSD     Nvidia GeForce MX150  Windows 10  1.38kg  \n4     8GB             256GB SSD        Intel HD Graphics  Windows 10  1.36kg  \n..    ...                   ...                      ...         ...     ...  \n907   8GB             256GB SSD    Intel HD Graphics 620  Windows 10  1.68kg  \n908   8GB  128GB SSD +  1TB HDD  Nvidia GeForce GTX 1050  Windows 10     3kg  \n909  16GB               2TB HDD       AMD Radeon R7 M445  Windows 10  2.32kg  \n910   8GB               1TB HDD       AMD Radeon R5 M430       Linux   2.2kg  \n911   8GB             256GB SSD     Nvidia GeForce 940MX  Windows 10  1.87kg  \n\n[912 rows x 11 columns]",
      "text/html": "<div>\n<style scoped>\n    .dataframe tbody tr th:only-of-type {\n        vertical-align: middle;\n    }\n\n    .dataframe tbody tr th {\n        vertical-align: top;\n    }\n\n    .dataframe thead th {\n        text-align: right;\n    }\n</style>\n<table border=\"1\" class=\"dataframe\">\n  <thead>\n    <tr style=\"text-align: right;\">\n      <th></th>\n      <th>Company</th>\n      <th>Product</th>\n      <th>TypeName</th>\n      <th>Inches</th>\n      <th>ScreenResolution</th>\n      <th>Cpu</th>\n      <th>Ram</th>\n      <th>Memory</th>\n      <th>Gpu</th>\n      <th>OpSys</th>\n      <th>Weight</th>\n    </tr>\n  </thead>\n  <tbody>\n    <tr>\n      <th>0</th>\n      <td>Toshiba</td>\n      <td>Portege Z30-C-1CV</td>\n      <td>Notebook</td>\n      <td>13.3</td>\n      <td>Full HD 1920x1080</td>\n      <td>Intel Core i5 6200U 2.3GHz</td>\n      <td>4GB</td>\n      <td>128GB SSD</td>\n      <td>Intel HD Graphics 520</td>\n      <td>Windows 7</td>\n      <td>1.2kg</td>\n    </tr>\n    <tr>\n      <th>1</th>\n      <td>HP</td>\n      <td>Spectre 13-V111dx</td>\n      <td>Ultrabook</td>\n      <td>13.3</td>\n      <td>IPS Panel Full HD / Touchscreen 1920x1080</td>\n      <td>Intel Core i7 7500U 2.7GHz</td>\n      <td>8GB</td>\n      <td>256GB SSD</td>\n      <td>Intel HD Graphics 620</td>\n      <td>Windows 10</td>\n      <td>1.11kg</td>\n    </tr>\n    <tr>\n      <th>2</th>\n      <td>Dell</td>\n      <td>Inspiron 5570</td>\n      <td>Notebook</td>\n      <td>15.6</td>\n      <td>Full HD 1920x1080</td>\n      <td>Intel Core i7 8550U 1.8GHz</td>\n      <td>8GB</td>\n      <td>128GB SSD +  1TB HDD</td>\n      <td>Intel UHD Graphics 620</td>\n      <td>Windows 10</td>\n      <td>2.02kg</td>\n    </tr>\n    <tr>\n      <th>3</th>\n      <td>HP</td>\n      <td>Envy 13-ad009n</td>\n      <td>Ultrabook</td>\n      <td>13.3</td>\n      <td>IPS Panel Full HD 1920x1080</td>\n      <td>Intel Core i7 7500U 2.7GHz</td>\n      <td>8GB</td>\n      <td>256GB SSD</td>\n      <td>Nvidia GeForce MX150</td>\n      <td>Windows 10</td>\n      <td>1.38kg</td>\n    </tr>\n    <tr>\n      <th>4</th>\n      <td>Dell</td>\n      <td>Latitude 7280</td>\n      <td>Ultrabook</td>\n      <td>12.5</td>\n      <td>Full HD / Touchscreen 1920x1080</td>\n      <td>Intel Core i5 7200U 2.5GHz</td>\n      <td>8GB</td>\n      <td>256GB SSD</td>\n      <td>Intel HD Graphics</td>\n      <td>Windows 10</td>\n      <td>1.36kg</td>\n    </tr>\n    <tr>\n      <th>...</th>\n      <td>...</td>\n      <td>...</td>\n      <td>...</td>\n      <td>...</td>\n      <td>...</td>\n      <td>...</td>\n      <td>...</td>\n      <td>...</td>\n      <td>...</td>\n      <td>...</td>\n      <td>...</td>\n    </tr>\n    <tr>\n      <th>907</th>\n      <td>Dell</td>\n      <td>Inspiron 5378</td>\n      <td>2 in 1 Convertible</td>\n      <td>13.3</td>\n      <td>Full HD / Touchscreen 1920x1080</td>\n      <td>Intel Core i5 7200U 2.5GHz</td>\n      <td>8GB</td>\n      <td>256GB SSD</td>\n      <td>Intel HD Graphics 620</td>\n      <td>Windows 10</td>\n      <td>1.68kg</td>\n    </tr>\n    <tr>\n      <th>908</th>\n      <td>Asus</td>\n      <td>FX753VD-GC007T (i7-7700HQ/8GB/1TB</td>\n      <td>Gaming</td>\n      <td>17.3</td>\n      <td>Full HD 1920x1080</td>\n      <td>Intel Core i7 7700HQ 2.8GHz</td>\n      <td>8GB</td>\n      <td>128GB SSD +  1TB HDD</td>\n      <td>Nvidia GeForce GTX 1050</td>\n      <td>Windows 10</td>\n      <td>3kg</td>\n    </tr>\n    <tr>\n      <th>909</th>\n      <td>Dell</td>\n      <td>Inspiron 5567</td>\n      <td>Notebook</td>\n      <td>15.6</td>\n      <td>Full HD 1920x1080</td>\n      <td>Intel Core i7 7500U 2.7GHz</td>\n      <td>16GB</td>\n      <td>2TB HDD</td>\n      <td>AMD Radeon R7 M445</td>\n      <td>Windows 10</td>\n      <td>2.32kg</td>\n    </tr>\n    <tr>\n      <th>910</th>\n      <td>Dell</td>\n      <td>Inspiron 3567</td>\n      <td>Notebook</td>\n      <td>15.6</td>\n      <td>Full HD 1920x1080</td>\n      <td>Intel Core i7 7500U 2.7GHz</td>\n      <td>8GB</td>\n      <td>1TB HDD</td>\n      <td>AMD Radeon R5 M430</td>\n      <td>Linux</td>\n      <td>2.2kg</td>\n    </tr>\n    <tr>\n      <th>911</th>\n      <td>Lenovo</td>\n      <td>Thinkpad E470</td>\n      <td>Notebook</td>\n      <td>14.0</td>\n      <td>IPS Panel Full HD 1920x1080</td>\n      <td>Intel Core i7 7500U 2.7GHz</td>\n      <td>8GB</td>\n      <td>256GB SSD</td>\n      <td>Nvidia GeForce 940MX</td>\n      <td>Windows 10</td>\n      <td>1.87kg</td>\n    </tr>\n  </tbody>\n</table>\n<p>912 rows × 11 columns</p>\n</div>"
     },
     "execution_count": 55,
     "metadata": {},
     "output_type": "execute_result"
    }
   ],
   "source": [
    "y = df_train['Price']                              # Variable objetivo\n",
    "df_train = df_train.drop('Price', axis=1)          # Todas las variables menos la variable objetivo\n",
    "index = df_train['LaptopId']\n",
    "df_train = df_train.drop('LaptopId', axis=1)       # Borramos la ID porque no aporta nada\n",
    "\n",
    "df_train    "
   ]
  },
  {
   "cell_type": "markdown",
   "metadata": {
    "id": "o6hvQATRp1a3"
   },
   "source": [
    "Como existen varios portátiles que disponen de dos tipos de memoria vamos a separar la columna \"Memory\" para distinguir entre estos tipos y su capacidad.\n",
    "Lo distinguiremos en Memory1 y Memory2, cada una de ellas estará separada en su capacidad (\"MemoryX_storage) y tipo (\"MemoryX_type\")\n",
    "\n",
    "La tercera columna no nos aporta nada así que la borramos"
   ]
  },
  {
   "cell_type": "markdown",
   "metadata": {
    "id": "TuFHY0Xfv_55"
   },
   "source": [
    "###Tratamiento \"Memory\""
   ]
  },
  {
   "cell_type": "code",
   "execution_count": 56,
   "metadata": {
    "colab": {
     "base_uri": "https://localhost:8080/",
     "height": 424
    },
    "id": "1aT0LSAKp4MG",
    "outputId": "07d99ef0-d8f9-458b-b8f3-3c5d1eefd7ce"
   },
   "outputs": [
    {
     "data": {
      "text/plain": "    Memory1_storage Memory1_type Memory2_storage Memory2_type\n0             128GB          SSD            None         None\n1             256GB          SSD            None         None\n2             128GB          SSD             1TB          HDD\n3             256GB          SSD            None         None\n4             256GB          SSD            None         None\n..              ...          ...             ...          ...\n907           256GB          SSD            None         None\n908           128GB          SSD             1TB          HDD\n909             2TB          HDD            None         None\n910             1TB          HDD            None         None\n911           256GB          SSD            None         None\n\n[912 rows x 4 columns]",
      "text/html": "<div>\n<style scoped>\n    .dataframe tbody tr th:only-of-type {\n        vertical-align: middle;\n    }\n\n    .dataframe tbody tr th {\n        vertical-align: top;\n    }\n\n    .dataframe thead th {\n        text-align: right;\n    }\n</style>\n<table border=\"1\" class=\"dataframe\">\n  <thead>\n    <tr style=\"text-align: right;\">\n      <th></th>\n      <th>Memory1_storage</th>\n      <th>Memory1_type</th>\n      <th>Memory2_storage</th>\n      <th>Memory2_type</th>\n    </tr>\n  </thead>\n  <tbody>\n    <tr>\n      <th>0</th>\n      <td>128GB</td>\n      <td>SSD</td>\n      <td>None</td>\n      <td>None</td>\n    </tr>\n    <tr>\n      <th>1</th>\n      <td>256GB</td>\n      <td>SSD</td>\n      <td>None</td>\n      <td>None</td>\n    </tr>\n    <tr>\n      <th>2</th>\n      <td>128GB</td>\n      <td>SSD</td>\n      <td>1TB</td>\n      <td>HDD</td>\n    </tr>\n    <tr>\n      <th>3</th>\n      <td>256GB</td>\n      <td>SSD</td>\n      <td>None</td>\n      <td>None</td>\n    </tr>\n    <tr>\n      <th>4</th>\n      <td>256GB</td>\n      <td>SSD</td>\n      <td>None</td>\n      <td>None</td>\n    </tr>\n    <tr>\n      <th>...</th>\n      <td>...</td>\n      <td>...</td>\n      <td>...</td>\n      <td>...</td>\n    </tr>\n    <tr>\n      <th>907</th>\n      <td>256GB</td>\n      <td>SSD</td>\n      <td>None</td>\n      <td>None</td>\n    </tr>\n    <tr>\n      <th>908</th>\n      <td>128GB</td>\n      <td>SSD</td>\n      <td>1TB</td>\n      <td>HDD</td>\n    </tr>\n    <tr>\n      <th>909</th>\n      <td>2TB</td>\n      <td>HDD</td>\n      <td>None</td>\n      <td>None</td>\n    </tr>\n    <tr>\n      <th>910</th>\n      <td>1TB</td>\n      <td>HDD</td>\n      <td>None</td>\n      <td>None</td>\n    </tr>\n    <tr>\n      <th>911</th>\n      <td>256GB</td>\n      <td>SSD</td>\n      <td>None</td>\n      <td>None</td>\n    </tr>\n  </tbody>\n</table>\n<p>912 rows × 4 columns</p>\n</div>"
     },
     "execution_count": 56,
     "metadata": {},
     "output_type": "execute_result"
    }
   ],
   "source": [
    "for index, row in df_train.iterrows():\n",
    "   df_train.loc[index, 'Memory'].replace('Storage', '')\n",
    "\n",
    "memory = df_train[\"Memory\"].str.split(expand = True)\n",
    "memory.columns = ['Memory1_storage', 'Memory1_type','borrar' ,'Memory2_storage', 'Memory2_type']\n",
    "\n",
    "memory =  memory.drop('borrar', axis=1)       # borramos la tercera columna que no nos aporta nada.\n",
    "memory"
   ]
  },
  {
   "cell_type": "markdown",
   "metadata": {
    "id": "tFrMdvo8CFob"
   },
   "source": [
    "Ahora vamos a eliminar la columna de \"Memory\" original que ya teníamos y vamos\n",
    "a concatenar la nueva tabla con la anterior\n",
    "\n",
    "Ahora vamos a convertir los TB a GB, para ello tenemos que recorrer las filas y sustituir los valores. Como el compilador no nos deja recorrer los datos si tenemos valores \"None\" vamos a convertirlo temporalmente a String para poder hacer esto.\n",
    "\n",
    "Después de convertir los distintos datos a GB, vamos a covertir los valores \"None\", ya sean String o None, a un 0.\n",
    "\n",
    "Ahora ya tendremos todos los datos de capacidad den Gigabytes"
   ]
  },
  {
   "cell_type": "code",
   "execution_count": 57,
   "metadata": {
    "colab": {
     "base_uri": "https://localhost:8080/",
     "height": 424
    },
    "id": "1QU7yqpThIFz",
    "outputId": "b476213b-733f-4657-cd8a-4816002767db"
   },
   "outputs": [
    {
     "data": {
      "text/plain": "     Company                            Product            TypeName  Inches  \\\n0    Toshiba                  Portege Z30-C-1CV            Notebook    13.3   \n1         HP                  Spectre 13-V111dx           Ultrabook    13.3   \n2       Dell                      Inspiron 5570            Notebook    15.6   \n3         HP                     Envy 13-ad009n           Ultrabook    13.3   \n4       Dell                      Latitude 7280           Ultrabook    12.5   \n..       ...                                ...                 ...     ...   \n907     Dell                      Inspiron 5378  2 in 1 Convertible    13.3   \n908     Asus  FX753VD-GC007T (i7-7700HQ/8GB/1TB              Gaming    17.3   \n909     Dell                      Inspiron 5567            Notebook    15.6   \n910     Dell                      Inspiron 3567            Notebook    15.6   \n911   Lenovo                      Thinkpad E470            Notebook    14.0   \n\n                              ScreenResolution                          Cpu  \\\n0                            Full HD 1920x1080   Intel Core i5 6200U 2.3GHz   \n1    IPS Panel Full HD / Touchscreen 1920x1080   Intel Core i7 7500U 2.7GHz   \n2                            Full HD 1920x1080   Intel Core i7 8550U 1.8GHz   \n3                  IPS Panel Full HD 1920x1080   Intel Core i7 7500U 2.7GHz   \n4              Full HD / Touchscreen 1920x1080   Intel Core i5 7200U 2.5GHz   \n..                                         ...                          ...   \n907            Full HD / Touchscreen 1920x1080   Intel Core i5 7200U 2.5GHz   \n908                          Full HD 1920x1080  Intel Core i7 7700HQ 2.8GHz   \n909                          Full HD 1920x1080   Intel Core i7 7500U 2.7GHz   \n910                          Full HD 1920x1080   Intel Core i7 7500U 2.7GHz   \n911                IPS Panel Full HD 1920x1080   Intel Core i7 7500U 2.7GHz   \n\n      Ram                      Gpu       OpSys  Weight Memory1_storage  \\\n0     4GB    Intel HD Graphics 520   Windows 7   1.2kg           128GB   \n1     8GB    Intel HD Graphics 620  Windows 10  1.11kg           256GB   \n2     8GB   Intel UHD Graphics 620  Windows 10  2.02kg           128GB   \n3     8GB     Nvidia GeForce MX150  Windows 10  1.38kg           256GB   \n4     8GB        Intel HD Graphics  Windows 10  1.36kg           256GB   \n..    ...                      ...         ...     ...             ...   \n907   8GB    Intel HD Graphics 620  Windows 10  1.68kg           256GB   \n908   8GB  Nvidia GeForce GTX 1050  Windows 10     3kg           128GB   \n909  16GB       AMD Radeon R7 M445  Windows 10  2.32kg          2048GB   \n910   8GB       AMD Radeon R5 M430       Linux   2.2kg          1024GB   \n911   8GB     Nvidia GeForce 940MX  Windows 10  1.87kg           256GB   \n\n    Memory1_type Memory2_storage Memory2_type  \n0            SSD               0            0  \n1            SSD               0            0  \n2            SSD          1024GB          HDD  \n3            SSD               0            0  \n4            SSD               0            0  \n..           ...             ...          ...  \n907          SSD               0            0  \n908          SSD          1024GB          HDD  \n909          HDD               0            0  \n910          HDD               0            0  \n911          SSD               0            0  \n\n[912 rows x 14 columns]",
      "text/html": "<div>\n<style scoped>\n    .dataframe tbody tr th:only-of-type {\n        vertical-align: middle;\n    }\n\n    .dataframe tbody tr th {\n        vertical-align: top;\n    }\n\n    .dataframe thead th {\n        text-align: right;\n    }\n</style>\n<table border=\"1\" class=\"dataframe\">\n  <thead>\n    <tr style=\"text-align: right;\">\n      <th></th>\n      <th>Company</th>\n      <th>Product</th>\n      <th>TypeName</th>\n      <th>Inches</th>\n      <th>ScreenResolution</th>\n      <th>Cpu</th>\n      <th>Ram</th>\n      <th>Gpu</th>\n      <th>OpSys</th>\n      <th>Weight</th>\n      <th>Memory1_storage</th>\n      <th>Memory1_type</th>\n      <th>Memory2_storage</th>\n      <th>Memory2_type</th>\n    </tr>\n  </thead>\n  <tbody>\n    <tr>\n      <th>0</th>\n      <td>Toshiba</td>\n      <td>Portege Z30-C-1CV</td>\n      <td>Notebook</td>\n      <td>13.3</td>\n      <td>Full HD 1920x1080</td>\n      <td>Intel Core i5 6200U 2.3GHz</td>\n      <td>4GB</td>\n      <td>Intel HD Graphics 520</td>\n      <td>Windows 7</td>\n      <td>1.2kg</td>\n      <td>128GB</td>\n      <td>SSD</td>\n      <td>0</td>\n      <td>0</td>\n    </tr>\n    <tr>\n      <th>1</th>\n      <td>HP</td>\n      <td>Spectre 13-V111dx</td>\n      <td>Ultrabook</td>\n      <td>13.3</td>\n      <td>IPS Panel Full HD / Touchscreen 1920x1080</td>\n      <td>Intel Core i7 7500U 2.7GHz</td>\n      <td>8GB</td>\n      <td>Intel HD Graphics 620</td>\n      <td>Windows 10</td>\n      <td>1.11kg</td>\n      <td>256GB</td>\n      <td>SSD</td>\n      <td>0</td>\n      <td>0</td>\n    </tr>\n    <tr>\n      <th>2</th>\n      <td>Dell</td>\n      <td>Inspiron 5570</td>\n      <td>Notebook</td>\n      <td>15.6</td>\n      <td>Full HD 1920x1080</td>\n      <td>Intel Core i7 8550U 1.8GHz</td>\n      <td>8GB</td>\n      <td>Intel UHD Graphics 620</td>\n      <td>Windows 10</td>\n      <td>2.02kg</td>\n      <td>128GB</td>\n      <td>SSD</td>\n      <td>1024GB</td>\n      <td>HDD</td>\n    </tr>\n    <tr>\n      <th>3</th>\n      <td>HP</td>\n      <td>Envy 13-ad009n</td>\n      <td>Ultrabook</td>\n      <td>13.3</td>\n      <td>IPS Panel Full HD 1920x1080</td>\n      <td>Intel Core i7 7500U 2.7GHz</td>\n      <td>8GB</td>\n      <td>Nvidia GeForce MX150</td>\n      <td>Windows 10</td>\n      <td>1.38kg</td>\n      <td>256GB</td>\n      <td>SSD</td>\n      <td>0</td>\n      <td>0</td>\n    </tr>\n    <tr>\n      <th>4</th>\n      <td>Dell</td>\n      <td>Latitude 7280</td>\n      <td>Ultrabook</td>\n      <td>12.5</td>\n      <td>Full HD / Touchscreen 1920x1080</td>\n      <td>Intel Core i5 7200U 2.5GHz</td>\n      <td>8GB</td>\n      <td>Intel HD Graphics</td>\n      <td>Windows 10</td>\n      <td>1.36kg</td>\n      <td>256GB</td>\n      <td>SSD</td>\n      <td>0</td>\n      <td>0</td>\n    </tr>\n    <tr>\n      <th>...</th>\n      <td>...</td>\n      <td>...</td>\n      <td>...</td>\n      <td>...</td>\n      <td>...</td>\n      <td>...</td>\n      <td>...</td>\n      <td>...</td>\n      <td>...</td>\n      <td>...</td>\n      <td>...</td>\n      <td>...</td>\n      <td>...</td>\n      <td>...</td>\n    </tr>\n    <tr>\n      <th>907</th>\n      <td>Dell</td>\n      <td>Inspiron 5378</td>\n      <td>2 in 1 Convertible</td>\n      <td>13.3</td>\n      <td>Full HD / Touchscreen 1920x1080</td>\n      <td>Intel Core i5 7200U 2.5GHz</td>\n      <td>8GB</td>\n      <td>Intel HD Graphics 620</td>\n      <td>Windows 10</td>\n      <td>1.68kg</td>\n      <td>256GB</td>\n      <td>SSD</td>\n      <td>0</td>\n      <td>0</td>\n    </tr>\n    <tr>\n      <th>908</th>\n      <td>Asus</td>\n      <td>FX753VD-GC007T (i7-7700HQ/8GB/1TB</td>\n      <td>Gaming</td>\n      <td>17.3</td>\n      <td>Full HD 1920x1080</td>\n      <td>Intel Core i7 7700HQ 2.8GHz</td>\n      <td>8GB</td>\n      <td>Nvidia GeForce GTX 1050</td>\n      <td>Windows 10</td>\n      <td>3kg</td>\n      <td>128GB</td>\n      <td>SSD</td>\n      <td>1024GB</td>\n      <td>HDD</td>\n    </tr>\n    <tr>\n      <th>909</th>\n      <td>Dell</td>\n      <td>Inspiron 5567</td>\n      <td>Notebook</td>\n      <td>15.6</td>\n      <td>Full HD 1920x1080</td>\n      <td>Intel Core i7 7500U 2.7GHz</td>\n      <td>16GB</td>\n      <td>AMD Radeon R7 M445</td>\n      <td>Windows 10</td>\n      <td>2.32kg</td>\n      <td>2048GB</td>\n      <td>HDD</td>\n      <td>0</td>\n      <td>0</td>\n    </tr>\n    <tr>\n      <th>910</th>\n      <td>Dell</td>\n      <td>Inspiron 3567</td>\n      <td>Notebook</td>\n      <td>15.6</td>\n      <td>Full HD 1920x1080</td>\n      <td>Intel Core i7 7500U 2.7GHz</td>\n      <td>8GB</td>\n      <td>AMD Radeon R5 M430</td>\n      <td>Linux</td>\n      <td>2.2kg</td>\n      <td>1024GB</td>\n      <td>HDD</td>\n      <td>0</td>\n      <td>0</td>\n    </tr>\n    <tr>\n      <th>911</th>\n      <td>Lenovo</td>\n      <td>Thinkpad E470</td>\n      <td>Notebook</td>\n      <td>14.0</td>\n      <td>IPS Panel Full HD 1920x1080</td>\n      <td>Intel Core i7 7500U 2.7GHz</td>\n      <td>8GB</td>\n      <td>Nvidia GeForce 940MX</td>\n      <td>Windows 10</td>\n      <td>1.87kg</td>\n      <td>256GB</td>\n      <td>SSD</td>\n      <td>0</td>\n      <td>0</td>\n    </tr>\n  </tbody>\n</table>\n<p>912 rows × 14 columns</p>\n</div>"
     },
     "execution_count": 57,
     "metadata": {},
     "output_type": "execute_result"
    }
   ],
   "source": [
    "# Modificamos la antigua columna de Memory por las que hemos creado\n",
    "\n",
    "df_train = df_train.drop('Memory', axis=1) \n",
    "df_train = pd.concat([df_train, memory], axis = 1)\n",
    "\n",
    "# Convertimos todos los None en ceros\n",
    "\n",
    "df_train['Memory2_storage'].replace(to_replace = [None], value = \"None\", inplace = True)\n",
    "df_train['Memory1_storage'].replace(to_replace = [None], value = \"None\", inplace = True)\n",
    "\n",
    "# Convertimos TB a GB\n",
    "\n",
    "for index, row in df_train.iterrows():\n",
    "   if 'TB' in row['Memory2_storage']:\n",
    "     gb = int(df_train.loc[index, 'Memory2_storage'][0])*1024 \n",
    "     df_train.loc[index, 'Memory2_storage'] = f\"{gb}GB\"\n",
    "\n",
    "\n",
    "for index, row in df_train.iterrows():\n",
    "   if 'TB' in row['Memory1_storage']:\n",
    "     gb = int(df_train.loc[index, 'Memory1_storage'][0])*1024\n",
    "     df_train.loc[index, 'Memory1_storage'] = f\"{gb}GB\"\n",
    "\n",
    "\n",
    "df_train['Memory2_storage'].replace(to_replace = [\"None\"], value = 0, inplace = True)\n",
    "df_train['Memory1_storage'].replace(to_replace = [\"None\"], value = 0, inplace = True)\n",
    "df_train['Memory2_type'].replace(to_replace = [None], value = \"0\", inplace = True)                  # El 0 lo pongo como String para que luego al convertir los datos lo haga bien\n",
    "df_train['Memory1_type'].replace(to_replace = [None], value = \"0\", inplace = True)\n",
    "\n",
    "\n",
    "df_train"
   ]
  },
  {
   "cell_type": "markdown",
   "metadata": {
    "id": "aQJVYJ937oRe"
   },
   "source": [
    "Ahora vamos a hacer como con la RAM, eliminar la subcadena \"GB\" de los discos. Para ello usamos el mismo método de antes, pero surge un problema, en los portátiles que no tienen alguno de sus discos se nos borra el valor 0.\n",
    "\n",
    "Esto tiene fácil solución, usamos una función para que nos sustituya los valores vacíos por 0."
   ]
  },
  {
   "cell_type": "markdown",
   "metadata": {
    "id": "wA6KyyMlwLAD"
   },
   "source": [
    "###Normalizando"
   ]
  },
  {
   "cell_type": "markdown",
   "metadata": {
    "id": "YPLzT0yENznp"
   },
   "source": [
    "Vamos a convertir los valores de \"Typename\", \"Company\", \"OpSys\", etc... en números para que se pueda trabajar con ellos.\n",
    "\n",
    "También vamos a eliminar \"GB\" de los elementos de la columna RAM y las memorias al igual que vamos a eliminar \"kg\" de la columna \"Weight\" para dejar sólo los números    \n",
    "\n",
    "Con las memorias surge un problema, en los portátiles que no tienen alguno de sus discos se nos borra el valor 0.\n",
    "\n",
    "Esto tiene fácil solución, usamos una función para que nos sustituya los valores vacíos por 0.\n",
    "\n",
    "Normalizamos las columnas que tenemos"
   ]
  },
  {
   "cell_type": "code",
   "execution_count": 58,
   "outputs": [],
   "source": [
    "df_train['Ram'] = df_train['Ram'].map(lambda x: str(x)[:-2])                                # Eliminamos dos últimos caracteres del contenido de 'Ram'\n",
    "df_train['Weight'] = df_train['Weight'].map(lambda x: str(x)[:-2])                          # Igual con 'Weight'\n",
    "df_train['Memory1_storage'] = df_train['Memory1_storage'].map(lambda x: str(x)[:-2])       \n",
    "df_train['Memory2_storage'] = df_train['Memory2_storage'].map(lambda x: str(x)[:-2])\n",
    "\n",
    "df_train = df_train.replace(r'^\\s*$', value = 0, regex=True)                                #Cambia los espacios vacios por 0   ^\\s*$ es espacio vacío"
   ],
   "metadata": {
    "collapsed": false
   }
  },
  {
   "cell_type": "markdown",
   "source": [
    "# Transformamos los valores del tipo de memoria para que sean tratables\n",
    "\n",
    "enc = OrdinalEncoder()\n",
    "df_train[['Memory1_type', 'Memory2_type', 'TypeName', 'Company', 'OpSys', 'Product', 'ScreenResolution', 'Cpu', 'Gpu']] = enc.fit_transform(df_train[['Memory1_type', 'Memory2_type', 'TypeName', 'Company', 'OpSys', 'Product', 'ScreenResolution', 'Cpu', 'Gpu']])\n",
    "\n",
    "# Normalizamos todos los valores númericos que tenemos de momento\n",
    "df_train[['Company', 'TypeName', 'Inches', 'Ram', 'Memory1_storage', 'Memory1_type', 'Memory2_storage', 'Memory2_type', 'OpSys', 'Weight', 'Cpu', 'Gpu', 'ScreenResolution', 'Product']] = MinMaxScaler().fit_transform(df_train[['Company', 'TypeName', 'Inches', 'Ram', 'Memory1_storage', 'Memory1_type', 'Memory2_storage', 'Memory2_type', 'OpSys', 'Weight', 'Cpu', 'Gpu', 'ScreenResolution', 'Product']])\n",
    "\n",
    "df_train"
   ],
   "metadata": {
    "collapsed": false
   }
  },
  {
   "cell_type": "markdown",
   "source": [
    "Tratamiento de la columna CPU"
   ],
   "metadata": {
    "collapsed": false
   }
  },
  {
   "cell_type": "markdown",
   "source": [
    "Primero separamos las cadenas de caracteteres"
   ],
   "metadata": {
    "collapsed": false
   }
  },
  {
   "cell_type": "code",
   "execution_count": 59,
   "outputs": [],
   "source": [
    "prueba = df_train['Cpu'].str.split()"
   ],
   "metadata": {
    "collapsed": false
   }
  },
  {
   "cell_type": "markdown",
   "source": [
    "A continuación vamos a guardar en un array la parte que queremos separar"
   ],
   "metadata": {
    "collapsed": false
   }
  },
  {
   "cell_type": "code",
   "execution_count": 60,
   "outputs": [],
   "source": [
    "Cpu_Company = [x[0] for x in prueba]\n",
    "Cpu_Model = [\" \".join(x[1:-2]) for x in prueba]\n",
    "Cpu_Frecuency = [x[-1] for x in prueba]"
   ],
   "metadata": {
    "collapsed": false
   }
  },
  {
   "cell_type": "markdown",
   "source": [
    "Después añadimos al Dataset las nuevas columnas que hemos creado"
   ],
   "metadata": {
    "collapsed": false
   }
  },
  {
   "cell_type": "code",
   "execution_count": 61,
   "outputs": [],
   "source": [
    "df_train['Cpu_Company'] = pd.DataFrame(Cpu_Company)\n",
    "df_train['Cpu_Model'] = pd.DataFrame(Cpu_Model)\n",
    "df_train['Cpu_Frecuency(GHz)'] = pd.DataFrame(Cpu_Frecuency)"
   ],
   "metadata": {
    "collapsed": false
   }
  },
  {
   "cell_type": "markdown",
   "source": [
    "Por último eliminamos las unidades de la columna de Cpu_Frecuency"
   ],
   "metadata": {
    "collapsed": false
   }
  },
  {
   "cell_type": "code",
   "execution_count": 62,
   "outputs": [
    {
     "data": {
      "text/plain": "     Company                            Product            TypeName  Inches  \\\n0    Toshiba                  Portege Z30-C-1CV            Notebook    13.3   \n1         HP                  Spectre 13-V111dx           Ultrabook    13.3   \n2       Dell                      Inspiron 5570            Notebook    15.6   \n3         HP                     Envy 13-ad009n           Ultrabook    13.3   \n4       Dell                      Latitude 7280           Ultrabook    12.5   \n..       ...                                ...                 ...     ...   \n907     Dell                      Inspiron 5378  2 in 1 Convertible    13.3   \n908     Asus  FX753VD-GC007T (i7-7700HQ/8GB/1TB              Gaming    17.3   \n909     Dell                      Inspiron 5567            Notebook    15.6   \n910     Dell                      Inspiron 3567            Notebook    15.6   \n911   Lenovo                      Thinkpad E470            Notebook    14.0   \n\n                              ScreenResolution Ram                      Gpu  \\\n0                            Full HD 1920x1080   4    Intel HD Graphics 520   \n1    IPS Panel Full HD / Touchscreen 1920x1080   8    Intel HD Graphics 620   \n2                            Full HD 1920x1080   8   Intel UHD Graphics 620   \n3                  IPS Panel Full HD 1920x1080   8     Nvidia GeForce MX150   \n4              Full HD / Touchscreen 1920x1080   8        Intel HD Graphics   \n..                                         ...  ..                      ...   \n907            Full HD / Touchscreen 1920x1080   8    Intel HD Graphics 620   \n908                          Full HD 1920x1080   8  Nvidia GeForce GTX 1050   \n909                          Full HD 1920x1080  16       AMD Radeon R7 M445   \n910                          Full HD 1920x1080   8       AMD Radeon R5 M430   \n911                IPS Panel Full HD 1920x1080   8     Nvidia GeForce 940MX   \n\n          OpSys Weight Memory1_storage Memory1_type Memory2_storage  \\\n0     Windows 7    1.2             128          SSD               0   \n1    Windows 10   1.11             256          SSD               0   \n2    Windows 10   2.02             128          SSD            1024   \n3    Windows 10   1.38             256          SSD               0   \n4    Windows 10   1.36             256          SSD               0   \n..          ...    ...             ...          ...             ...   \n907  Windows 10   1.68             256          SSD               0   \n908  Windows 10      3             128          SSD            1024   \n909  Windows 10   2.32            2048          HDD               0   \n910       Linux    2.2            1024          HDD               0   \n911  Windows 10   1.87             256          SSD               0   \n\n    Memory2_type Cpu_Company Cpu_Model Cpu_Frecuency(GHz)  \n0              0       Intel   Core i5                2.3  \n1              0       Intel   Core i7                2.7  \n2            HDD       Intel   Core i7                1.8  \n3              0       Intel   Core i7                2.7  \n4              0       Intel   Core i5                2.5  \n..           ...         ...       ...                ...  \n907            0       Intel   Core i5                2.5  \n908          HDD       Intel   Core i7                2.8  \n909            0       Intel   Core i7                2.7  \n910            0       Intel   Core i7                2.7  \n911            0       Intel   Core i7                2.7  \n\n[912 rows x 16 columns]",
      "text/html": "<div>\n<style scoped>\n    .dataframe tbody tr th:only-of-type {\n        vertical-align: middle;\n    }\n\n    .dataframe tbody tr th {\n        vertical-align: top;\n    }\n\n    .dataframe thead th {\n        text-align: right;\n    }\n</style>\n<table border=\"1\" class=\"dataframe\">\n  <thead>\n    <tr style=\"text-align: right;\">\n      <th></th>\n      <th>Company</th>\n      <th>Product</th>\n      <th>TypeName</th>\n      <th>Inches</th>\n      <th>ScreenResolution</th>\n      <th>Ram</th>\n      <th>Gpu</th>\n      <th>OpSys</th>\n      <th>Weight</th>\n      <th>Memory1_storage</th>\n      <th>Memory1_type</th>\n      <th>Memory2_storage</th>\n      <th>Memory2_type</th>\n      <th>Cpu_Company</th>\n      <th>Cpu_Model</th>\n      <th>Cpu_Frecuency(GHz)</th>\n    </tr>\n  </thead>\n  <tbody>\n    <tr>\n      <th>0</th>\n      <td>Toshiba</td>\n      <td>Portege Z30-C-1CV</td>\n      <td>Notebook</td>\n      <td>13.3</td>\n      <td>Full HD 1920x1080</td>\n      <td>4</td>\n      <td>Intel HD Graphics 520</td>\n      <td>Windows 7</td>\n      <td>1.2</td>\n      <td>128</td>\n      <td>SSD</td>\n      <td>0</td>\n      <td>0</td>\n      <td>Intel</td>\n      <td>Core i5</td>\n      <td>2.3</td>\n    </tr>\n    <tr>\n      <th>1</th>\n      <td>HP</td>\n      <td>Spectre 13-V111dx</td>\n      <td>Ultrabook</td>\n      <td>13.3</td>\n      <td>IPS Panel Full HD / Touchscreen 1920x1080</td>\n      <td>8</td>\n      <td>Intel HD Graphics 620</td>\n      <td>Windows 10</td>\n      <td>1.11</td>\n      <td>256</td>\n      <td>SSD</td>\n      <td>0</td>\n      <td>0</td>\n      <td>Intel</td>\n      <td>Core i7</td>\n      <td>2.7</td>\n    </tr>\n    <tr>\n      <th>2</th>\n      <td>Dell</td>\n      <td>Inspiron 5570</td>\n      <td>Notebook</td>\n      <td>15.6</td>\n      <td>Full HD 1920x1080</td>\n      <td>8</td>\n      <td>Intel UHD Graphics 620</td>\n      <td>Windows 10</td>\n      <td>2.02</td>\n      <td>128</td>\n      <td>SSD</td>\n      <td>1024</td>\n      <td>HDD</td>\n      <td>Intel</td>\n      <td>Core i7</td>\n      <td>1.8</td>\n    </tr>\n    <tr>\n      <th>3</th>\n      <td>HP</td>\n      <td>Envy 13-ad009n</td>\n      <td>Ultrabook</td>\n      <td>13.3</td>\n      <td>IPS Panel Full HD 1920x1080</td>\n      <td>8</td>\n      <td>Nvidia GeForce MX150</td>\n      <td>Windows 10</td>\n      <td>1.38</td>\n      <td>256</td>\n      <td>SSD</td>\n      <td>0</td>\n      <td>0</td>\n      <td>Intel</td>\n      <td>Core i7</td>\n      <td>2.7</td>\n    </tr>\n    <tr>\n      <th>4</th>\n      <td>Dell</td>\n      <td>Latitude 7280</td>\n      <td>Ultrabook</td>\n      <td>12.5</td>\n      <td>Full HD / Touchscreen 1920x1080</td>\n      <td>8</td>\n      <td>Intel HD Graphics</td>\n      <td>Windows 10</td>\n      <td>1.36</td>\n      <td>256</td>\n      <td>SSD</td>\n      <td>0</td>\n      <td>0</td>\n      <td>Intel</td>\n      <td>Core i5</td>\n      <td>2.5</td>\n    </tr>\n    <tr>\n      <th>...</th>\n      <td>...</td>\n      <td>...</td>\n      <td>...</td>\n      <td>...</td>\n      <td>...</td>\n      <td>...</td>\n      <td>...</td>\n      <td>...</td>\n      <td>...</td>\n      <td>...</td>\n      <td>...</td>\n      <td>...</td>\n      <td>...</td>\n      <td>...</td>\n      <td>...</td>\n      <td>...</td>\n    </tr>\n    <tr>\n      <th>907</th>\n      <td>Dell</td>\n      <td>Inspiron 5378</td>\n      <td>2 in 1 Convertible</td>\n      <td>13.3</td>\n      <td>Full HD / Touchscreen 1920x1080</td>\n      <td>8</td>\n      <td>Intel HD Graphics 620</td>\n      <td>Windows 10</td>\n      <td>1.68</td>\n      <td>256</td>\n      <td>SSD</td>\n      <td>0</td>\n      <td>0</td>\n      <td>Intel</td>\n      <td>Core i5</td>\n      <td>2.5</td>\n    </tr>\n    <tr>\n      <th>908</th>\n      <td>Asus</td>\n      <td>FX753VD-GC007T (i7-7700HQ/8GB/1TB</td>\n      <td>Gaming</td>\n      <td>17.3</td>\n      <td>Full HD 1920x1080</td>\n      <td>8</td>\n      <td>Nvidia GeForce GTX 1050</td>\n      <td>Windows 10</td>\n      <td>3</td>\n      <td>128</td>\n      <td>SSD</td>\n      <td>1024</td>\n      <td>HDD</td>\n      <td>Intel</td>\n      <td>Core i7</td>\n      <td>2.8</td>\n    </tr>\n    <tr>\n      <th>909</th>\n      <td>Dell</td>\n      <td>Inspiron 5567</td>\n      <td>Notebook</td>\n      <td>15.6</td>\n      <td>Full HD 1920x1080</td>\n      <td>16</td>\n      <td>AMD Radeon R7 M445</td>\n      <td>Windows 10</td>\n      <td>2.32</td>\n      <td>2048</td>\n      <td>HDD</td>\n      <td>0</td>\n      <td>0</td>\n      <td>Intel</td>\n      <td>Core i7</td>\n      <td>2.7</td>\n    </tr>\n    <tr>\n      <th>910</th>\n      <td>Dell</td>\n      <td>Inspiron 3567</td>\n      <td>Notebook</td>\n      <td>15.6</td>\n      <td>Full HD 1920x1080</td>\n      <td>8</td>\n      <td>AMD Radeon R5 M430</td>\n      <td>Linux</td>\n      <td>2.2</td>\n      <td>1024</td>\n      <td>HDD</td>\n      <td>0</td>\n      <td>0</td>\n      <td>Intel</td>\n      <td>Core i7</td>\n      <td>2.7</td>\n    </tr>\n    <tr>\n      <th>911</th>\n      <td>Lenovo</td>\n      <td>Thinkpad E470</td>\n      <td>Notebook</td>\n      <td>14.0</td>\n      <td>IPS Panel Full HD 1920x1080</td>\n      <td>8</td>\n      <td>Nvidia GeForce 940MX</td>\n      <td>Windows 10</td>\n      <td>1.87</td>\n      <td>256</td>\n      <td>SSD</td>\n      <td>0</td>\n      <td>0</td>\n      <td>Intel</td>\n      <td>Core i7</td>\n      <td>2.7</td>\n    </tr>\n  </tbody>\n</table>\n<p>912 rows × 16 columns</p>\n</div>"
     },
     "execution_count": 62,
     "metadata": {},
     "output_type": "execute_result"
    }
   ],
   "source": [
    "df_train['Cpu_Frecuency(GHz)'] = df_train['Cpu_Frecuency(GHz)'].map(lambda x: str(x)[:-3])\n",
    "df_train = df_train.drop('Cpu', axis=1)\n",
    "df_train"
   ],
   "metadata": {
    "collapsed": false
   }
  },
  {
   "cell_type": "markdown",
   "source": [
    "Ahora vamos a tratar la columna de ScreenResolution separando la resolución de la tecnología que usan. Para ello vamos a seguir el mismo procedimiento que seguimos con la columna CPU"
   ],
   "metadata": {
    "collapsed": false
   }
  },
  {
   "cell_type": "code",
   "execution_count": 63,
   "outputs": [
    {
     "data": {
      "text/plain": "     Company                            Product            TypeName  Inches  \\\n0    Toshiba                  Portege Z30-C-1CV            Notebook    13.3   \n1         HP                  Spectre 13-V111dx           Ultrabook    13.3   \n2       Dell                      Inspiron 5570            Notebook    15.6   \n3         HP                     Envy 13-ad009n           Ultrabook    13.3   \n4       Dell                      Latitude 7280           Ultrabook    12.5   \n..       ...                                ...                 ...     ...   \n907     Dell                      Inspiron 5378  2 in 1 Convertible    13.3   \n908     Asus  FX753VD-GC007T (i7-7700HQ/8GB/1TB              Gaming    17.3   \n909     Dell                      Inspiron 5567            Notebook    15.6   \n910     Dell                      Inspiron 3567            Notebook    15.6   \n911   Lenovo                      Thinkpad E470            Notebook    14.0   \n\n    Ram                      Gpu       OpSys Weight Memory1_storage  \\\n0     4    Intel HD Graphics 520   Windows 7    1.2             128   \n1     8    Intel HD Graphics 620  Windows 10   1.11             256   \n2     8   Intel UHD Graphics 620  Windows 10   2.02             128   \n3     8     Nvidia GeForce MX150  Windows 10   1.38             256   \n4     8        Intel HD Graphics  Windows 10   1.36             256   \n..   ..                      ...         ...    ...             ...   \n907   8    Intel HD Graphics 620  Windows 10   1.68             256   \n908   8  Nvidia GeForce GTX 1050  Windows 10      3             128   \n909  16       AMD Radeon R7 M445  Windows 10   2.32            2048   \n910   8       AMD Radeon R5 M430       Linux    2.2            1024   \n911   8     Nvidia GeForce 940MX  Windows 10   1.87             256   \n\n    Memory1_type Memory2_storage Memory2_type Cpu_Company Cpu_Model  \\\n0            SSD               0            0       Intel   Core i5   \n1            SSD               0            0       Intel   Core i7   \n2            SSD            1024          HDD       Intel   Core i7   \n3            SSD               0            0       Intel   Core i7   \n4            SSD               0            0       Intel   Core i5   \n..           ...             ...          ...         ...       ...   \n907          SSD               0            0       Intel   Core i5   \n908          SSD            1024          HDD       Intel   Core i7   \n909          HDD               0            0       Intel   Core i7   \n910          HDD               0            0       Intel   Core i7   \n911          SSD               0            0       Intel   Core i7   \n\n    Cpu_Frecuency(GHz) Screen_Resolution                Screen_Technology  \n0                  2.3         1920x1080                          Full HD  \n1                  2.7         1920x1080  IPS Panel Full HD / Touchscreen  \n2                  1.8         1920x1080                          Full HD  \n3                  2.7         1920x1080                IPS Panel Full HD  \n4                  2.5         1920x1080            Full HD / Touchscreen  \n..                 ...               ...                              ...  \n907                2.5         1920x1080            Full HD / Touchscreen  \n908                2.8         1920x1080                          Full HD  \n909                2.7         1920x1080                          Full HD  \n910                2.7         1920x1080                          Full HD  \n911                2.7         1920x1080                IPS Panel Full HD  \n\n[912 rows x 17 columns]",
      "text/html": "<div>\n<style scoped>\n    .dataframe tbody tr th:only-of-type {\n        vertical-align: middle;\n    }\n\n    .dataframe tbody tr th {\n        vertical-align: top;\n    }\n\n    .dataframe thead th {\n        text-align: right;\n    }\n</style>\n<table border=\"1\" class=\"dataframe\">\n  <thead>\n    <tr style=\"text-align: right;\">\n      <th></th>\n      <th>Company</th>\n      <th>Product</th>\n      <th>TypeName</th>\n      <th>Inches</th>\n      <th>Ram</th>\n      <th>Gpu</th>\n      <th>OpSys</th>\n      <th>Weight</th>\n      <th>Memory1_storage</th>\n      <th>Memory1_type</th>\n      <th>Memory2_storage</th>\n      <th>Memory2_type</th>\n      <th>Cpu_Company</th>\n      <th>Cpu_Model</th>\n      <th>Cpu_Frecuency(GHz)</th>\n      <th>Screen_Resolution</th>\n      <th>Screen_Technology</th>\n    </tr>\n  </thead>\n  <tbody>\n    <tr>\n      <th>0</th>\n      <td>Toshiba</td>\n      <td>Portege Z30-C-1CV</td>\n      <td>Notebook</td>\n      <td>13.3</td>\n      <td>4</td>\n      <td>Intel HD Graphics 520</td>\n      <td>Windows 7</td>\n      <td>1.2</td>\n      <td>128</td>\n      <td>SSD</td>\n      <td>0</td>\n      <td>0</td>\n      <td>Intel</td>\n      <td>Core i5</td>\n      <td>2.3</td>\n      <td>1920x1080</td>\n      <td>Full HD</td>\n    </tr>\n    <tr>\n      <th>1</th>\n      <td>HP</td>\n      <td>Spectre 13-V111dx</td>\n      <td>Ultrabook</td>\n      <td>13.3</td>\n      <td>8</td>\n      <td>Intel HD Graphics 620</td>\n      <td>Windows 10</td>\n      <td>1.11</td>\n      <td>256</td>\n      <td>SSD</td>\n      <td>0</td>\n      <td>0</td>\n      <td>Intel</td>\n      <td>Core i7</td>\n      <td>2.7</td>\n      <td>1920x1080</td>\n      <td>IPS Panel Full HD / Touchscreen</td>\n    </tr>\n    <tr>\n      <th>2</th>\n      <td>Dell</td>\n      <td>Inspiron 5570</td>\n      <td>Notebook</td>\n      <td>15.6</td>\n      <td>8</td>\n      <td>Intel UHD Graphics 620</td>\n      <td>Windows 10</td>\n      <td>2.02</td>\n      <td>128</td>\n      <td>SSD</td>\n      <td>1024</td>\n      <td>HDD</td>\n      <td>Intel</td>\n      <td>Core i7</td>\n      <td>1.8</td>\n      <td>1920x1080</td>\n      <td>Full HD</td>\n    </tr>\n    <tr>\n      <th>3</th>\n      <td>HP</td>\n      <td>Envy 13-ad009n</td>\n      <td>Ultrabook</td>\n      <td>13.3</td>\n      <td>8</td>\n      <td>Nvidia GeForce MX150</td>\n      <td>Windows 10</td>\n      <td>1.38</td>\n      <td>256</td>\n      <td>SSD</td>\n      <td>0</td>\n      <td>0</td>\n      <td>Intel</td>\n      <td>Core i7</td>\n      <td>2.7</td>\n      <td>1920x1080</td>\n      <td>IPS Panel Full HD</td>\n    </tr>\n    <tr>\n      <th>4</th>\n      <td>Dell</td>\n      <td>Latitude 7280</td>\n      <td>Ultrabook</td>\n      <td>12.5</td>\n      <td>8</td>\n      <td>Intel HD Graphics</td>\n      <td>Windows 10</td>\n      <td>1.36</td>\n      <td>256</td>\n      <td>SSD</td>\n      <td>0</td>\n      <td>0</td>\n      <td>Intel</td>\n      <td>Core i5</td>\n      <td>2.5</td>\n      <td>1920x1080</td>\n      <td>Full HD / Touchscreen</td>\n    </tr>\n    <tr>\n      <th>...</th>\n      <td>...</td>\n      <td>...</td>\n      <td>...</td>\n      <td>...</td>\n      <td>...</td>\n      <td>...</td>\n      <td>...</td>\n      <td>...</td>\n      <td>...</td>\n      <td>...</td>\n      <td>...</td>\n      <td>...</td>\n      <td>...</td>\n      <td>...</td>\n      <td>...</td>\n      <td>...</td>\n      <td>...</td>\n    </tr>\n    <tr>\n      <th>907</th>\n      <td>Dell</td>\n      <td>Inspiron 5378</td>\n      <td>2 in 1 Convertible</td>\n      <td>13.3</td>\n      <td>8</td>\n      <td>Intel HD Graphics 620</td>\n      <td>Windows 10</td>\n      <td>1.68</td>\n      <td>256</td>\n      <td>SSD</td>\n      <td>0</td>\n      <td>0</td>\n      <td>Intel</td>\n      <td>Core i5</td>\n      <td>2.5</td>\n      <td>1920x1080</td>\n      <td>Full HD / Touchscreen</td>\n    </tr>\n    <tr>\n      <th>908</th>\n      <td>Asus</td>\n      <td>FX753VD-GC007T (i7-7700HQ/8GB/1TB</td>\n      <td>Gaming</td>\n      <td>17.3</td>\n      <td>8</td>\n      <td>Nvidia GeForce GTX 1050</td>\n      <td>Windows 10</td>\n      <td>3</td>\n      <td>128</td>\n      <td>SSD</td>\n      <td>1024</td>\n      <td>HDD</td>\n      <td>Intel</td>\n      <td>Core i7</td>\n      <td>2.8</td>\n      <td>1920x1080</td>\n      <td>Full HD</td>\n    </tr>\n    <tr>\n      <th>909</th>\n      <td>Dell</td>\n      <td>Inspiron 5567</td>\n      <td>Notebook</td>\n      <td>15.6</td>\n      <td>16</td>\n      <td>AMD Radeon R7 M445</td>\n      <td>Windows 10</td>\n      <td>2.32</td>\n      <td>2048</td>\n      <td>HDD</td>\n      <td>0</td>\n      <td>0</td>\n      <td>Intel</td>\n      <td>Core i7</td>\n      <td>2.7</td>\n      <td>1920x1080</td>\n      <td>Full HD</td>\n    </tr>\n    <tr>\n      <th>910</th>\n      <td>Dell</td>\n      <td>Inspiron 3567</td>\n      <td>Notebook</td>\n      <td>15.6</td>\n      <td>8</td>\n      <td>AMD Radeon R5 M430</td>\n      <td>Linux</td>\n      <td>2.2</td>\n      <td>1024</td>\n      <td>HDD</td>\n      <td>0</td>\n      <td>0</td>\n      <td>Intel</td>\n      <td>Core i7</td>\n      <td>2.7</td>\n      <td>1920x1080</td>\n      <td>Full HD</td>\n    </tr>\n    <tr>\n      <th>911</th>\n      <td>Lenovo</td>\n      <td>Thinkpad E470</td>\n      <td>Notebook</td>\n      <td>14.0</td>\n      <td>8</td>\n      <td>Nvidia GeForce 940MX</td>\n      <td>Windows 10</td>\n      <td>1.87</td>\n      <td>256</td>\n      <td>SSD</td>\n      <td>0</td>\n      <td>0</td>\n      <td>Intel</td>\n      <td>Core i7</td>\n      <td>2.7</td>\n      <td>1920x1080</td>\n      <td>IPS Panel Full HD</td>\n    </tr>\n  </tbody>\n</table>\n<p>912 rows × 17 columns</p>\n</div>"
     },
     "execution_count": 63,
     "metadata": {},
     "output_type": "execute_result"
    }
   ],
   "source": [
    "prueba = df_train['ScreenResolution'].str.split()\n",
    "screen_resolution = [x[-1:] for x in prueba]\n",
    "screen_tecnology = [\" \".join(x[0:-1]) for x in prueba]\n",
    "df_train['Screen_Resolution'] = pd.DataFrame(screen_resolution)\n",
    "df_train['Screen_Technology'] = pd.DataFrame(screen_tecnology)\n",
    "df_train = df_train.drop('ScreenResolution', axis=1)\n",
    "df_train"
   ],
   "metadata": {
    "collapsed": false
   }
  },
  {
   "cell_type": "code",
   "execution_count": 71,
   "outputs": [
    {
     "data": {
      "text/plain": "     Company                            Product            TypeName  Inches  \\\n0    Toshiba                  Portege Z30-C-1CV            Notebook    13.3   \n1         HP                  Spectre 13-V111dx           Ultrabook    13.3   \n2       Dell                      Inspiron 5570            Notebook    15.6   \n3         HP                     Envy 13-ad009n           Ultrabook    13.3   \n4       Dell                      Latitude 7280           Ultrabook    12.5   \n..       ...                                ...                 ...     ...   \n907     Dell                      Inspiron 5378  2 in 1 Convertible    13.3   \n908     Asus  FX753VD-GC007T (i7-7700HQ/8GB/1TB              Gaming    17.3   \n909     Dell                      Inspiron 5567            Notebook    15.6   \n910     Dell                      Inspiron 3567            Notebook    15.6   \n911   Lenovo                      Thinkpad E470            Notebook    14.0   \n\n    Ram       OpSys Weight Memory1_storage Memory1_type Memory2_storage  \\\n0     4   Windows 7    1.2             128          SSD               0   \n1     8  Windows 10   1.11             256          SSD               0   \n2     8  Windows 10   2.02             128          SSD            1024   \n3     8  Windows 10   1.38             256          SSD               0   \n4     8  Windows 10   1.36             256          SSD               0   \n..   ..         ...    ...             ...          ...             ...   \n907   8  Windows 10   1.68             256          SSD               0   \n908   8  Windows 10      3             128          SSD            1024   \n909  16  Windows 10   2.32            2048          HDD               0   \n910   8       Linux    2.2            1024          HDD               0   \n911   8  Windows 10   1.87             256          SSD               0   \n\n    Memory2_type Cpu_Company Cpu_Model Cpu_Frecuency(GHz) Screen_Resolution  \\\n0              0       Intel   Core i5                2.3         1920x1080   \n1              0       Intel   Core i7                2.7         1920x1080   \n2            HDD       Intel   Core i7                1.8         1920x1080   \n3              0       Intel   Core i7                2.7         1920x1080   \n4              0       Intel   Core i5                2.5         1920x1080   \n..           ...         ...       ...                ...               ...   \n907            0       Intel   Core i5                2.5         1920x1080   \n908          HDD       Intel   Core i7                2.8         1920x1080   \n909            0       Intel   Core i7                2.7         1920x1080   \n910            0       Intel   Core i7                2.7         1920x1080   \n911            0       Intel   Core i7                2.7         1920x1080   \n\n                   Screen_Technology Gpu_Company         Gpu_Model  \n0                            Full HD       Intel   HD Graphics 520  \n1    IPS Panel Full HD / Touchscreen       Intel   HD Graphics 620  \n2                            Full HD       Intel  UHD Graphics 620  \n3                  IPS Panel Full HD      Nvidia     GeForce MX150  \n4              Full HD / Touchscreen       Intel       HD Graphics  \n..                               ...         ...               ...  \n907            Full HD / Touchscreen       Intel   HD Graphics 620  \n908                          Full HD      Nvidia  GeForce GTX 1050  \n909                          Full HD         AMD    Radeon R7 M445  \n910                          Full HD         AMD    Radeon R5 M430  \n911                IPS Panel Full HD      Nvidia     GeForce 940MX  \n\n[912 rows x 18 columns]",
      "text/html": "<div>\n<style scoped>\n    .dataframe tbody tr th:only-of-type {\n        vertical-align: middle;\n    }\n\n    .dataframe tbody tr th {\n        vertical-align: top;\n    }\n\n    .dataframe thead th {\n        text-align: right;\n    }\n</style>\n<table border=\"1\" class=\"dataframe\">\n  <thead>\n    <tr style=\"text-align: right;\">\n      <th></th>\n      <th>Company</th>\n      <th>Product</th>\n      <th>TypeName</th>\n      <th>Inches</th>\n      <th>Ram</th>\n      <th>OpSys</th>\n      <th>Weight</th>\n      <th>Memory1_storage</th>\n      <th>Memory1_type</th>\n      <th>Memory2_storage</th>\n      <th>Memory2_type</th>\n      <th>Cpu_Company</th>\n      <th>Cpu_Model</th>\n      <th>Cpu_Frecuency(GHz)</th>\n      <th>Screen_Resolution</th>\n      <th>Screen_Technology</th>\n      <th>Gpu_Company</th>\n      <th>Gpu_Model</th>\n    </tr>\n  </thead>\n  <tbody>\n    <tr>\n      <th>0</th>\n      <td>Toshiba</td>\n      <td>Portege Z30-C-1CV</td>\n      <td>Notebook</td>\n      <td>13.3</td>\n      <td>4</td>\n      <td>Windows 7</td>\n      <td>1.2</td>\n      <td>128</td>\n      <td>SSD</td>\n      <td>0</td>\n      <td>0</td>\n      <td>Intel</td>\n      <td>Core i5</td>\n      <td>2.3</td>\n      <td>1920x1080</td>\n      <td>Full HD</td>\n      <td>Intel</td>\n      <td>HD Graphics 520</td>\n    </tr>\n    <tr>\n      <th>1</th>\n      <td>HP</td>\n      <td>Spectre 13-V111dx</td>\n      <td>Ultrabook</td>\n      <td>13.3</td>\n      <td>8</td>\n      <td>Windows 10</td>\n      <td>1.11</td>\n      <td>256</td>\n      <td>SSD</td>\n      <td>0</td>\n      <td>0</td>\n      <td>Intel</td>\n      <td>Core i7</td>\n      <td>2.7</td>\n      <td>1920x1080</td>\n      <td>IPS Panel Full HD / Touchscreen</td>\n      <td>Intel</td>\n      <td>HD Graphics 620</td>\n    </tr>\n    <tr>\n      <th>2</th>\n      <td>Dell</td>\n      <td>Inspiron 5570</td>\n      <td>Notebook</td>\n      <td>15.6</td>\n      <td>8</td>\n      <td>Windows 10</td>\n      <td>2.02</td>\n      <td>128</td>\n      <td>SSD</td>\n      <td>1024</td>\n      <td>HDD</td>\n      <td>Intel</td>\n      <td>Core i7</td>\n      <td>1.8</td>\n      <td>1920x1080</td>\n      <td>Full HD</td>\n      <td>Intel</td>\n      <td>UHD Graphics 620</td>\n    </tr>\n    <tr>\n      <th>3</th>\n      <td>HP</td>\n      <td>Envy 13-ad009n</td>\n      <td>Ultrabook</td>\n      <td>13.3</td>\n      <td>8</td>\n      <td>Windows 10</td>\n      <td>1.38</td>\n      <td>256</td>\n      <td>SSD</td>\n      <td>0</td>\n      <td>0</td>\n      <td>Intel</td>\n      <td>Core i7</td>\n      <td>2.7</td>\n      <td>1920x1080</td>\n      <td>IPS Panel Full HD</td>\n      <td>Nvidia</td>\n      <td>GeForce MX150</td>\n    </tr>\n    <tr>\n      <th>4</th>\n      <td>Dell</td>\n      <td>Latitude 7280</td>\n      <td>Ultrabook</td>\n      <td>12.5</td>\n      <td>8</td>\n      <td>Windows 10</td>\n      <td>1.36</td>\n      <td>256</td>\n      <td>SSD</td>\n      <td>0</td>\n      <td>0</td>\n      <td>Intel</td>\n      <td>Core i5</td>\n      <td>2.5</td>\n      <td>1920x1080</td>\n      <td>Full HD / Touchscreen</td>\n      <td>Intel</td>\n      <td>HD Graphics</td>\n    </tr>\n    <tr>\n      <th>...</th>\n      <td>...</td>\n      <td>...</td>\n      <td>...</td>\n      <td>...</td>\n      <td>...</td>\n      <td>...</td>\n      <td>...</td>\n      <td>...</td>\n      <td>...</td>\n      <td>...</td>\n      <td>...</td>\n      <td>...</td>\n      <td>...</td>\n      <td>...</td>\n      <td>...</td>\n      <td>...</td>\n      <td>...</td>\n      <td>...</td>\n    </tr>\n    <tr>\n      <th>907</th>\n      <td>Dell</td>\n      <td>Inspiron 5378</td>\n      <td>2 in 1 Convertible</td>\n      <td>13.3</td>\n      <td>8</td>\n      <td>Windows 10</td>\n      <td>1.68</td>\n      <td>256</td>\n      <td>SSD</td>\n      <td>0</td>\n      <td>0</td>\n      <td>Intel</td>\n      <td>Core i5</td>\n      <td>2.5</td>\n      <td>1920x1080</td>\n      <td>Full HD / Touchscreen</td>\n      <td>Intel</td>\n      <td>HD Graphics 620</td>\n    </tr>\n    <tr>\n      <th>908</th>\n      <td>Asus</td>\n      <td>FX753VD-GC007T (i7-7700HQ/8GB/1TB</td>\n      <td>Gaming</td>\n      <td>17.3</td>\n      <td>8</td>\n      <td>Windows 10</td>\n      <td>3</td>\n      <td>128</td>\n      <td>SSD</td>\n      <td>1024</td>\n      <td>HDD</td>\n      <td>Intel</td>\n      <td>Core i7</td>\n      <td>2.8</td>\n      <td>1920x1080</td>\n      <td>Full HD</td>\n      <td>Nvidia</td>\n      <td>GeForce GTX 1050</td>\n    </tr>\n    <tr>\n      <th>909</th>\n      <td>Dell</td>\n      <td>Inspiron 5567</td>\n      <td>Notebook</td>\n      <td>15.6</td>\n      <td>16</td>\n      <td>Windows 10</td>\n      <td>2.32</td>\n      <td>2048</td>\n      <td>HDD</td>\n      <td>0</td>\n      <td>0</td>\n      <td>Intel</td>\n      <td>Core i7</td>\n      <td>2.7</td>\n      <td>1920x1080</td>\n      <td>Full HD</td>\n      <td>AMD</td>\n      <td>Radeon R7 M445</td>\n    </tr>\n    <tr>\n      <th>910</th>\n      <td>Dell</td>\n      <td>Inspiron 3567</td>\n      <td>Notebook</td>\n      <td>15.6</td>\n      <td>8</td>\n      <td>Linux</td>\n      <td>2.2</td>\n      <td>1024</td>\n      <td>HDD</td>\n      <td>0</td>\n      <td>0</td>\n      <td>Intel</td>\n      <td>Core i7</td>\n      <td>2.7</td>\n      <td>1920x1080</td>\n      <td>Full HD</td>\n      <td>AMD</td>\n      <td>Radeon R5 M430</td>\n    </tr>\n    <tr>\n      <th>911</th>\n      <td>Lenovo</td>\n      <td>Thinkpad E470</td>\n      <td>Notebook</td>\n      <td>14.0</td>\n      <td>8</td>\n      <td>Windows 10</td>\n      <td>1.87</td>\n      <td>256</td>\n      <td>SSD</td>\n      <td>0</td>\n      <td>0</td>\n      <td>Intel</td>\n      <td>Core i7</td>\n      <td>2.7</td>\n      <td>1920x1080</td>\n      <td>IPS Panel Full HD</td>\n      <td>Nvidia</td>\n      <td>GeForce 940MX</td>\n    </tr>\n  </tbody>\n</table>\n<p>912 rows × 18 columns</p>\n</div>"
     },
     "execution_count": 71,
     "metadata": {},
     "output_type": "execute_result"
    }
   ],
   "source": [
    "prueba = df_train['Gpu'].str.split()\n",
    "Gpu_Company = [x[0] for x in prueba]\n",
    "Gpu_Model = [\" \".join(x[1:]) for x in prueba]\n",
    "df_train['Gpu_Company'] = pd.DataFrame(Gpu_Company)\n",
    "df_train['Gpu_Model'] = pd.DataFrame(Gpu_Model)\n",
    "df_train = df_train.drop('Gpu', axis=1)\n",
    "df_train"
   ],
   "metadata": {
    "collapsed": false
   }
  },
  {
   "cell_type": "markdown",
   "source": [
    "Preprocesamiento"
   ],
   "metadata": {
    "collapsed": false
   }
  },
  {
   "cell_type": "code",
   "execution_count": 72,
   "outputs": [
    {
     "data": {
      "text/plain": "array(['Portege Z30-C-1CV', 'Spectre 13-V111dx', 'Inspiron 5570',\n       'Envy 13-ad009n', 'Latitude 7280',\n       'B51-80 (i7-6500U/8GB/1008GB/Radeon', 'IdeaPad 320-15ISK',\n       'ZenBook UX410UA-GV183T', 'G752VY-GC162T (i7-6700HQ/16GB/1TB',\n       'Surface Laptop', 'Zenbook 3', 'V131 (X5-Z8350/4GB/32GB/FHD/W10)',\n       'GS63VR 7RF', '17-bs000nv I3', 'ProBook 450', 'Probook 430',\n       'Aspire 3', 'Yoga 910-13IKB', 'ThinkPad T470s', 'Probook 640',\n       'XPS 13', 'Omen 15-AX205na', 'Aspire 5', 'MacBook 12\"',\n       'K146 (N3350/4GB/32GB/W10)', '250 G6', '250 G5', 'Inspiron 3567',\n       'IdeaPad 320-15IKBN', 'Thinkpad X270', 'ROG Strix',\n       'ROG GL703VD-GC028T', 'Inspiron 5379',\n       'A541NA-GO342 (N3350/4GB/500GB/Linux)', 'ProBook 430',\n       'SmartBook 140', 'Stream 14-AX040wm',\n       'V330-15IKB (i5-8250U/8GB/256GB/FHD/W10)', 'Aspire ES1-523',\n       'Thinkpad E470', 'ThinkPad P51s', 'Zbook 17', 'Chromebook Plus',\n       'Q524UQ-BHI7T15 (i7-7500U/12GB/2TB/GeForce',\n       'E402WA-GA010T (E2-6110/2GB/32GB/W10)', 'VivoBook Pro',\n       'EliteBook 850', 'Rog G701VIK-BA060T', 'Blade Pro',\n       'Legion Y520-15IKBN', '17-ak001nv (A6-9220/4GB/500GB/Radeon',\n       'Vostro 3568', 'ProBook 470', 'FX502VM-DM560T (i7-7700HQ/8GB/1TB',\n       '15-bs002nv (i3-6006U/4GB/128GB/FHD/W10)', 'Zenbook UX430UA',\n       'E5 774G', 'TMX349-G2-M-50FS (i5-7200U/8GB/256GB/FHD/W10)',\n       'SP315-51 (i7-7500U/12GB/1TB/FHD/W10)', 'Thinkpad P51',\n       '15-BW037na (A9-9420/4GB/1TB/Radeon', 'EliteBook 820',\n       'Portege A30-C-1CZ', 'Pavilion X360', 'N23 (N3060/4GB/128GB/W10)',\n       'ProBook 650', 'GL553VE-FY082T (i7-7700HQ/8GB/1TB',\n       'Rog GL752VW-T4308T', 'Alienware 17', 'Inspiron 7567',\n       'Spectre x360', 'Envy 13-AD007nv', 'Thinkpad X1', 'Inspiron 7378',\n       'IdeaPad 100S-14IBR', 'Thinkpad T460', 'IdeaPad 320-15ABR',\n       'VivoBook L402NA', 'Tecra A50-D-11D', 'ZBook 15', 'Vostro 5468',\n       '15-ra044nv (N3060/4GB/500GB/W10)', 'VivoBook S15', 'Vostro 5568',\n       'Inspiron 5567', 'Inspiron 5770', 'SmartBook 141',\n       'Tecra A40-C-1E5', 'GE72MVR 7RG', 'Pixelbook (Core',\n       'Portege Z30-C-16H', 'Thinkpad T570', 'Spin 5',\n       '15-BS078nr (i7-7500U/8GB/1TB/W10)', 'Inspiron 5577',\n       'IdeaPad Y700-15ISK', 'Rog GL753VE-DS74', 'IdeaPad 300-17ISK',\n       'Portege Z30T-C-133', 'ThinkPad T570', 'FlexBook Edge',\n       'Yoga 520-14IKB', 'VivoBook Max', 'Yoga 900-13ISK',\n       'Latitude E7270', 'X541NA (N3350/4GB/1TB/FHD/W10)',\n       'Elitebook 820', 'V330-15IKB (i5-8250U/4GB/256GB/FHD/W10)',\n       'GP62 7RDX', 'Swift 3',\n       'FX753VD-GC071T (i7-7700HQ/8GB/1TB/GeForce',\n       '15-AC110nv (i7-6500U/6GB/1TB/Radeon', 'SmartBook Edge',\n       'Omen 17-w207nv', 'Inspiron 5579',\n       'X541UV-DM1439T (i3-7100U/6GB/256GB/GeForce', 'ProBook x360',\n       'IdeaPad 510-15IKB', 'EliteBook 840', 'Latitude 5480',\n       'GS63VR 6RF', '17-BS092ND (i3-6006U/8GB/256GB/W10)', 'Rog GL502VS',\n       'VivoBook X540YA-XX519T', 'Lifebook A557', 'ProBook 440',\n       'Pavilion 15-AW003nv', 'V310-15ISK (i3-6006U/4GB/1TB/FHD/W10)',\n       'Aspire A315-51', 'Rog G752VT-GC073T', 'Vostro 5370',\n       'Tecra A50-C-21G', 'Thinkpad 13', 'Yoga 920-13IKB', 'PL60 7RD',\n       'ROG G752VSK-GC493T', 'Probook 450', 'Yoga 900S-12ISK',\n       'Latitude 5580', 'GT72VR Dominator', 'Satellite Pro',\n       'MacBook Pro', 'IdeaPad Y900-17ISK', 'Aspire E5-576G',\n       'Notebook 9', 'Yoga 720-15IKB', 'IdeaPad 320-15IKB',\n       'Lapbook 15,6', 'Yoga 700-11ISK', 'Latitude 3380', 'Yoga Book',\n       'GL62M 7RDX', 'MateBook X', 'ThinkPad Yoga',\n       'FX502VM-AS73 (i7-7700HQ/16GB/1TB', 'XPS 15',\n       '15-cb003na (i5-7300HQ/8GB/1TB', 'MacBook Air', 'GS40 Phantom',\n       '255 G6', 'Tecra A40-C-1DF', 'Precision 7720', 'IdeaPad 310-15IKB',\n       'Extensa EX2540', 'Vivobook X541UV-DM1217T', 'ROG G701VI',\n       'IdeaPad 120S-14IAP', 'Inspiron 5578', 'IdeaPad 320s-14IKB',\n       'Portege X30-D-10V', '15-BW091ND (A9-9420/6GB/1TB',\n       'Pro P2540UA-AB51', 'GL72M 7RDX', 'SmartBook 130', 'Latitude 5490',\n       'K556UR-DM621T (i7-7500U/8GB/256GB/GeForce', 'Ideapad 320-15IKBR',\n       'Latitude E5570', 'Inspiron 5370', 'Pro P2540UA-XO0198T',\n       'Aspire R7', 'Probook 440', 'Elitebook 840', 'Rog GL753VD-GC042T',\n       'GT62VR 6RD', 'Portege X30-D-10L', 'Latitude 7480',\n       'Pavilion Power', 'Envy 17-U275cl',\n       'V110-15ISK (i3-6006U/4GB/128GB/W10)', 'Vivobook Max',\n       'Thinkpad T470', '15-bw002nv (A6-9220/4GB/256GB/Radeon',\n       '17-X047na (i3-6006U/8GB/1TB/W10)', 'IdeaPad 320-15IAP',\n       'V310-15ISK (i5-7200U/8GB/1TB',\n       '110-15ACL (A6-7310/4GB/500GB/W10)',\n       'X556UJ-XO044T (i7-6500U/4GB/500GB/GeForce', 'Thinkpad P50',\n       'GV62M 7RD', 'Inspiron 5368', 'Blade Stealth', 'GE73VR 7RF',\n       'Rog Strix', 'V330-15IKB (i3-7130U/4GB/128GB/FHD/W10)',\n       'EliteBook x360', 'VivoBook S14',\n       '15-bs023nv (i3-6006U/4GB/1TB/FHD/W10)', 'Yoga 730',\n       'Inspiron 3552', 'X751NV-TY001T (N4200/4GB/1TB/GeForce',\n       'Aspire A515-51G', 'ThinkPad X1', 'GL62M (i5-7300HQ/8GB/1TB',\n       'Zenbook UX510UW-FI095T', 'Gram 15Z975',\n       '15-bw000nv (E2-9000e/4GB/500GB/Radeon',\n       '320-15ISK (i3-6006U/4GB/1TB/GeForce', 'ThinkPad X270',\n       'IdeaPad 310-15ABR', 'Yoga 500-14ISK', 'Chromebook 14',\n       'Stream 14-AX001nv', 'ProBook 640', 'Inspiron 3576', 'Vostro 3559',\n       'GL62M 7RD', 'Inspiron 7579', 'ZenBook UX510UX-CN211T',\n       'Ideapad 700-15ISK', 'Inspiron 5568', 'ZenBook UX305CA-UBM1',\n       'ROG Zephyrus', 'Thinkpad Yoga', 'Precision 3520',\n       'Spectre 13-V100nv', 'V110-15ISK (3855U/4GB/500GB/W10)',\n       'EliteBook 1040', 'Omen -', 'Insprion 5767',\n       '15-BA015wm (E2-7110/4GB/500GB/W10)', 'ZenBook UX310UQ-GL026T',\n       'Elitebook 1040', 'UX510UX-CN269T (i7-7500U/8GB/256GB',\n       'Chromebook N23', 'LifeBook A557',\n       '15-cd005nv (A9-9420/6GB/256GB/Radeon', 'Yoga 500-14IBD',\n       'Mi Notebook', '14-am079na (N3710/8GB/2TB/W10)',\n       'IdeaPad Y700-15ACZ', 'B51-80 (i7-6500U/4GB/1008GB/FHD/W7)',\n       '15-bw007nv (A10-9620P/6GB/128GB/Radeon', 'IdeaPad 110-17ACL',\n       'UX430UQ-GV209R (i7-7500U/8GB/256GB/GeForce', 'Omen 17-an006nv',\n       'Rog G752VS-BA171T', 'Flex 5', 'Inspiron 3179',\n       '17-BS037cl (i3-6006U/8GB/1TB/W10)', 'TravelMate P238-M',\n       'IdeaPad 320-17IKB', 'Omen 17-W006na', 'Aspire A715-71G',\n       'Aspire A517-51G', '15-bs018nq (i3-6006U/4GB/500GB/FHD/No',\n       'Inspiron 7570', 'Latitude 3580', 'GS73VR Stealth',\n       'Thinkpad T460s', 'ZBook 15u', 'Rog GL502VM-DS74',\n       'X751NV-TY001 (N4200/4GB/1TB/GeForce', 'Envy 13-AB020nr',\n       'ROG G703VI-E5062T', 'Inspiron 7577',\n       'V510-15IKB (i5-7200U/8GB/256GB/FHD/No', 'ThinkPad T560',\n       'Legion Y720-15IKB', 'IdeaPad 320-15AST', 'Aspire ES1-572',\n       'VivoBook E403NA', 'X751SV-TY001T (N3710/4GB/1TB/GeForce',\n       'IdeaPad 320-17ISK', 'Stream 11-Y000na', 'Pro P2540UA-XS51',\n       'TravelMate B', 'ThinkPad 13',\n       'X505BP-BR019T (A9-9420/4GB/1TB/Radeon', 'Aspire E5-774G',\n       'Chromebook X360', 'Tecra A50-C-218', 'GL62 6QF',\n       'Ideapad 310-15ISK', 'IdeaPad 310-15ISK', 'Tecra A40-C-1KF',\n       'ThinkPad T470', 'Tecra Z40-C-12X', 'Spectre Pro',\n       '15-BW094nd (A6-9220/8GB/128GB/W10)', 'Chromebook CB5-571-C1DZ',\n       'Nitro AN515-51', 'Aspire ES1-533', 'Rog G752VL-UH71T',\n       'V110-15ISK (i5-6200U/4GB/128GB/W10)', 'Elitebook Folio',\n       'Aspire A515-51G-37JS', 'Gram 15Z970', 'ZenBook 3',\n       'Pavilion 15-CK000nv', 'Rog GL553VE-DS74', 'Spin SP111-31',\n       'Chromebook 13', 'FX753VD-GC086T (i5-7300HQ/8GB/1TB',\n       'Yoga 500-15ISK', 'Aspire E5-575', 'Chromebook 11',\n       'FX753VE-GC155T (i7-7700HQ/16GB/1TB', 'ZenBook UX310UA-FB485T',\n       'VivoBook E12', 'Portege Z30-C-16L', 'Latitude 3480', 'GS73VR 7RG',\n       'Rog GL552VW-CN470T', 'Inspiron 7773', 'Tecra Z40-C-12Z',\n       'ThinkPad E570', 'X555QG-DM242T (A10-9620P/4GB/1TB',\n       'Yoga 720-13IKB', 'Stream 14-AX000nv', 'TravelMate B117-M',\n       'EliteBook 1030', 'Macbook Air', 'VivoBook Flip',\n       '15-BS103nv (i5-8250U/6GB/256GB/Radeon', 'Portégé Z30-C-16K',\n       'Tecra A50-D-11M', 'LifeBook A556', 'GT73VR Titan', 'Zenbook Flip',\n       'Rog GL753VD-GC082T', 'IdeaPad Y910-17ISK', 'GL72M 7REX',\n       '15-bs053od (i7-7500U/6GB/1TB/W10)', 'ThinkPad E480',\n       'IdeaPad 110-15ISK', 'X541NA-GO020T (N3350/4GB/1TB/W10)',\n       'Gram 14Z970', 'Tecra Z50-C-140',\n       'SP714-51 (i7-7Y75/8GB/256GB/FHD/W10)', 'Probook 470',\n       'R558UA-DM966T (i5-7200U/8GB/128GB/FHD/W10)', 'IdeaPad 720S-13IKB',\n       'Tecra X40-D-10G', 'Lenovo IdeaPad', 'Tecra Z50-C-144',\n       'Vivobook E200HA', 'Tecra Z40-C-136',\n       'V110-15ISK (i3-6006U/4GB/1TB/No', 'Tecra Z50-D-10E',\n       'ZenBook UX430UA', 'Inspiron 3168', 'Ideapad 320-15IAP',\n       'Inspiron 7559', 'Aspire ES1-531', 'ThinkPad T460s', 'GE62 Apache',\n       'GP62MVR 6RF', 'GP62M Leopard',\n       'X553SA-XX031T (N3050/4GB/500GB/W10)', 'ZBook 17', 'ThinkPad L570',\n       'GS60 Ghost', '17-AK091ND (A9-9420/8GB/1TB/W10)', 'Latitude 5590',\n       'Aspire 7', 'C740-C9QX (3205U/2GB/32GB/Chrome', 'ThinkPad L470',\n       'GL62M 7REX', 'Tecra Z40-C-161', 'Elitebook 850',\n       'Chromebook Flip', 'Pavilion x360', 'GE73VR 7RE', 'Precision 3510',\n       'Aspire A515-51G-59QF', 'GV62 7RD-1686NL', 'IdeaPad 320-17IKBR',\n       'Thinkpad L560', 'Thinkpad T470p', 'Yoga 510-15IKB',\n       'ZenBook Flip', 'Latitude E5270', 'Pavilion 15-cb003nv',\n       'ThinkPad P51', 'IdeaPad 510s-14IKB', 'VivoBook E201NA',\n       'Swift SF114-31-P5HY', 'Rog G752VY-GC229T', 'Precision 5520',\n       'Rog GL753VE-GC070T', 'GE63VR 7RF', '250 G4',\n       '15-bs017nv (i7-7500U/8GB/256GB/Radeon',\n       '15-BS028nv (i3-6006U/4GB/1TB/Radeon',\n       'V110-15ISK (i3-6006U/4GB/500GB/W10)',\n       '15-ba043na (A12-9700P/8GB/2TB/W10)', 'Pavilion 14-BK001nv',\n       'UX410UA-GV097T (i3-7100U/4GB/256GB/FHD/W10)', 'Swift 7',\n       'Omen 17-an012dx', 'Thinkpad P51s', 'GT72S Dominator',\n       'X541NA (N4200/4GB/1TB/W10)', 'Aspire VX5-591G',\n       'V310-15ISK (i5-6200U/4GB/1TB/FHD/No',\n       'FX753VE-GC093 (i7-7700HQ/12GB/1TB/GeForce', 'Zbook 15',\n       'GP62M 7REX', 'Aspire 1', 'ThinkPad T470p',\n       'A715-71G-59DH (i5-7300HQ/8GB/1TB/GeForce', 'Thinkpad X260',\n       'CB5-132T-C9KK (N3160/4GB/32GB/Chrome', 'Rog GL702VS-BA023T',\n       'Probook 650', 'ThinkPad P40', 'ThinkPad T460',\n       'Chromebook C202SA', 'ThinkPad L460',\n       'X542UQ-DM117 (i3-7100U/8GB/1TB/GeForce', 'Chromebook C910-C2ST',\n       'FX553VD-FY647T (i7-7700HQ/8GB/256GB/GeForce',\n       '15-rb013nv (E2-9000e/4GB/500GB/W10)',\n       '15-bs024nv (i5-7200U/8GB/128GB/W10)', 'Rog GL702VM-GC017T',\n       'Precision 7520', 'V310-15IKB (i7-7500U/4GB/1TB/FHD/W10)',\n       'Vostro 5471', 'Portege Z30-C-16J',\n       'FX553VD-DM627T (i5-7300HQ/8GB/1TB', 'Ideapad 320-15ISK',\n       'E402WA-GA007T (E2-6110/4GB/64GB/W10', 'IdeaPad 110-15IBR',\n       'GT80S 6QE', 'Nitro 5', 'Latitude E7470', 'Predator 17',\n       'Ideapad 510S-13IKB', 'Predator G9-793', 'Portege X30-D-10K',\n       'Thinkpad T470s', 'Rog GL702VM-GC354T',\n       'FX550IK-DM018T (FX-9830P/8GB/1TB/Radeon',\n       'K147 (N3350/4GB/32GB/FHD/W10)', 'Chromebook 3',\n       '15-BS026nv (i5-7200U/8GB/256GB/Radeon',\n       '15-AY023na (N3710/8GB/2TB/W10)', 'Aspire A315-31',\n       'G701VO-IH74K (i7-6820HK/32GB/2x', 'Omen 17-W295',\n       '15-BS101nv (i7-8550U/8GB/256GB/FHD/W10)', 'GT62VR 7RE',\n       'Q534UX-BHI7T19 (i7-7500U/16GB/2TB',\n       '17-bs001nv (i5-7200U/6GB/2TB/Radeon',\n       'TP501UA-CJ131T (i5-7200U/8GB/1TB/W10)', 'Precision M5520',\n       'FX753VD-GC461T (i7-7700HQ/16GB/1TB', 'Zenbook UX390UA',\n       'X541NA-GO414T (N3350/8GB/1TB/W10)', 'GE72VR 6RF',\n       'Omen 17-w212nv', 'V330-15IKB (i7-8550U/8GB/256GB/FHD/W10)',\n       'R417NA-RS01 (N3350/4GB/32GB/W10)', 'Latitude E5470',\n       'X541NA-GO121 (N4200/4GB/1TB/Linux)', 'ZenBook Pro',\n       'Thinkpad T460p', 'Rog GL552VW-DM201T', 'Inspiron 5378',\n       'FX753VD-GC007T (i7-7700HQ/8GB/1TB'], dtype=object)"
     },
     "execution_count": 72,
     "metadata": {},
     "output_type": "execute_result"
    }
   ],
   "source": [
    "df_train['Product'].unique()"
   ],
   "metadata": {
    "collapsed": false
   }
  },
  {
   "cell_type": "code",
   "execution_count": null,
   "outputs": [],
   "source": [
    "column_transformer = Compose.ColumnTransformer(transformers=[\n",
    "    (\"Company\", OrdinalEncoder(), [0])\n",
    "])"
   ],
   "metadata": {
    "collapsed": false
   }
  },
  {
   "cell_type": "markdown",
   "metadata": {
    "id": "cKQpcY3oQS2p"
   },
   "source": [
    "## Pre-procesamiento de datos de df_test"
   ]
  },
  {
   "cell_type": "code",
   "execution_count": 64,
   "metadata": {
    "colab": {
     "base_uri": "https://localhost:8080/",
     "height": 424
    },
    "id": "cUsKJFPmQoec",
    "outputId": "231205af-1fdd-42db-8d08-d4467cc27341"
   },
   "outputs": [
    {
     "data": {
      "text/plain": "    Company                                    Product            TypeName  \\\n0        HP                                  Envy x360  2 in 1 Convertible   \n1    Lenovo                                ThinkPad X1  2 in 1 Convertible   \n2      Acer                        Aspire F5-573G-510L            Notebook   \n3      Asus  FX502VM-DM105T (i7-6700HQ/8GB/1TB/GeForce              Gaming   \n4        HP                              EliteBook 850           Ultrabook   \n..      ...                                        ...                 ...   \n386      HP                                Probook 470            Notebook   \n387    Dell                              Inspiron 3552            Notebook   \n388    Asus                        ZenBook UX530UQ-PRO           Ultrabook   \n389    Dell                              Inspiron 3576            Notebook   \n390      HP                                ProBook 430            Notebook   \n\n     Inches                  ScreenResolution  \\\n0      13.3  Quad HD+ / Touchscreen 3200x1800   \n1      14.0   IPS Panel Touchscreen 2560x1440   \n2      15.6                 Full HD 1920x1080   \n3      15.6                 Full HD 1920x1080   \n4      15.6                 Full HD 1920x1080   \n..      ...                               ...   \n386    17.3                 Full HD 1920x1080   \n387    15.6                          1366x768   \n388    15.6                 Full HD 1920x1080   \n389    15.6                 Full HD 1920x1080   \n390    13.3       IPS Panel Full HD 1920x1080   \n\n                                      Cpu   Ram                Memory  \\\n0              Intel Core i7 7500U 2.7GHz  16GB             256GB SSD   \n1              Intel Core i7 6500U 2.5GHz   8GB             256GB SSD   \n2              Intel Core i5 7200U 2.5GHz  12GB  128GB SSD +  1TB HDD   \n3             Intel Core i7 6700HQ 2.6GHz   8GB               1TB HDD   \n4              Intel Core i7 6500U 2.5GHz   8GB             256GB SSD   \n..                                    ...   ...                   ...   \n386            Intel Core i7 8550U 1.8GHz   8GB               1TB HDD   \n387  Intel Celeron Dual Core N3050 1.6GHz   2GB             500GB HDD   \n388            Intel Core i7 7500U 2.7GHz  16GB             512GB SSD   \n389            Intel Core i5 8250U 1.6GHz   8GB             256GB SSD   \n390            Intel Core i5 8250U 1.6GHz   4GB             500GB HDD   \n\n                         Gpu       OpSys  Weight  \n0      Intel HD Graphics 620  Windows 10  1.42kg  \n1      Intel HD Graphics 520  Windows 10  1.27kg  \n2    Nvidia GeForce GTX 950M  Windows 10   2.4kg  \n3    Nvidia GeForce GTX 1060  Windows 10   2.2kg  \n4      Intel HD Graphics 520   Windows 7  1.88kg  \n..                       ...         ...     ...  \n386    Nvidia GeForce 930MX   Windows 10   2.5kg  \n387        Intel HD Graphics  Windows 10  2.20kg  \n388     Nvidia GeForce 940MX  Windows 10  1.63kg  \n389           AMD Radeon 520  Windows 10  2.13kg  \n390   Intel UHD Graphics 620  Windows 10  1.49kg  \n\n[391 rows x 11 columns]",
      "text/html": "<div>\n<style scoped>\n    .dataframe tbody tr th:only-of-type {\n        vertical-align: middle;\n    }\n\n    .dataframe tbody tr th {\n        vertical-align: top;\n    }\n\n    .dataframe thead th {\n        text-align: right;\n    }\n</style>\n<table border=\"1\" class=\"dataframe\">\n  <thead>\n    <tr style=\"text-align: right;\">\n      <th></th>\n      <th>Company</th>\n      <th>Product</th>\n      <th>TypeName</th>\n      <th>Inches</th>\n      <th>ScreenResolution</th>\n      <th>Cpu</th>\n      <th>Ram</th>\n      <th>Memory</th>\n      <th>Gpu</th>\n      <th>OpSys</th>\n      <th>Weight</th>\n    </tr>\n  </thead>\n  <tbody>\n    <tr>\n      <th>0</th>\n      <td>HP</td>\n      <td>Envy x360</td>\n      <td>2 in 1 Convertible</td>\n      <td>13.3</td>\n      <td>Quad HD+ / Touchscreen 3200x1800</td>\n      <td>Intel Core i7 7500U 2.7GHz</td>\n      <td>16GB</td>\n      <td>256GB SSD</td>\n      <td>Intel HD Graphics 620</td>\n      <td>Windows 10</td>\n      <td>1.42kg</td>\n    </tr>\n    <tr>\n      <th>1</th>\n      <td>Lenovo</td>\n      <td>ThinkPad X1</td>\n      <td>2 in 1 Convertible</td>\n      <td>14.0</td>\n      <td>IPS Panel Touchscreen 2560x1440</td>\n      <td>Intel Core i7 6500U 2.5GHz</td>\n      <td>8GB</td>\n      <td>256GB SSD</td>\n      <td>Intel HD Graphics 520</td>\n      <td>Windows 10</td>\n      <td>1.27kg</td>\n    </tr>\n    <tr>\n      <th>2</th>\n      <td>Acer</td>\n      <td>Aspire F5-573G-510L</td>\n      <td>Notebook</td>\n      <td>15.6</td>\n      <td>Full HD 1920x1080</td>\n      <td>Intel Core i5 7200U 2.5GHz</td>\n      <td>12GB</td>\n      <td>128GB SSD +  1TB HDD</td>\n      <td>Nvidia GeForce GTX 950M</td>\n      <td>Windows 10</td>\n      <td>2.4kg</td>\n    </tr>\n    <tr>\n      <th>3</th>\n      <td>Asus</td>\n      <td>FX502VM-DM105T (i7-6700HQ/8GB/1TB/GeForce</td>\n      <td>Gaming</td>\n      <td>15.6</td>\n      <td>Full HD 1920x1080</td>\n      <td>Intel Core i7 6700HQ 2.6GHz</td>\n      <td>8GB</td>\n      <td>1TB HDD</td>\n      <td>Nvidia GeForce GTX 1060</td>\n      <td>Windows 10</td>\n      <td>2.2kg</td>\n    </tr>\n    <tr>\n      <th>4</th>\n      <td>HP</td>\n      <td>EliteBook 850</td>\n      <td>Ultrabook</td>\n      <td>15.6</td>\n      <td>Full HD 1920x1080</td>\n      <td>Intel Core i7 6500U 2.5GHz</td>\n      <td>8GB</td>\n      <td>256GB SSD</td>\n      <td>Intel HD Graphics 520</td>\n      <td>Windows 7</td>\n      <td>1.88kg</td>\n    </tr>\n    <tr>\n      <th>...</th>\n      <td>...</td>\n      <td>...</td>\n      <td>...</td>\n      <td>...</td>\n      <td>...</td>\n      <td>...</td>\n      <td>...</td>\n      <td>...</td>\n      <td>...</td>\n      <td>...</td>\n      <td>...</td>\n    </tr>\n    <tr>\n      <th>386</th>\n      <td>HP</td>\n      <td>Probook 470</td>\n      <td>Notebook</td>\n      <td>17.3</td>\n      <td>Full HD 1920x1080</td>\n      <td>Intel Core i7 8550U 1.8GHz</td>\n      <td>8GB</td>\n      <td>1TB HDD</td>\n      <td>Nvidia GeForce 930MX</td>\n      <td>Windows 10</td>\n      <td>2.5kg</td>\n    </tr>\n    <tr>\n      <th>387</th>\n      <td>Dell</td>\n      <td>Inspiron 3552</td>\n      <td>Notebook</td>\n      <td>15.6</td>\n      <td>1366x768</td>\n      <td>Intel Celeron Dual Core N3050 1.6GHz</td>\n      <td>2GB</td>\n      <td>500GB HDD</td>\n      <td>Intel HD Graphics</td>\n      <td>Windows 10</td>\n      <td>2.20kg</td>\n    </tr>\n    <tr>\n      <th>388</th>\n      <td>Asus</td>\n      <td>ZenBook UX530UQ-PRO</td>\n      <td>Ultrabook</td>\n      <td>15.6</td>\n      <td>Full HD 1920x1080</td>\n      <td>Intel Core i7 7500U 2.7GHz</td>\n      <td>16GB</td>\n      <td>512GB SSD</td>\n      <td>Nvidia GeForce 940MX</td>\n      <td>Windows 10</td>\n      <td>1.63kg</td>\n    </tr>\n    <tr>\n      <th>389</th>\n      <td>Dell</td>\n      <td>Inspiron 3576</td>\n      <td>Notebook</td>\n      <td>15.6</td>\n      <td>Full HD 1920x1080</td>\n      <td>Intel Core i5 8250U 1.6GHz</td>\n      <td>8GB</td>\n      <td>256GB SSD</td>\n      <td>AMD Radeon 520</td>\n      <td>Windows 10</td>\n      <td>2.13kg</td>\n    </tr>\n    <tr>\n      <th>390</th>\n      <td>HP</td>\n      <td>ProBook 430</td>\n      <td>Notebook</td>\n      <td>13.3</td>\n      <td>IPS Panel Full HD 1920x1080</td>\n      <td>Intel Core i5 8250U 1.6GHz</td>\n      <td>4GB</td>\n      <td>500GB HDD</td>\n      <td>Intel UHD Graphics 620</td>\n      <td>Windows 10</td>\n      <td>1.49kg</td>\n    </tr>\n  </tbody>\n</table>\n<p>391 rows × 11 columns</p>\n</div>"
     },
     "execution_count": 64,
     "metadata": {},
     "output_type": "execute_result"
    }
   ],
   "source": [
    "df_test = df_test.drop('LaptopId', axis=1)       # Borramos la ID porque no aporta nada\n",
    "\n",
    "df_test"
   ]
  },
  {
   "cell_type": "markdown",
   "metadata": {
    "id": "-OFt6vyZw93U"
   },
   "source": [
    "###Tratamiento \"Memory\""
   ]
  },
  {
   "cell_type": "markdown",
   "metadata": {
    "id": "ecg0pEMyQ1Tz"
   },
   "source": [
    "Como existen varios portátiles que disponen de dos tipos de memoria vamos a separar la columna \"Memory\" para distinguir entre estos tipos y su capacidad. Lo distinguiremos en Memory1 y Memory2, cada una de ellas estará separada en su capacidad (\"MemoryX_storage) y tipo (\"MemoryX_type\")\n",
    "\n",
    "La tercera columna no nos aporta nada así que la borramos"
   ]
  },
  {
   "cell_type": "code",
   "execution_count": 65,
   "metadata": {
    "colab": {
     "base_uri": "https://localhost:8080/",
     "height": 424
    },
    "id": "Dvnn8qFEQ2hL",
    "outputId": "67cb7240-8d50-450e-dac2-03c09809a42b"
   },
   "outputs": [
    {
     "data": {
      "text/plain": "    Memory1_storage Memory1_type Memory2_storage Memory2_type\n0             256GB          SSD            None         None\n1             256GB          SSD            None         None\n2             128GB          SSD             1TB          HDD\n3               1TB          HDD            None         None\n4             256GB          SSD            None         None\n..              ...          ...             ...          ...\n386             1TB          HDD            None         None\n387           500GB          HDD            None         None\n388           512GB          SSD            None         None\n389           256GB          SSD            None         None\n390           500GB          HDD            None         None\n\n[391 rows x 4 columns]",
      "text/html": "<div>\n<style scoped>\n    .dataframe tbody tr th:only-of-type {\n        vertical-align: middle;\n    }\n\n    .dataframe tbody tr th {\n        vertical-align: top;\n    }\n\n    .dataframe thead th {\n        text-align: right;\n    }\n</style>\n<table border=\"1\" class=\"dataframe\">\n  <thead>\n    <tr style=\"text-align: right;\">\n      <th></th>\n      <th>Memory1_storage</th>\n      <th>Memory1_type</th>\n      <th>Memory2_storage</th>\n      <th>Memory2_type</th>\n    </tr>\n  </thead>\n  <tbody>\n    <tr>\n      <th>0</th>\n      <td>256GB</td>\n      <td>SSD</td>\n      <td>None</td>\n      <td>None</td>\n    </tr>\n    <tr>\n      <th>1</th>\n      <td>256GB</td>\n      <td>SSD</td>\n      <td>None</td>\n      <td>None</td>\n    </tr>\n    <tr>\n      <th>2</th>\n      <td>128GB</td>\n      <td>SSD</td>\n      <td>1TB</td>\n      <td>HDD</td>\n    </tr>\n    <tr>\n      <th>3</th>\n      <td>1TB</td>\n      <td>HDD</td>\n      <td>None</td>\n      <td>None</td>\n    </tr>\n    <tr>\n      <th>4</th>\n      <td>256GB</td>\n      <td>SSD</td>\n      <td>None</td>\n      <td>None</td>\n    </tr>\n    <tr>\n      <th>...</th>\n      <td>...</td>\n      <td>...</td>\n      <td>...</td>\n      <td>...</td>\n    </tr>\n    <tr>\n      <th>386</th>\n      <td>1TB</td>\n      <td>HDD</td>\n      <td>None</td>\n      <td>None</td>\n    </tr>\n    <tr>\n      <th>387</th>\n      <td>500GB</td>\n      <td>HDD</td>\n      <td>None</td>\n      <td>None</td>\n    </tr>\n    <tr>\n      <th>388</th>\n      <td>512GB</td>\n      <td>SSD</td>\n      <td>None</td>\n      <td>None</td>\n    </tr>\n    <tr>\n      <th>389</th>\n      <td>256GB</td>\n      <td>SSD</td>\n      <td>None</td>\n      <td>None</td>\n    </tr>\n    <tr>\n      <th>390</th>\n      <td>500GB</td>\n      <td>HDD</td>\n      <td>None</td>\n      <td>None</td>\n    </tr>\n  </tbody>\n</table>\n<p>391 rows × 4 columns</p>\n</div>"
     },
     "execution_count": 65,
     "metadata": {},
     "output_type": "execute_result"
    }
   ],
   "source": [
    "for index, row in df_test.iterrows():\n",
    "  df_test.loc[index, 'Memory'] = df_test.loc[index, 'Memory'].replace(\"Storage\", \"\")\n",
    "\n",
    "memoryt = df_test[\"Memory\"].str.split(expand = True)\n",
    "memoryt.columns = ['Memory1_storage', 'Memory1_type','borrar' ,'Memory2_storage', 'Memory2_type']\n",
    "\n",
    "memoryt =  memoryt.drop('borrar', axis=1)       # borramos la tercera columna que no nos aporta nada.\n",
    "memoryt"
   ]
  },
  {
   "cell_type": "markdown",
   "metadata": {
    "id": "UnJAb3-7RVGZ"
   },
   "source": [
    "Ahora vamos a convertir los TB a GB, para ello tenemos que recorrer las filas y sustituir los valores. Como el compilador no nos deja recorrer los datos si tenemos valores \"None\" vamos a convertirlo temporalmente a String para poder hacer esto.\n",
    "\n",
    "Después de convertir los distintos datos a GB, vamos a covertir los valores \"None\", ya sean String o None, a un 0.\n",
    "\n",
    "Ahora ya tendremos todos los datos de capacidad den Gigabytes"
   ]
  },
  {
   "cell_type": "code",
   "execution_count": 66,
   "metadata": {
    "colab": {
     "base_uri": "https://localhost:8080/",
     "height": 424
    },
    "id": "zhT37cnzRWhG",
    "outputId": "4d879547-a2ff-4414-a1e4-29e5ba694543"
   },
   "outputs": [
    {
     "data": {
      "text/plain": "    Company                                    Product            TypeName  \\\n0        HP                                  Envy x360  2 in 1 Convertible   \n1    Lenovo                                ThinkPad X1  2 in 1 Convertible   \n2      Acer                        Aspire F5-573G-510L            Notebook   \n3      Asus  FX502VM-DM105T (i7-6700HQ/8GB/1TB/GeForce              Gaming   \n4        HP                              EliteBook 850           Ultrabook   \n..      ...                                        ...                 ...   \n386      HP                                Probook 470            Notebook   \n387    Dell                              Inspiron 3552            Notebook   \n388    Asus                        ZenBook UX530UQ-PRO           Ultrabook   \n389    Dell                              Inspiron 3576            Notebook   \n390      HP                                ProBook 430            Notebook   \n\n     Inches                  ScreenResolution  \\\n0      13.3  Quad HD+ / Touchscreen 3200x1800   \n1      14.0   IPS Panel Touchscreen 2560x1440   \n2      15.6                 Full HD 1920x1080   \n3      15.6                 Full HD 1920x1080   \n4      15.6                 Full HD 1920x1080   \n..      ...                               ...   \n386    17.3                 Full HD 1920x1080   \n387    15.6                          1366x768   \n388    15.6                 Full HD 1920x1080   \n389    15.6                 Full HD 1920x1080   \n390    13.3       IPS Panel Full HD 1920x1080   \n\n                                      Cpu   Ram                      Gpu  \\\n0              Intel Core i7 7500U 2.7GHz  16GB    Intel HD Graphics 620   \n1              Intel Core i7 6500U 2.5GHz   8GB    Intel HD Graphics 520   \n2              Intel Core i5 7200U 2.5GHz  12GB  Nvidia GeForce GTX 950M   \n3             Intel Core i7 6700HQ 2.6GHz   8GB  Nvidia GeForce GTX 1060   \n4              Intel Core i7 6500U 2.5GHz   8GB    Intel HD Graphics 520   \n..                                    ...   ...                      ...   \n386            Intel Core i7 8550U 1.8GHz   8GB    Nvidia GeForce 930MX    \n387  Intel Celeron Dual Core N3050 1.6GHz   2GB        Intel HD Graphics   \n388            Intel Core i7 7500U 2.7GHz  16GB     Nvidia GeForce 940MX   \n389            Intel Core i5 8250U 1.6GHz   8GB           AMD Radeon 520   \n390            Intel Core i5 8250U 1.6GHz   4GB   Intel UHD Graphics 620   \n\n          OpSys  Weight Memory1_storage Memory1_type Memory2_storage  \\\n0    Windows 10  1.42kg           256GB          SSD               0   \n1    Windows 10  1.27kg           256GB          SSD               0   \n2    Windows 10   2.4kg           128GB          SSD          1024GB   \n3    Windows 10   2.2kg          1024GB          HDD               0   \n4     Windows 7  1.88kg           256GB          SSD               0   \n..          ...     ...             ...          ...             ...   \n386  Windows 10   2.5kg          1024GB          HDD               0   \n387  Windows 10  2.20kg           500GB          HDD               0   \n388  Windows 10  1.63kg           512GB          SSD               0   \n389  Windows 10  2.13kg           256GB          SSD               0   \n390  Windows 10  1.49kg           500GB          HDD               0   \n\n    Memory2_type  \n0              0  \n1              0  \n2            HDD  \n3              0  \n4              0  \n..           ...  \n386            0  \n387            0  \n388            0  \n389            0  \n390            0  \n\n[391 rows x 14 columns]",
      "text/html": "<div>\n<style scoped>\n    .dataframe tbody tr th:only-of-type {\n        vertical-align: middle;\n    }\n\n    .dataframe tbody tr th {\n        vertical-align: top;\n    }\n\n    .dataframe thead th {\n        text-align: right;\n    }\n</style>\n<table border=\"1\" class=\"dataframe\">\n  <thead>\n    <tr style=\"text-align: right;\">\n      <th></th>\n      <th>Company</th>\n      <th>Product</th>\n      <th>TypeName</th>\n      <th>Inches</th>\n      <th>ScreenResolution</th>\n      <th>Cpu</th>\n      <th>Ram</th>\n      <th>Gpu</th>\n      <th>OpSys</th>\n      <th>Weight</th>\n      <th>Memory1_storage</th>\n      <th>Memory1_type</th>\n      <th>Memory2_storage</th>\n      <th>Memory2_type</th>\n    </tr>\n  </thead>\n  <tbody>\n    <tr>\n      <th>0</th>\n      <td>HP</td>\n      <td>Envy x360</td>\n      <td>2 in 1 Convertible</td>\n      <td>13.3</td>\n      <td>Quad HD+ / Touchscreen 3200x1800</td>\n      <td>Intel Core i7 7500U 2.7GHz</td>\n      <td>16GB</td>\n      <td>Intel HD Graphics 620</td>\n      <td>Windows 10</td>\n      <td>1.42kg</td>\n      <td>256GB</td>\n      <td>SSD</td>\n      <td>0</td>\n      <td>0</td>\n    </tr>\n    <tr>\n      <th>1</th>\n      <td>Lenovo</td>\n      <td>ThinkPad X1</td>\n      <td>2 in 1 Convertible</td>\n      <td>14.0</td>\n      <td>IPS Panel Touchscreen 2560x1440</td>\n      <td>Intel Core i7 6500U 2.5GHz</td>\n      <td>8GB</td>\n      <td>Intel HD Graphics 520</td>\n      <td>Windows 10</td>\n      <td>1.27kg</td>\n      <td>256GB</td>\n      <td>SSD</td>\n      <td>0</td>\n      <td>0</td>\n    </tr>\n    <tr>\n      <th>2</th>\n      <td>Acer</td>\n      <td>Aspire F5-573G-510L</td>\n      <td>Notebook</td>\n      <td>15.6</td>\n      <td>Full HD 1920x1080</td>\n      <td>Intel Core i5 7200U 2.5GHz</td>\n      <td>12GB</td>\n      <td>Nvidia GeForce GTX 950M</td>\n      <td>Windows 10</td>\n      <td>2.4kg</td>\n      <td>128GB</td>\n      <td>SSD</td>\n      <td>1024GB</td>\n      <td>HDD</td>\n    </tr>\n    <tr>\n      <th>3</th>\n      <td>Asus</td>\n      <td>FX502VM-DM105T (i7-6700HQ/8GB/1TB/GeForce</td>\n      <td>Gaming</td>\n      <td>15.6</td>\n      <td>Full HD 1920x1080</td>\n      <td>Intel Core i7 6700HQ 2.6GHz</td>\n      <td>8GB</td>\n      <td>Nvidia GeForce GTX 1060</td>\n      <td>Windows 10</td>\n      <td>2.2kg</td>\n      <td>1024GB</td>\n      <td>HDD</td>\n      <td>0</td>\n      <td>0</td>\n    </tr>\n    <tr>\n      <th>4</th>\n      <td>HP</td>\n      <td>EliteBook 850</td>\n      <td>Ultrabook</td>\n      <td>15.6</td>\n      <td>Full HD 1920x1080</td>\n      <td>Intel Core i7 6500U 2.5GHz</td>\n      <td>8GB</td>\n      <td>Intel HD Graphics 520</td>\n      <td>Windows 7</td>\n      <td>1.88kg</td>\n      <td>256GB</td>\n      <td>SSD</td>\n      <td>0</td>\n      <td>0</td>\n    </tr>\n    <tr>\n      <th>...</th>\n      <td>...</td>\n      <td>...</td>\n      <td>...</td>\n      <td>...</td>\n      <td>...</td>\n      <td>...</td>\n      <td>...</td>\n      <td>...</td>\n      <td>...</td>\n      <td>...</td>\n      <td>...</td>\n      <td>...</td>\n      <td>...</td>\n      <td>...</td>\n    </tr>\n    <tr>\n      <th>386</th>\n      <td>HP</td>\n      <td>Probook 470</td>\n      <td>Notebook</td>\n      <td>17.3</td>\n      <td>Full HD 1920x1080</td>\n      <td>Intel Core i7 8550U 1.8GHz</td>\n      <td>8GB</td>\n      <td>Nvidia GeForce 930MX</td>\n      <td>Windows 10</td>\n      <td>2.5kg</td>\n      <td>1024GB</td>\n      <td>HDD</td>\n      <td>0</td>\n      <td>0</td>\n    </tr>\n    <tr>\n      <th>387</th>\n      <td>Dell</td>\n      <td>Inspiron 3552</td>\n      <td>Notebook</td>\n      <td>15.6</td>\n      <td>1366x768</td>\n      <td>Intel Celeron Dual Core N3050 1.6GHz</td>\n      <td>2GB</td>\n      <td>Intel HD Graphics</td>\n      <td>Windows 10</td>\n      <td>2.20kg</td>\n      <td>500GB</td>\n      <td>HDD</td>\n      <td>0</td>\n      <td>0</td>\n    </tr>\n    <tr>\n      <th>388</th>\n      <td>Asus</td>\n      <td>ZenBook UX530UQ-PRO</td>\n      <td>Ultrabook</td>\n      <td>15.6</td>\n      <td>Full HD 1920x1080</td>\n      <td>Intel Core i7 7500U 2.7GHz</td>\n      <td>16GB</td>\n      <td>Nvidia GeForce 940MX</td>\n      <td>Windows 10</td>\n      <td>1.63kg</td>\n      <td>512GB</td>\n      <td>SSD</td>\n      <td>0</td>\n      <td>0</td>\n    </tr>\n    <tr>\n      <th>389</th>\n      <td>Dell</td>\n      <td>Inspiron 3576</td>\n      <td>Notebook</td>\n      <td>15.6</td>\n      <td>Full HD 1920x1080</td>\n      <td>Intel Core i5 8250U 1.6GHz</td>\n      <td>8GB</td>\n      <td>AMD Radeon 520</td>\n      <td>Windows 10</td>\n      <td>2.13kg</td>\n      <td>256GB</td>\n      <td>SSD</td>\n      <td>0</td>\n      <td>0</td>\n    </tr>\n    <tr>\n      <th>390</th>\n      <td>HP</td>\n      <td>ProBook 430</td>\n      <td>Notebook</td>\n      <td>13.3</td>\n      <td>IPS Panel Full HD 1920x1080</td>\n      <td>Intel Core i5 8250U 1.6GHz</td>\n      <td>4GB</td>\n      <td>Intel UHD Graphics 620</td>\n      <td>Windows 10</td>\n      <td>1.49kg</td>\n      <td>500GB</td>\n      <td>HDD</td>\n      <td>0</td>\n      <td>0</td>\n    </tr>\n  </tbody>\n</table>\n<p>391 rows × 14 columns</p>\n</div>"
     },
     "execution_count": 66,
     "metadata": {},
     "output_type": "execute_result"
    }
   ],
   "source": [
    "# Sustituimos la antigua columna de Memory por las creadas anteriormente\n",
    "\n",
    "df_test = df_test.drop('Memory', axis=1) \n",
    "df_test = pd.concat([df_test, memoryt], axis = 1)\n",
    "df_test\n",
    "\n",
    "# Convertimos todos los None en ceros\n",
    "\n",
    "df_test['Memory2_storage'].replace(to_replace = [None], value = \"None\", inplace = True)\n",
    "df_test['Memory1_storage'].replace(to_replace = [None], value = \"None\", inplace = True)\n",
    "\n",
    "# Convertimos de TB a GB\n",
    "\n",
    "for index, row in df_test.iterrows():\n",
    "   if 'TB' in row['Memory2_storage']:\n",
    "     gb = int(df_test.loc[index, 'Memory2_storage'][0])*1024 \n",
    "     df_test.loc[index, 'Memory2_storage'] = f\"{gb}GB\"\n",
    "\n",
    "\n",
    "for index, row in df_test.iterrows():\n",
    "   if 'TB' in row['Memory1_storage']:\n",
    "     gb = int(df_test.loc[index, 'Memory1_storage'][0])*1024\n",
    "     df_test.loc[index, 'Memory1_storage'] = f\"{gb}GB\"\n",
    "\n",
    "\n",
    "df_test['Memory2_storage'].replace(to_replace = [\"None\"], value = 0, inplace = True)\n",
    "df_test['Memory1_storage'].replace(to_replace = [\"None\"], value = 0, inplace = True)\n",
    "df_test['Memory2_type'].replace(to_replace = [None], value = \"0\", inplace = True)                  # El 0 lo pongo como String para que luego al convertir los datos lo haga bien\n",
    "df_test['Memory1_type'].replace(to_replace = [None], value = \"0\", inplace = True)\n",
    "\n",
    "df_test"
   ]
  },
  {
   "cell_type": "markdown",
   "metadata": {
    "id": "_ryyPz9sShix"
   },
   "source": [
    "Ahora vamos a hacer como con la RAM, eliminar la subcadena \"GB\" de los discos. Para ello usamos el mismo método de antes, pero "
   ]
  },
  {
   "cell_type": "markdown",
   "metadata": {
    "id": "7PGxpAo5xF10"
   },
   "source": [
    "###Normalizando"
   ]
  },
  {
   "cell_type": "markdown",
   "metadata": {
    "id": "TBCjoU5hSw5c"
   },
   "source": [
    "Vamos a convertir los valores de \"Typename\", \"Company\", \"OpSys\", etc... en números para que se pueda trabajar con ellos.\n",
    "\n",
    "También vamos a eliminar \"GB\" de los elementos de la columna RAM y las memorias al igual que vamos a eliminar \"kg\" de la columna \"Weight\" para dejar sólo los números    \n",
    "\n",
    "Con las memorias surge un problema, en los portátiles que no tienen alguno de sus discos se nos borra el valor 0.\n",
    "\n",
    "Esto tiene fácil solución, usamos una función para que nos sustituya los valores vacíos por 0.\n",
    "\n",
    "Normalizamos las columnas que tenemos"
   ]
  },
  {
   "cell_type": "code",
   "execution_count": 67,
   "metadata": {
    "colab": {
     "base_uri": "https://localhost:8080/",
     "height": 424
    },
    "id": "_MZUs9yfSxRS",
    "outputId": "af1305d1-1a3e-4219-f75b-50d3d2448c25"
   },
   "outputs": [
    {
     "data": {
      "text/plain": "      Company   Product  TypeName    Inches  ScreenResolution       Cpu  \\\n0    0.416667  0.201550       0.0  0.385542          0.896552  0.833333   \n1    0.500000  0.751938       0.0  0.469880          0.862069  0.733333   \n2    0.000000  0.116279       0.6  0.662651          0.275862  0.600000   \n3    0.166667  0.213178       0.2  0.662651          0.275862  0.766667   \n4    0.416667  0.178295       0.8  0.662651          0.275862  0.733333   \n..        ...       ...       ...       ...               ...       ...   \n386  0.416667  0.627907       0.6  0.867470          0.275862  0.933333   \n387  0.333333  0.368217       0.6  0.662651          0.000000  0.250000   \n388  0.166667  0.988372       0.8  0.662651          0.275862  0.833333   \n389  0.333333  0.375969       0.6  0.662651          0.275862  0.666667   \n390  0.416667  0.608527       0.6  0.385542          0.448276  0.666667   \n\n          Ram       Gpu     OpSys    Weight  Memory1_storage  Memory1_type  \\\n0    0.225806  0.515152  0.666667  0.186701         0.121569      1.000000   \n1    0.096774  0.439394  0.666667  0.148338         0.121569      1.000000   \n2    0.161290  0.803030  0.666667  0.437340         0.058824      1.000000   \n3    0.096774  0.757576  0.666667  0.386189         0.498039      0.333333   \n4    0.096774  0.439394  0.833333  0.304348         0.121569      1.000000   \n..        ...       ...       ...       ...              ...           ...   \n386  0.096774  0.681818  0.666667  0.462916         0.498039      0.333333   \n387  0.000000  0.333333  0.666667  0.386189         0.241176      0.333333   \n388  0.225806  0.696970  0.666667  0.240409         0.247059      1.000000   \n389  0.096774  0.045455  0.666667  0.368286         0.121569      1.000000   \n390  0.032258  0.575758  0.666667  0.204604         0.241176      0.333333   \n\n     Memory2_storage  Memory2_type  \n0                0.0      0.000000  \n1                0.0      0.000000  \n2                0.5      0.333333  \n3                0.0      0.000000  \n4                0.0      0.000000  \n..               ...           ...  \n386              0.0      0.000000  \n387              0.0      0.000000  \n388              0.0      0.000000  \n389              0.0      0.000000  \n390              0.0      0.000000  \n\n[391 rows x 14 columns]",
      "text/html": "<div>\n<style scoped>\n    .dataframe tbody tr th:only-of-type {\n        vertical-align: middle;\n    }\n\n    .dataframe tbody tr th {\n        vertical-align: top;\n    }\n\n    .dataframe thead th {\n        text-align: right;\n    }\n</style>\n<table border=\"1\" class=\"dataframe\">\n  <thead>\n    <tr style=\"text-align: right;\">\n      <th></th>\n      <th>Company</th>\n      <th>Product</th>\n      <th>TypeName</th>\n      <th>Inches</th>\n      <th>ScreenResolution</th>\n      <th>Cpu</th>\n      <th>Ram</th>\n      <th>Gpu</th>\n      <th>OpSys</th>\n      <th>Weight</th>\n      <th>Memory1_storage</th>\n      <th>Memory1_type</th>\n      <th>Memory2_storage</th>\n      <th>Memory2_type</th>\n    </tr>\n  </thead>\n  <tbody>\n    <tr>\n      <th>0</th>\n      <td>0.416667</td>\n      <td>0.201550</td>\n      <td>0.0</td>\n      <td>0.385542</td>\n      <td>0.896552</td>\n      <td>0.833333</td>\n      <td>0.225806</td>\n      <td>0.515152</td>\n      <td>0.666667</td>\n      <td>0.186701</td>\n      <td>0.121569</td>\n      <td>1.000000</td>\n      <td>0.0</td>\n      <td>0.000000</td>\n    </tr>\n    <tr>\n      <th>1</th>\n      <td>0.500000</td>\n      <td>0.751938</td>\n      <td>0.0</td>\n      <td>0.469880</td>\n      <td>0.862069</td>\n      <td>0.733333</td>\n      <td>0.096774</td>\n      <td>0.439394</td>\n      <td>0.666667</td>\n      <td>0.148338</td>\n      <td>0.121569</td>\n      <td>1.000000</td>\n      <td>0.0</td>\n      <td>0.000000</td>\n    </tr>\n    <tr>\n      <th>2</th>\n      <td>0.000000</td>\n      <td>0.116279</td>\n      <td>0.6</td>\n      <td>0.662651</td>\n      <td>0.275862</td>\n      <td>0.600000</td>\n      <td>0.161290</td>\n      <td>0.803030</td>\n      <td>0.666667</td>\n      <td>0.437340</td>\n      <td>0.058824</td>\n      <td>1.000000</td>\n      <td>0.5</td>\n      <td>0.333333</td>\n    </tr>\n    <tr>\n      <th>3</th>\n      <td>0.166667</td>\n      <td>0.213178</td>\n      <td>0.2</td>\n      <td>0.662651</td>\n      <td>0.275862</td>\n      <td>0.766667</td>\n      <td>0.096774</td>\n      <td>0.757576</td>\n      <td>0.666667</td>\n      <td>0.386189</td>\n      <td>0.498039</td>\n      <td>0.333333</td>\n      <td>0.0</td>\n      <td>0.000000</td>\n    </tr>\n    <tr>\n      <th>4</th>\n      <td>0.416667</td>\n      <td>0.178295</td>\n      <td>0.8</td>\n      <td>0.662651</td>\n      <td>0.275862</td>\n      <td>0.733333</td>\n      <td>0.096774</td>\n      <td>0.439394</td>\n      <td>0.833333</td>\n      <td>0.304348</td>\n      <td>0.121569</td>\n      <td>1.000000</td>\n      <td>0.0</td>\n      <td>0.000000</td>\n    </tr>\n    <tr>\n      <th>...</th>\n      <td>...</td>\n      <td>...</td>\n      <td>...</td>\n      <td>...</td>\n      <td>...</td>\n      <td>...</td>\n      <td>...</td>\n      <td>...</td>\n      <td>...</td>\n      <td>...</td>\n      <td>...</td>\n      <td>...</td>\n      <td>...</td>\n      <td>...</td>\n    </tr>\n    <tr>\n      <th>386</th>\n      <td>0.416667</td>\n      <td>0.627907</td>\n      <td>0.6</td>\n      <td>0.867470</td>\n      <td>0.275862</td>\n      <td>0.933333</td>\n      <td>0.096774</td>\n      <td>0.681818</td>\n      <td>0.666667</td>\n      <td>0.462916</td>\n      <td>0.498039</td>\n      <td>0.333333</td>\n      <td>0.0</td>\n      <td>0.000000</td>\n    </tr>\n    <tr>\n      <th>387</th>\n      <td>0.333333</td>\n      <td>0.368217</td>\n      <td>0.6</td>\n      <td>0.662651</td>\n      <td>0.000000</td>\n      <td>0.250000</td>\n      <td>0.000000</td>\n      <td>0.333333</td>\n      <td>0.666667</td>\n      <td>0.386189</td>\n      <td>0.241176</td>\n      <td>0.333333</td>\n      <td>0.0</td>\n      <td>0.000000</td>\n    </tr>\n    <tr>\n      <th>388</th>\n      <td>0.166667</td>\n      <td>0.988372</td>\n      <td>0.8</td>\n      <td>0.662651</td>\n      <td>0.275862</td>\n      <td>0.833333</td>\n      <td>0.225806</td>\n      <td>0.696970</td>\n      <td>0.666667</td>\n      <td>0.240409</td>\n      <td>0.247059</td>\n      <td>1.000000</td>\n      <td>0.0</td>\n      <td>0.000000</td>\n    </tr>\n    <tr>\n      <th>389</th>\n      <td>0.333333</td>\n      <td>0.375969</td>\n      <td>0.6</td>\n      <td>0.662651</td>\n      <td>0.275862</td>\n      <td>0.666667</td>\n      <td>0.096774</td>\n      <td>0.045455</td>\n      <td>0.666667</td>\n      <td>0.368286</td>\n      <td>0.121569</td>\n      <td>1.000000</td>\n      <td>0.0</td>\n      <td>0.000000</td>\n    </tr>\n    <tr>\n      <th>390</th>\n      <td>0.416667</td>\n      <td>0.608527</td>\n      <td>0.6</td>\n      <td>0.385542</td>\n      <td>0.448276</td>\n      <td>0.666667</td>\n      <td>0.032258</td>\n      <td>0.575758</td>\n      <td>0.666667</td>\n      <td>0.204604</td>\n      <td>0.241176</td>\n      <td>0.333333</td>\n      <td>0.0</td>\n      <td>0.000000</td>\n    </tr>\n  </tbody>\n</table>\n<p>391 rows × 14 columns</p>\n</div>"
     },
     "execution_count": 67,
     "metadata": {},
     "output_type": "execute_result"
    }
   ],
   "source": [
    "df_test['Ram'] = df_test['Ram'].map(lambda x: str(x)[:-2])                     # Eliminamos dos últimos caracteres del contenido de 'Ram'\n",
    "df_test['Weight'] = df_test['Weight'].map(lambda x: str(x)[:-2])               # Igual con 'Weight'\n",
    "df_test['Memory1_storage'] = df_test['Memory1_storage'].map(lambda x: str(x)[:-2])\n",
    "df_test['Memory2_storage'] = df_test['Memory2_storage'].map(lambda x: str(x)[:-2])\n",
    "\n",
    "df_test = df_test.replace(r'^\\s*$', value = 0, regex=True)                       #Cambia los espacios vacios por 0   ^\\s*$ es espacio vacío\n",
    "\n",
    "# Transformamos los valores del tipo de memoria para que sean tratables\n",
    "df_test[['TypeName', 'Company', 'OpSys', 'Product', 'ScreenResolution', 'Cpu', 'Gpu', 'Memory1_type', 'Memory2_type']] = enc.fit_transform(df_test[['TypeName', 'Company', 'OpSys', 'Product', 'ScreenResolution', 'Cpu', 'Gpu','Memory1_type', 'Memory2_type']])\n",
    "\n",
    "# Normalizamos todos los valores númericos que tenemos de momento\n",
    "df_test[['Company', 'TypeName', 'Inches', 'Ram', 'Memory1_storage', 'Memory1_type', 'Memory2_storage', 'Memory2_type', 'OpSys', 'Weight', 'Cpu', 'Gpu', 'ScreenResolution', 'Product']] = MinMaxScaler().fit_transform(df_test[['Company', 'TypeName', 'Inches', 'Ram', 'Memory1_storage', 'Memory1_type', 'Memory2_storage', 'Memory2_type', 'OpSys', 'Weight', 'Cpu', 'Gpu', 'ScreenResolution', 'Product']])\n",
    "\n",
    "df_test"
   ]
  },
  {
   "cell_type": "markdown",
   "metadata": {
    "id": "0ibbOlc1uvBL"
   },
   "source": [
    "##XGBOOST"
   ]
  },
  {
   "cell_type": "code",
   "execution_count": 68,
   "metadata": {
    "colab": {
     "base_uri": "https://localhost:8080/",
     "height": 330
    },
    "id": "DH9lHaMhuy2Z",
    "outputId": "77d57997-b3da-453d-93a9-bfacead0794c"
   },
   "outputs": [
    {
     "ename": "KeyError",
     "evalue": "\"['Cpu', 'ScreenResolution'] not in index\"",
     "output_type": "error",
     "traceback": [
      "\u001B[1;31m---------------------------------------------------------------------------\u001B[0m",
      "\u001B[1;31mKeyError\u001B[0m                                  Traceback (most recent call last)",
      "Cell \u001B[1;32mIn [68], line 1\u001B[0m\n\u001B[1;32m----> 1\u001B[0m X_train \u001B[38;5;241m=\u001B[39m \u001B[43mdf_train\u001B[49m\u001B[43m[\u001B[49m\u001B[43m[\u001B[49m\u001B[38;5;124;43m'\u001B[39;49m\u001B[38;5;124;43mRam\u001B[39;49m\u001B[38;5;124;43m'\u001B[39;49m\u001B[43m,\u001B[49m\u001B[43m \u001B[49m\u001B[38;5;124;43m'\u001B[39;49m\u001B[38;5;124;43mMemory1_storage\u001B[39;49m\u001B[38;5;124;43m'\u001B[39;49m\u001B[43m,\u001B[49m\u001B[43m \u001B[49m\u001B[38;5;124;43m'\u001B[39;49m\u001B[38;5;124;43mMemory1_type\u001B[39;49m\u001B[38;5;124;43m'\u001B[39;49m\u001B[43m,\u001B[49m\u001B[43m \u001B[49m\u001B[38;5;124;43m'\u001B[39;49m\u001B[38;5;124;43mMemory2_storage\u001B[39;49m\u001B[38;5;124;43m'\u001B[39;49m\u001B[43m,\u001B[49m\u001B[43m \u001B[49m\u001B[38;5;124;43m'\u001B[39;49m\u001B[38;5;124;43mMemory2_type\u001B[39;49m\u001B[38;5;124;43m'\u001B[39;49m\u001B[43m,\u001B[49m\u001B[43m \u001B[49m\u001B[38;5;124;43m'\u001B[39;49m\u001B[38;5;124;43mCpu\u001B[39;49m\u001B[38;5;124;43m'\u001B[39;49m\u001B[43m,\u001B[49m\u001B[43m \u001B[49m\u001B[38;5;124;43m'\u001B[39;49m\u001B[38;5;124;43mGpu\u001B[39;49m\u001B[38;5;124;43m'\u001B[39;49m\u001B[43m,\u001B[49m\u001B[43m \u001B[49m\u001B[38;5;124;43m'\u001B[39;49m\u001B[38;5;124;43mScreenResolution\u001B[39;49m\u001B[38;5;124;43m'\u001B[39;49m\u001B[43m,\u001B[49m\u001B[43m \u001B[49m\u001B[38;5;124;43m'\u001B[39;49m\u001B[38;5;124;43mCompany\u001B[39;49m\u001B[38;5;124;43m'\u001B[39;49m\u001B[43m,\u001B[49m\u001B[43m \u001B[49m\u001B[38;5;124;43m'\u001B[39;49m\u001B[38;5;124;43mOpSys\u001B[39;49m\u001B[38;5;124;43m'\u001B[39;49m\u001B[43m,\u001B[49m\u001B[43m \u001B[49m\u001B[38;5;124;43m'\u001B[39;49m\u001B[38;5;124;43mWeight\u001B[39;49m\u001B[38;5;124;43m'\u001B[39;49m\u001B[43m,\u001B[49m\u001B[43m \u001B[49m\u001B[38;5;124;43m'\u001B[39;49m\u001B[38;5;124;43mProduct\u001B[39;49m\u001B[38;5;124;43m'\u001B[39;49m\u001B[43m,\u001B[49m\u001B[43m \u001B[49m\u001B[38;5;124;43m'\u001B[39;49m\u001B[38;5;124;43mInches\u001B[39;49m\u001B[38;5;124;43m'\u001B[39;49m\u001B[43m,\u001B[49m\u001B[43m \u001B[49m\u001B[38;5;124;43m'\u001B[39;49m\u001B[38;5;124;43mTypeName\u001B[39;49m\u001B[38;5;124;43m'\u001B[39;49m\u001B[43m]\u001B[49m\u001B[43m]\u001B[49m\n\u001B[0;32m      2\u001B[0m X_test \u001B[38;5;241m=\u001B[39m df_test[[\u001B[38;5;124m'\u001B[39m\u001B[38;5;124mRam\u001B[39m\u001B[38;5;124m'\u001B[39m, \u001B[38;5;124m'\u001B[39m\u001B[38;5;124mMemory1_storage\u001B[39m\u001B[38;5;124m'\u001B[39m, \u001B[38;5;124m'\u001B[39m\u001B[38;5;124mMemory1_type\u001B[39m\u001B[38;5;124m'\u001B[39m, \u001B[38;5;124m'\u001B[39m\u001B[38;5;124mMemory2_storage\u001B[39m\u001B[38;5;124m'\u001B[39m, \u001B[38;5;124m'\u001B[39m\u001B[38;5;124mMemory2_type\u001B[39m\u001B[38;5;124m'\u001B[39m, \u001B[38;5;124m'\u001B[39m\u001B[38;5;124mCpu\u001B[39m\u001B[38;5;124m'\u001B[39m, \u001B[38;5;124m'\u001B[39m\u001B[38;5;124mGpu\u001B[39m\u001B[38;5;124m'\u001B[39m, \u001B[38;5;124m'\u001B[39m\u001B[38;5;124mScreenResolution\u001B[39m\u001B[38;5;124m'\u001B[39m, \u001B[38;5;124m'\u001B[39m\u001B[38;5;124mCompany\u001B[39m\u001B[38;5;124m'\u001B[39m, \u001B[38;5;124m'\u001B[39m\u001B[38;5;124mOpSys\u001B[39m\u001B[38;5;124m'\u001B[39m, \u001B[38;5;124m'\u001B[39m\u001B[38;5;124mWeight\u001B[39m\u001B[38;5;124m'\u001B[39m, \u001B[38;5;124m'\u001B[39m\u001B[38;5;124mProduct\u001B[39m\u001B[38;5;124m'\u001B[39m, \u001B[38;5;124m'\u001B[39m\u001B[38;5;124mInches\u001B[39m\u001B[38;5;124m'\u001B[39m, \u001B[38;5;124m'\u001B[39m\u001B[38;5;124mTypeName\u001B[39m\u001B[38;5;124m'\u001B[39m]]\n\u001B[0;32m      4\u001B[0m model \u001B[38;5;241m=\u001B[39m XGBRegressor()\n",
      "File \u001B[1;32m~\\anaconda3\\lib\\site-packages\\pandas\\core\\frame.py:3511\u001B[0m, in \u001B[0;36mDataFrame.__getitem__\u001B[1;34m(self, key)\u001B[0m\n\u001B[0;32m   3509\u001B[0m     \u001B[38;5;28;01mif\u001B[39;00m is_iterator(key):\n\u001B[0;32m   3510\u001B[0m         key \u001B[38;5;241m=\u001B[39m \u001B[38;5;28mlist\u001B[39m(key)\n\u001B[1;32m-> 3511\u001B[0m     indexer \u001B[38;5;241m=\u001B[39m \u001B[38;5;28;43mself\u001B[39;49m\u001B[38;5;241;43m.\u001B[39;49m\u001B[43mcolumns\u001B[49m\u001B[38;5;241;43m.\u001B[39;49m\u001B[43m_get_indexer_strict\u001B[49m\u001B[43m(\u001B[49m\u001B[43mkey\u001B[49m\u001B[43m,\u001B[49m\u001B[43m \u001B[49m\u001B[38;5;124;43m\"\u001B[39;49m\u001B[38;5;124;43mcolumns\u001B[39;49m\u001B[38;5;124;43m\"\u001B[39;49m\u001B[43m)\u001B[49m[\u001B[38;5;241m1\u001B[39m]\n\u001B[0;32m   3513\u001B[0m \u001B[38;5;66;03m# take() does not accept boolean indexers\u001B[39;00m\n\u001B[0;32m   3514\u001B[0m \u001B[38;5;28;01mif\u001B[39;00m \u001B[38;5;28mgetattr\u001B[39m(indexer, \u001B[38;5;124m\"\u001B[39m\u001B[38;5;124mdtype\u001B[39m\u001B[38;5;124m\"\u001B[39m, \u001B[38;5;28;01mNone\u001B[39;00m) \u001B[38;5;241m==\u001B[39m \u001B[38;5;28mbool\u001B[39m:\n",
      "File \u001B[1;32m~\\anaconda3\\lib\\site-packages\\pandas\\core\\indexes\\base.py:5782\u001B[0m, in \u001B[0;36mIndex._get_indexer_strict\u001B[1;34m(self, key, axis_name)\u001B[0m\n\u001B[0;32m   5779\u001B[0m \u001B[38;5;28;01melse\u001B[39;00m:\n\u001B[0;32m   5780\u001B[0m     keyarr, indexer, new_indexer \u001B[38;5;241m=\u001B[39m \u001B[38;5;28mself\u001B[39m\u001B[38;5;241m.\u001B[39m_reindex_non_unique(keyarr)\n\u001B[1;32m-> 5782\u001B[0m \u001B[38;5;28;43mself\u001B[39;49m\u001B[38;5;241;43m.\u001B[39;49m\u001B[43m_raise_if_missing\u001B[49m\u001B[43m(\u001B[49m\u001B[43mkeyarr\u001B[49m\u001B[43m,\u001B[49m\u001B[43m \u001B[49m\u001B[43mindexer\u001B[49m\u001B[43m,\u001B[49m\u001B[43m \u001B[49m\u001B[43maxis_name\u001B[49m\u001B[43m)\u001B[49m\n\u001B[0;32m   5784\u001B[0m keyarr \u001B[38;5;241m=\u001B[39m \u001B[38;5;28mself\u001B[39m\u001B[38;5;241m.\u001B[39mtake(indexer)\n\u001B[0;32m   5785\u001B[0m \u001B[38;5;28;01mif\u001B[39;00m \u001B[38;5;28misinstance\u001B[39m(key, Index):\n\u001B[0;32m   5786\u001B[0m     \u001B[38;5;66;03m# GH 42790 - Preserve name from an Index\u001B[39;00m\n",
      "File \u001B[1;32m~\\anaconda3\\lib\\site-packages\\pandas\\core\\indexes\\base.py:5845\u001B[0m, in \u001B[0;36mIndex._raise_if_missing\u001B[1;34m(self, key, indexer, axis_name)\u001B[0m\n\u001B[0;32m   5842\u001B[0m     \u001B[38;5;28;01mraise\u001B[39;00m \u001B[38;5;167;01mKeyError\u001B[39;00m(\u001B[38;5;124mf\u001B[39m\u001B[38;5;124m\"\u001B[39m\u001B[38;5;124mNone of [\u001B[39m\u001B[38;5;132;01m{\u001B[39;00mkey\u001B[38;5;132;01m}\u001B[39;00m\u001B[38;5;124m] are in the [\u001B[39m\u001B[38;5;132;01m{\u001B[39;00maxis_name\u001B[38;5;132;01m}\u001B[39;00m\u001B[38;5;124m]\u001B[39m\u001B[38;5;124m\"\u001B[39m)\n\u001B[0;32m   5844\u001B[0m not_found \u001B[38;5;241m=\u001B[39m \u001B[38;5;28mlist\u001B[39m(ensure_index(key)[missing_mask\u001B[38;5;241m.\u001B[39mnonzero()[\u001B[38;5;241m0\u001B[39m]]\u001B[38;5;241m.\u001B[39munique())\n\u001B[1;32m-> 5845\u001B[0m \u001B[38;5;28;01mraise\u001B[39;00m \u001B[38;5;167;01mKeyError\u001B[39;00m(\u001B[38;5;124mf\u001B[39m\u001B[38;5;124m\"\u001B[39m\u001B[38;5;132;01m{\u001B[39;00mnot_found\u001B[38;5;132;01m}\u001B[39;00m\u001B[38;5;124m not in index\u001B[39m\u001B[38;5;124m\"\u001B[39m)\n",
      "\u001B[1;31mKeyError\u001B[0m: \"['Cpu', 'ScreenResolution'] not in index\""
     ]
    }
   ],
   "source": [
    "X_train = df_train[['Ram', 'Memory1_storage', 'Memory1_type', 'Memory2_storage', 'Memory2_type', 'Cpu', 'Gpu', 'ScreenResolution', 'Company', 'OpSys', 'Weight', 'Product', 'Inches', 'TypeName']]\n",
    "X_test = df_test[['Ram', 'Memory1_storage', 'Memory1_type', 'Memory2_storage', 'Memory2_type', 'Cpu', 'Gpu', 'ScreenResolution', 'Company', 'OpSys', 'Weight', 'Product', 'Inches', 'TypeName']]\n",
    "\n",
    "model = XGBRegressor()\n",
    "\n",
    "# Fitting the model\n",
    "model.fit(X_train, y)\n",
    "\n",
    "# Pintamos la importancia de cada una de las columnas\n",
    "\n",
    "%matplotlib inline\n",
    "xgb.plot_importance(model, ax=plt.gca())"
   ]
  },
  {
   "cell_type": "code",
   "execution_count": null,
   "metadata": {
    "colab": {
     "base_uri": "https://localhost:8080/"
    },
    "id": "ZA9JsGezE_5T",
    "outputId": "0d20bb1e-ab3c-4305-bd75-2605f0f30123"
   },
   "outputs": [],
   "source": [
    "predTrain = model.predict(X_train)        # Predicción del Train\n",
    "pred = model.predict(X_test)              # Predicción del Test\n",
    "\n",
    "print(\"MAE: \", mean_absolute_error(y, predTrain))"
   ]
  },
  {
   "cell_type": "code",
   "execution_count": null,
   "metadata": {
    "colab": {
     "base_uri": "https://localhost:8080/"
    },
    "id": "uxQZZ3GSwazx",
    "outputId": "93c1dfba-f94b-46c0-d15e-57b3b0c2c215"
   },
   "outputs": [],
   "source": [
    "pred"
   ]
  },
  {
   "cell_type": "markdown",
   "metadata": {
    "id": "4kFtJCqtyjQQ"
   },
   "source": [
    "##Otras cosas:"
   ]
  },
  {
   "cell_type": "markdown",
   "metadata": {
    "id": "osUVgJwGyoOh"
   },
   "source": [
    "### Dudas:\n",
    "\n",
    "- ¿Se puede usar XGBoost para esta práctica?\n",
    "\n",
    "### Cosas que hacer (Cynthia):\n",
    "\n",
    "- Hacer lo de las Seed y eso para XGBoost\n"
   ]
  },
  {
   "cell_type": "markdown",
   "metadata": {
    "id": "Cd_yPI3YyoYA"
   },
   "source": [
    "### Bibliografía"
   ]
  },
  {
   "cell_type": "markdown",
   "metadata": {
    "id": "Cgp3cyE9jZrh"
   },
   "source": [
    "Sitios de los que he sacado infomación y otros que pueden venir bien luego\n",
    "\n",
    "\n",
    "\n",
    "split:\n",
    "\n",
    "https://www.analyticslane.com/2020/10/19/separar-texto-en-columnas-con-pandas-en-python/\n",
    "\n",
    "\n",
    "iterar elementos del Dataframe:\n",
    "\n",
    "https://www.analyticslane.com/2021/09/13/pandas-como-iterar-sobre-las-filas-de-un-dataframe-en-pandas/\n",
    "\n",
    "\n",
    "pandas:\n",
    "\n",
    "https://guias.makeitreal.camp/pandas/inspeccion-y-seleccion-de-datos\n",
    "\n",
    "\n",
    "eliminar duplicados (Aquí no hay):\n",
    "\n",
    "https://cursosinformatica.ucm.es/trial/analisis/"
   ]
  }
 ],
 "metadata": {
  "colab": {
   "collapsed_sections": [
    "Y8fsfNVb_3VN",
    "0ibbOlc1uvBL"
   ],
   "provenance": []
  },
  "kernelspec": {
   "display_name": "Python 3.9.12 64-bit ('anaconda3')",
   "language": "python",
   "name": "python3"
  },
  "language_info": {
   "codemirror_mode": {
    "name": "ipython",
    "version": 3
   },
   "file_extension": ".py",
   "mimetype": "text/x-python",
   "name": "python",
   "nbconvert_exporter": "python",
   "pygments_lexer": "ipython3",
   "version": "3.9.12"
  },
  "vscode": {
   "interpreter": {
    "hash": "e5898a40ac1bc55161c2b54e62bd79c8b1a24ee26972e08bccb36328cd6b373a"
   }
  }
 },
 "nbformat": 4,
 "nbformat_minor": 0
}
