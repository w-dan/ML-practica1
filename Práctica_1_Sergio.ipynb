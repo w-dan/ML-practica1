{
 "cells": [
  {
   "cell_type": "markdown",
   "metadata": {
    "collapsed": false
   },
   "source": [
    "Primero importamos las librerias que vamos a utulizar"
   ]
  },
  {
   "cell_type": "code",
   "execution_count": 97,
   "metadata": {
    "collapsed": true
   },
   "outputs": [],
   "source": [
    "import numpy as np\n",
    "import pandas as pd\n",
    "import sklearn.compose as Compose\n",
    "\n",
    "#Librerias para preprocesamiento de datos discretos\n",
    "import sklearn.preprocessing as preprocessing\n",
    "from sklearn.preprocessing import OrdinalEncoder\n",
    "\n",
    "#Librerias para preprocesar datos continuos\n",
    "from sklearn.preprocessing import MinMaxScaler\n",
    "\n",
    "#Librerias para regresiones y métricas\n",
    "from sklearn.linear_model import LinearRegression\n",
    "from sklearn.metrics import mean_absolute_error, mean_squared_error\n",
    "import matplotlib.pyplot as plt\n",
    "from sklearn.datasets import load_boston\n",
    "from sklearn.model_selection import train_test_split"
   ]
  },
  {
   "cell_type": "markdown",
   "metadata": {
    "collapsed": false
   },
   "source": [
    "A continuación importamos el datasheet de prueba y el datasheet de test"
   ]
  },
  {
   "cell_type": "code",
   "execution_count": 98,
   "metadata": {
    "collapsed": false
   },
   "outputs": [],
   "source": [
    "train = pd.read_csv(\"https://raw.githubusercontent.com/w-dan/ML-practica1/main/train.csv\")\n",
    "test = pd.read_csv(\"https://raw.githubusercontent.com/w-dan/ML-practica1/main/test.csv\")"
   ]
  },
  {
   "cell_type": "code",
   "execution_count": 99,
   "outputs": [
    {
     "data": {
      "text/plain": "     LaptopId  Company                            Product            TypeName  \\\n0         981  Toshiba                  Portege Z30-C-1CV            Notebook   \n1         996       HP                  Spectre 13-V111dx           Ultrabook   \n2          77     Dell                      Inspiron 5570            Notebook   \n3         103       HP                     Envy 13-ad009n           Ultrabook   \n4         946     Dell                      Latitude 7280           Ultrabook   \n..        ...      ...                                ...                 ...   \n907       994     Dell                      Inspiron 5378  2 in 1 Convertible   \n908       615     Asus  FX753VD-GC007T (i7-7700HQ/8GB/1TB              Gaming   \n909      1063     Dell                      Inspiron 5567            Notebook   \n910        96     Dell                      Inspiron 3567            Notebook   \n911       539   Lenovo                      Thinkpad E470            Notebook   \n\n     Inches                           ScreenResolution  \\\n0      13.3                          Full HD 1920x1080   \n1      13.3  IPS Panel Full HD / Touchscreen 1920x1080   \n2      15.6                          Full HD 1920x1080   \n3      13.3                IPS Panel Full HD 1920x1080   \n4      12.5            Full HD / Touchscreen 1920x1080   \n..      ...                                        ...   \n907    13.3            Full HD / Touchscreen 1920x1080   \n908    17.3                          Full HD 1920x1080   \n909    15.6                          Full HD 1920x1080   \n910    15.6                          Full HD 1920x1080   \n911    14.0                IPS Panel Full HD 1920x1080   \n\n                             Cpu   Ram                Memory  \\\n0     Intel Core i5 6200U 2.3GHz   4GB             128GB SSD   \n1     Intel Core i7 7500U 2.7GHz   8GB             256GB SSD   \n2     Intel Core i7 8550U 1.8GHz   8GB  128GB SSD +  1TB HDD   \n3     Intel Core i7 7500U 2.7GHz   8GB             256GB SSD   \n4     Intel Core i5 7200U 2.5GHz   8GB             256GB SSD   \n..                           ...   ...                   ...   \n907   Intel Core i5 7200U 2.5GHz   8GB             256GB SSD   \n908  Intel Core i7 7700HQ 2.8GHz   8GB  128GB SSD +  1TB HDD   \n909   Intel Core i7 7500U 2.7GHz  16GB               2TB HDD   \n910   Intel Core i7 7500U 2.7GHz   8GB               1TB HDD   \n911   Intel Core i7 7500U 2.7GHz   8GB             256GB SSD   \n\n                         Gpu       OpSys  Weight    Price  \n0      Intel HD Graphics 520   Windows 7   1.2kg  1195.00  \n1      Intel HD Graphics 620  Windows 10  1.11kg  1349.00  \n2     Intel UHD Graphics 620  Windows 10  2.02kg   855.00  \n3       Nvidia GeForce MX150  Windows 10  1.38kg  1119.00  \n4          Intel HD Graphics  Windows 10  1.36kg  1472.20  \n..                       ...         ...     ...      ...  \n907    Intel HD Graphics 620  Windows 10  1.68kg   889.00  \n908  Nvidia GeForce GTX 1050  Windows 10     3kg  1168.00  \n909       AMD Radeon R7 M445  Windows 10  2.32kg   989.99  \n910       AMD Radeon R5 M430       Linux   2.2kg   599.90  \n911     Nvidia GeForce 940MX  Windows 10  1.87kg   859.00  \n\n[912 rows x 13 columns]",
      "text/html": "<div>\n<style scoped>\n    .dataframe tbody tr th:only-of-type {\n        vertical-align: middle;\n    }\n\n    .dataframe tbody tr th {\n        vertical-align: top;\n    }\n\n    .dataframe thead th {\n        text-align: right;\n    }\n</style>\n<table border=\"1\" class=\"dataframe\">\n  <thead>\n    <tr style=\"text-align: right;\">\n      <th></th>\n      <th>LaptopId</th>\n      <th>Company</th>\n      <th>Product</th>\n      <th>TypeName</th>\n      <th>Inches</th>\n      <th>ScreenResolution</th>\n      <th>Cpu</th>\n      <th>Ram</th>\n      <th>Memory</th>\n      <th>Gpu</th>\n      <th>OpSys</th>\n      <th>Weight</th>\n      <th>Price</th>\n    </tr>\n  </thead>\n  <tbody>\n    <tr>\n      <th>0</th>\n      <td>981</td>\n      <td>Toshiba</td>\n      <td>Portege Z30-C-1CV</td>\n      <td>Notebook</td>\n      <td>13.3</td>\n      <td>Full HD 1920x1080</td>\n      <td>Intel Core i5 6200U 2.3GHz</td>\n      <td>4GB</td>\n      <td>128GB SSD</td>\n      <td>Intel HD Graphics 520</td>\n      <td>Windows 7</td>\n      <td>1.2kg</td>\n      <td>1195.00</td>\n    </tr>\n    <tr>\n      <th>1</th>\n      <td>996</td>\n      <td>HP</td>\n      <td>Spectre 13-V111dx</td>\n      <td>Ultrabook</td>\n      <td>13.3</td>\n      <td>IPS Panel Full HD / Touchscreen 1920x1080</td>\n      <td>Intel Core i7 7500U 2.7GHz</td>\n      <td>8GB</td>\n      <td>256GB SSD</td>\n      <td>Intel HD Graphics 620</td>\n      <td>Windows 10</td>\n      <td>1.11kg</td>\n      <td>1349.00</td>\n    </tr>\n    <tr>\n      <th>2</th>\n      <td>77</td>\n      <td>Dell</td>\n      <td>Inspiron 5570</td>\n      <td>Notebook</td>\n      <td>15.6</td>\n      <td>Full HD 1920x1080</td>\n      <td>Intel Core i7 8550U 1.8GHz</td>\n      <td>8GB</td>\n      <td>128GB SSD +  1TB HDD</td>\n      <td>Intel UHD Graphics 620</td>\n      <td>Windows 10</td>\n      <td>2.02kg</td>\n      <td>855.00</td>\n    </tr>\n    <tr>\n      <th>3</th>\n      <td>103</td>\n      <td>HP</td>\n      <td>Envy 13-ad009n</td>\n      <td>Ultrabook</td>\n      <td>13.3</td>\n      <td>IPS Panel Full HD 1920x1080</td>\n      <td>Intel Core i7 7500U 2.7GHz</td>\n      <td>8GB</td>\n      <td>256GB SSD</td>\n      <td>Nvidia GeForce MX150</td>\n      <td>Windows 10</td>\n      <td>1.38kg</td>\n      <td>1119.00</td>\n    </tr>\n    <tr>\n      <th>4</th>\n      <td>946</td>\n      <td>Dell</td>\n      <td>Latitude 7280</td>\n      <td>Ultrabook</td>\n      <td>12.5</td>\n      <td>Full HD / Touchscreen 1920x1080</td>\n      <td>Intel Core i5 7200U 2.5GHz</td>\n      <td>8GB</td>\n      <td>256GB SSD</td>\n      <td>Intel HD Graphics</td>\n      <td>Windows 10</td>\n      <td>1.36kg</td>\n      <td>1472.20</td>\n    </tr>\n    <tr>\n      <th>...</th>\n      <td>...</td>\n      <td>...</td>\n      <td>...</td>\n      <td>...</td>\n      <td>...</td>\n      <td>...</td>\n      <td>...</td>\n      <td>...</td>\n      <td>...</td>\n      <td>...</td>\n      <td>...</td>\n      <td>...</td>\n      <td>...</td>\n    </tr>\n    <tr>\n      <th>907</th>\n      <td>994</td>\n      <td>Dell</td>\n      <td>Inspiron 5378</td>\n      <td>2 in 1 Convertible</td>\n      <td>13.3</td>\n      <td>Full HD / Touchscreen 1920x1080</td>\n      <td>Intel Core i5 7200U 2.5GHz</td>\n      <td>8GB</td>\n      <td>256GB SSD</td>\n      <td>Intel HD Graphics 620</td>\n      <td>Windows 10</td>\n      <td>1.68kg</td>\n      <td>889.00</td>\n    </tr>\n    <tr>\n      <th>908</th>\n      <td>615</td>\n      <td>Asus</td>\n      <td>FX753VD-GC007T (i7-7700HQ/8GB/1TB</td>\n      <td>Gaming</td>\n      <td>17.3</td>\n      <td>Full HD 1920x1080</td>\n      <td>Intel Core i7 7700HQ 2.8GHz</td>\n      <td>8GB</td>\n      <td>128GB SSD +  1TB HDD</td>\n      <td>Nvidia GeForce GTX 1050</td>\n      <td>Windows 10</td>\n      <td>3kg</td>\n      <td>1168.00</td>\n    </tr>\n    <tr>\n      <th>909</th>\n      <td>1063</td>\n      <td>Dell</td>\n      <td>Inspiron 5567</td>\n      <td>Notebook</td>\n      <td>15.6</td>\n      <td>Full HD 1920x1080</td>\n      <td>Intel Core i7 7500U 2.7GHz</td>\n      <td>16GB</td>\n      <td>2TB HDD</td>\n      <td>AMD Radeon R7 M445</td>\n      <td>Windows 10</td>\n      <td>2.32kg</td>\n      <td>989.99</td>\n    </tr>\n    <tr>\n      <th>910</th>\n      <td>96</td>\n      <td>Dell</td>\n      <td>Inspiron 3567</td>\n      <td>Notebook</td>\n      <td>15.6</td>\n      <td>Full HD 1920x1080</td>\n      <td>Intel Core i7 7500U 2.7GHz</td>\n      <td>8GB</td>\n      <td>1TB HDD</td>\n      <td>AMD Radeon R5 M430</td>\n      <td>Linux</td>\n      <td>2.2kg</td>\n      <td>599.90</td>\n    </tr>\n    <tr>\n      <th>911</th>\n      <td>539</td>\n      <td>Lenovo</td>\n      <td>Thinkpad E470</td>\n      <td>Notebook</td>\n      <td>14.0</td>\n      <td>IPS Panel Full HD 1920x1080</td>\n      <td>Intel Core i7 7500U 2.7GHz</td>\n      <td>8GB</td>\n      <td>256GB SSD</td>\n      <td>Nvidia GeForce 940MX</td>\n      <td>Windows 10</td>\n      <td>1.87kg</td>\n      <td>859.00</td>\n    </tr>\n  </tbody>\n</table>\n<p>912 rows × 13 columns</p>\n</div>"
     },
     "execution_count": 99,
     "metadata": {},
     "output_type": "execute_result"
    }
   ],
   "source": [
    "train"
   ],
   "metadata": {
    "collapsed": false
   }
  },
  {
   "cell_type": "code",
   "execution_count": 100,
   "outputs": [
    {
     "data": {
      "text/plain": "array(['Full HD 1920x1080', 'IPS Panel Full HD / Touchscreen 1920x1080',\n       'IPS Panel Full HD 1920x1080', 'Full HD / Touchscreen 1920x1080',\n       'Touchscreen 2256x1504', '4K Ultra HD 3840x2160', '1366x768',\n       'Quad HD+ / Touchscreen 3200x1800',\n       'IPS Panel Retina Display 2304x1440', '1920x1080',\n       'IPS Panel Touchscreen 2400x1600',\n       '4K Ultra HD / Touchscreen 3840x2160', '1600x900',\n       'Touchscreen 1366x768', 'IPS Panel 2560x1440',\n       'IPS Panel 4K Ultra HD / Touchscreen 3840x2160',\n       'IPS Panel Quad HD+ 2560x1440', '2560x1440', 'IPS Panel 1366x768',\n       'Touchscreen 2400x1600',\n       'IPS Panel Quad HD+ / Touchscreen 3200x1800',\n       'IPS Panel Touchscreen 2560x1440',\n       'IPS Panel Retina Display 2560x1600',\n       'IPS Panel Touchscreen 1920x1200', 'IPS Panel Full HD 2160x1440',\n       '1440x900', 'Touchscreen / Quad HD+ 3200x1800',\n       'IPS Panel Touchscreen 1366x768',\n       'Touchscreen / 4K Ultra HD 3840x2160',\n       'IPS Panel Full HD 1366x768', 'IPS Panel Retina Display 2880x1800',\n       'IPS Panel 4K Ultra HD 3840x2160', 'Touchscreen 2560x1440',\n       'IPS Panel Quad HD+ 3200x1800', 'Quad HD+ 3200x1800',\n       'IPS Panel Touchscreen / 4K Ultra HD 3840x2160',\n       'IPS Panel Full HD 2560x1440', 'Touchscreen / Full HD 1920x1080'],\n      dtype=object)"
     },
     "execution_count": 100,
     "metadata": {},
     "output_type": "execute_result"
    }
   ],
   "source": [
    "train.ScreenResolution.unique()"
   ],
   "metadata": {
    "collapsed": false
   }
  },
  {
   "cell_type": "markdown",
   "source": [
    "Ahora para tratar la columna de CPU primero vamos a separar cada una de las cadenas de caracteres."
   ],
   "metadata": {
    "collapsed": false
   }
  },
  {
   "cell_type": "code",
   "execution_count": 101,
   "outputs": [],
   "source": [
    "prueba = train['Cpu'].str.split()"
   ],
   "metadata": {
    "collapsed": false
   }
  },
  {
   "cell_type": "markdown",
   "source": [
    "A continuación vamos a guardar en un array la parte que queremos separar"
   ],
   "metadata": {
    "collapsed": false
   }
  },
  {
   "cell_type": "code",
   "execution_count": 102,
   "outputs": [],
   "source": [
    "Cpu_Company = [x[0] for x in prueba]\n",
    "Cpu_Frecuency = [x[-1] for x in prueba]\n",
    "Cpu_Extra = [x[1:-1] for x in prueba]"
   ],
   "metadata": {
    "collapsed": false
   }
  },
  {
   "cell_type": "markdown",
   "source": [
    "Después añadimos al Dataset las nuevas columnas que hemos creado"
   ],
   "metadata": {
    "collapsed": false
   }
  },
  {
   "cell_type": "code",
   "execution_count": 103,
   "outputs": [],
   "source": [
    "train['Cpu_Company'] = pd.DataFrame(Cpu_Company)\n",
    "train['Cpu_Frecuency(GHz)'] = pd.DataFrame(Cpu_Frecuency)\n",
    "#train['Cpu_Extra'] = pd.DataFrame(\" \".join(Cpu_Extra))"
   ],
   "metadata": {
    "collapsed": false
   }
  },
  {
   "cell_type": "markdown",
   "source": [
    "Por último eliminamos las unidades de la columna de Cpu_Frecuency"
   ],
   "metadata": {
    "collapsed": false
   }
  },
  {
   "cell_type": "code",
   "execution_count": 104,
   "outputs": [
    {
     "data": {
      "text/plain": "     LaptopId  Company                            Product            TypeName  \\\n0         981  Toshiba                  Portege Z30-C-1CV            Notebook   \n1         996       HP                  Spectre 13-V111dx           Ultrabook   \n2          77     Dell                      Inspiron 5570            Notebook   \n3         103       HP                     Envy 13-ad009n           Ultrabook   \n4         946     Dell                      Latitude 7280           Ultrabook   \n..        ...      ...                                ...                 ...   \n907       994     Dell                      Inspiron 5378  2 in 1 Convertible   \n908       615     Asus  FX753VD-GC007T (i7-7700HQ/8GB/1TB              Gaming   \n909      1063     Dell                      Inspiron 5567            Notebook   \n910        96     Dell                      Inspiron 3567            Notebook   \n911       539   Lenovo                      Thinkpad E470            Notebook   \n\n     Inches                           ScreenResolution  \\\n0      13.3                          Full HD 1920x1080   \n1      13.3  IPS Panel Full HD / Touchscreen 1920x1080   \n2      15.6                          Full HD 1920x1080   \n3      13.3                IPS Panel Full HD 1920x1080   \n4      12.5            Full HD / Touchscreen 1920x1080   \n..      ...                                        ...   \n907    13.3            Full HD / Touchscreen 1920x1080   \n908    17.3                          Full HD 1920x1080   \n909    15.6                          Full HD 1920x1080   \n910    15.6                          Full HD 1920x1080   \n911    14.0                IPS Panel Full HD 1920x1080   \n\n                             Cpu   Ram                Memory  \\\n0     Intel Core i5 6200U 2.3GHz   4GB             128GB SSD   \n1     Intel Core i7 7500U 2.7GHz   8GB             256GB SSD   \n2     Intel Core i7 8550U 1.8GHz   8GB  128GB SSD +  1TB HDD   \n3     Intel Core i7 7500U 2.7GHz   8GB             256GB SSD   \n4     Intel Core i5 7200U 2.5GHz   8GB             256GB SSD   \n..                           ...   ...                   ...   \n907   Intel Core i5 7200U 2.5GHz   8GB             256GB SSD   \n908  Intel Core i7 7700HQ 2.8GHz   8GB  128GB SSD +  1TB HDD   \n909   Intel Core i7 7500U 2.7GHz  16GB               2TB HDD   \n910   Intel Core i7 7500U 2.7GHz   8GB               1TB HDD   \n911   Intel Core i7 7500U 2.7GHz   8GB             256GB SSD   \n\n                         Gpu       OpSys  Weight    Price Cpu_Company  \\\n0      Intel HD Graphics 520   Windows 7   1.2kg  1195.00       Intel   \n1      Intel HD Graphics 620  Windows 10  1.11kg  1349.00       Intel   \n2     Intel UHD Graphics 620  Windows 10  2.02kg   855.00       Intel   \n3       Nvidia GeForce MX150  Windows 10  1.38kg  1119.00       Intel   \n4          Intel HD Graphics  Windows 10  1.36kg  1472.20       Intel   \n..                       ...         ...     ...      ...         ...   \n907    Intel HD Graphics 620  Windows 10  1.68kg   889.00       Intel   \n908  Nvidia GeForce GTX 1050  Windows 10     3kg  1168.00       Intel   \n909       AMD Radeon R7 M445  Windows 10  2.32kg   989.99       Intel   \n910       AMD Radeon R5 M430       Linux   2.2kg   599.90       Intel   \n911     Nvidia GeForce 940MX  Windows 10  1.87kg   859.00       Intel   \n\n    Cpu_Frecuency(GHz)  \n0                  2.3  \n1                  2.7  \n2                  1.8  \n3                  2.7  \n4                  2.5  \n..                 ...  \n907                2.5  \n908                2.8  \n909                2.7  \n910                2.7  \n911                2.7  \n\n[912 rows x 15 columns]",
      "text/html": "<div>\n<style scoped>\n    .dataframe tbody tr th:only-of-type {\n        vertical-align: middle;\n    }\n\n    .dataframe tbody tr th {\n        vertical-align: top;\n    }\n\n    .dataframe thead th {\n        text-align: right;\n    }\n</style>\n<table border=\"1\" class=\"dataframe\">\n  <thead>\n    <tr style=\"text-align: right;\">\n      <th></th>\n      <th>LaptopId</th>\n      <th>Company</th>\n      <th>Product</th>\n      <th>TypeName</th>\n      <th>Inches</th>\n      <th>ScreenResolution</th>\n      <th>Cpu</th>\n      <th>Ram</th>\n      <th>Memory</th>\n      <th>Gpu</th>\n      <th>OpSys</th>\n      <th>Weight</th>\n      <th>Price</th>\n      <th>Cpu_Company</th>\n      <th>Cpu_Frecuency(GHz)</th>\n    </tr>\n  </thead>\n  <tbody>\n    <tr>\n      <th>0</th>\n      <td>981</td>\n      <td>Toshiba</td>\n      <td>Portege Z30-C-1CV</td>\n      <td>Notebook</td>\n      <td>13.3</td>\n      <td>Full HD 1920x1080</td>\n      <td>Intel Core i5 6200U 2.3GHz</td>\n      <td>4GB</td>\n      <td>128GB SSD</td>\n      <td>Intel HD Graphics 520</td>\n      <td>Windows 7</td>\n      <td>1.2kg</td>\n      <td>1195.00</td>\n      <td>Intel</td>\n      <td>2.3</td>\n    </tr>\n    <tr>\n      <th>1</th>\n      <td>996</td>\n      <td>HP</td>\n      <td>Spectre 13-V111dx</td>\n      <td>Ultrabook</td>\n      <td>13.3</td>\n      <td>IPS Panel Full HD / Touchscreen 1920x1080</td>\n      <td>Intel Core i7 7500U 2.7GHz</td>\n      <td>8GB</td>\n      <td>256GB SSD</td>\n      <td>Intel HD Graphics 620</td>\n      <td>Windows 10</td>\n      <td>1.11kg</td>\n      <td>1349.00</td>\n      <td>Intel</td>\n      <td>2.7</td>\n    </tr>\n    <tr>\n      <th>2</th>\n      <td>77</td>\n      <td>Dell</td>\n      <td>Inspiron 5570</td>\n      <td>Notebook</td>\n      <td>15.6</td>\n      <td>Full HD 1920x1080</td>\n      <td>Intel Core i7 8550U 1.8GHz</td>\n      <td>8GB</td>\n      <td>128GB SSD +  1TB HDD</td>\n      <td>Intel UHD Graphics 620</td>\n      <td>Windows 10</td>\n      <td>2.02kg</td>\n      <td>855.00</td>\n      <td>Intel</td>\n      <td>1.8</td>\n    </tr>\n    <tr>\n      <th>3</th>\n      <td>103</td>\n      <td>HP</td>\n      <td>Envy 13-ad009n</td>\n      <td>Ultrabook</td>\n      <td>13.3</td>\n      <td>IPS Panel Full HD 1920x1080</td>\n      <td>Intel Core i7 7500U 2.7GHz</td>\n      <td>8GB</td>\n      <td>256GB SSD</td>\n      <td>Nvidia GeForce MX150</td>\n      <td>Windows 10</td>\n      <td>1.38kg</td>\n      <td>1119.00</td>\n      <td>Intel</td>\n      <td>2.7</td>\n    </tr>\n    <tr>\n      <th>4</th>\n      <td>946</td>\n      <td>Dell</td>\n      <td>Latitude 7280</td>\n      <td>Ultrabook</td>\n      <td>12.5</td>\n      <td>Full HD / Touchscreen 1920x1080</td>\n      <td>Intel Core i5 7200U 2.5GHz</td>\n      <td>8GB</td>\n      <td>256GB SSD</td>\n      <td>Intel HD Graphics</td>\n      <td>Windows 10</td>\n      <td>1.36kg</td>\n      <td>1472.20</td>\n      <td>Intel</td>\n      <td>2.5</td>\n    </tr>\n    <tr>\n      <th>...</th>\n      <td>...</td>\n      <td>...</td>\n      <td>...</td>\n      <td>...</td>\n      <td>...</td>\n      <td>...</td>\n      <td>...</td>\n      <td>...</td>\n      <td>...</td>\n      <td>...</td>\n      <td>...</td>\n      <td>...</td>\n      <td>...</td>\n      <td>...</td>\n      <td>...</td>\n    </tr>\n    <tr>\n      <th>907</th>\n      <td>994</td>\n      <td>Dell</td>\n      <td>Inspiron 5378</td>\n      <td>2 in 1 Convertible</td>\n      <td>13.3</td>\n      <td>Full HD / Touchscreen 1920x1080</td>\n      <td>Intel Core i5 7200U 2.5GHz</td>\n      <td>8GB</td>\n      <td>256GB SSD</td>\n      <td>Intel HD Graphics 620</td>\n      <td>Windows 10</td>\n      <td>1.68kg</td>\n      <td>889.00</td>\n      <td>Intel</td>\n      <td>2.5</td>\n    </tr>\n    <tr>\n      <th>908</th>\n      <td>615</td>\n      <td>Asus</td>\n      <td>FX753VD-GC007T (i7-7700HQ/8GB/1TB</td>\n      <td>Gaming</td>\n      <td>17.3</td>\n      <td>Full HD 1920x1080</td>\n      <td>Intel Core i7 7700HQ 2.8GHz</td>\n      <td>8GB</td>\n      <td>128GB SSD +  1TB HDD</td>\n      <td>Nvidia GeForce GTX 1050</td>\n      <td>Windows 10</td>\n      <td>3kg</td>\n      <td>1168.00</td>\n      <td>Intel</td>\n      <td>2.8</td>\n    </tr>\n    <tr>\n      <th>909</th>\n      <td>1063</td>\n      <td>Dell</td>\n      <td>Inspiron 5567</td>\n      <td>Notebook</td>\n      <td>15.6</td>\n      <td>Full HD 1920x1080</td>\n      <td>Intel Core i7 7500U 2.7GHz</td>\n      <td>16GB</td>\n      <td>2TB HDD</td>\n      <td>AMD Radeon R7 M445</td>\n      <td>Windows 10</td>\n      <td>2.32kg</td>\n      <td>989.99</td>\n      <td>Intel</td>\n      <td>2.7</td>\n    </tr>\n    <tr>\n      <th>910</th>\n      <td>96</td>\n      <td>Dell</td>\n      <td>Inspiron 3567</td>\n      <td>Notebook</td>\n      <td>15.6</td>\n      <td>Full HD 1920x1080</td>\n      <td>Intel Core i7 7500U 2.7GHz</td>\n      <td>8GB</td>\n      <td>1TB HDD</td>\n      <td>AMD Radeon R5 M430</td>\n      <td>Linux</td>\n      <td>2.2kg</td>\n      <td>599.90</td>\n      <td>Intel</td>\n      <td>2.7</td>\n    </tr>\n    <tr>\n      <th>911</th>\n      <td>539</td>\n      <td>Lenovo</td>\n      <td>Thinkpad E470</td>\n      <td>Notebook</td>\n      <td>14.0</td>\n      <td>IPS Panel Full HD 1920x1080</td>\n      <td>Intel Core i7 7500U 2.7GHz</td>\n      <td>8GB</td>\n      <td>256GB SSD</td>\n      <td>Nvidia GeForce 940MX</td>\n      <td>Windows 10</td>\n      <td>1.87kg</td>\n      <td>859.00</td>\n      <td>Intel</td>\n      <td>2.7</td>\n    </tr>\n  </tbody>\n</table>\n<p>912 rows × 15 columns</p>\n</div>"
     },
     "execution_count": 104,
     "metadata": {},
     "output_type": "execute_result"
    }
   ],
   "source": [
    "train['Cpu_Frecuency(GHz)'] = train['Cpu_Frecuency(GHz)'].map(lambda x: str(x)[:-3])\n",
    "train"
   ],
   "metadata": {
    "collapsed": false
   }
  },
  {
   "cell_type": "markdown",
   "source": [
    "Para preprocesar la columna Screen Resolution seguimos el mismo procedimiento que para la columna CPU"
   ],
   "metadata": {
    "collapsed": false
   }
  },
  {
   "cell_type": "code",
   "execution_count": 105,
   "outputs": [
    {
     "data": {
      "text/plain": "0      1920x1080\n1      1920x1080\n2      1920x1080\n3      1920x1080\n4      1920x1080\n         ...    \n907    1920x1080\n908    1920x1080\n909    1920x1080\n910    1920x1080\n911    1920x1080\nName: Resolution, Length: 912, dtype: object"
     },
     "execution_count": 105,
     "metadata": {},
     "output_type": "execute_result"
    }
   ],
   "source": [
    "prueba = train['ScreenResolution'].str.split()\n",
    "aux = [x[-1] for x in prueba]\n",
    "train['Resolution'] = pd.DataFrame(aux)\n",
    "train['Resolution']"
   ],
   "metadata": {
    "collapsed": false
   }
  },
  {
   "cell_type": "markdown",
   "source": [
    "Vamos a definir todos los preprocesamientos que vamos a usar"
   ],
   "metadata": {
    "collapsed": false
   }
  },
  {
   "cell_type": "code",
   "execution_count": 106,
   "outputs": [],
   "source": [
    "column_transformer = Compose.ColumnTransformer(transformers=[\n",
    "    (\"OrdinalEncoder1\", OrdinalEncoder(), [0]),\n",
    "    (\"MinMaxScaler1\", MinMaxScaler(), [1]),\n",
    "    (\"MinMaxScaler2\", MinMaxScaler(), [2]),\n",
    "    (\"OrdinalEncoder2\", OrdinalEncoder(), [3])\n",
    "])"
   ],
   "metadata": {
    "collapsed": false
   }
  },
  {
   "cell_type": "markdown",
   "source": [
    "Ahora vamos a tratar la columna de Ram"
   ],
   "metadata": {
    "collapsed": false
   }
  },
  {
   "cell_type": "code",
   "execution_count": 107,
   "outputs": [
    {
     "data": {
      "text/plain": "0       4\n1       8\n2       8\n3       8\n4       8\n       ..\n907     8\n908     8\n909    16\n910     8\n911     8\nName: Ram, Length: 912, dtype: object"
     },
     "execution_count": 107,
     "metadata": {},
     "output_type": "execute_result"
    }
   ],
   "source": [
    "train['Ram'] = train['Ram'].map(lambda x: str(x)[:-2])\n",
    "train['Ram']"
   ],
   "metadata": {
    "collapsed": false
   }
  },
  {
   "cell_type": "markdown",
   "metadata": {
    "collapsed": false
   },
   "source": [
    "Creamos el conjunto de entrenamiento"
   ]
  },
  {
   "cell_type": "code",
   "execution_count": 108,
   "metadata": {
    "collapsed": false
   },
   "outputs": [
    {
     "data": {
      "text/plain": "    Cpu_Company Cpu_Frecuency(GHz) Ram                Memory\n0         Intel                2.3   4             128GB SSD\n1         Intel                2.7   8             256GB SSD\n2         Intel                1.8   8  128GB SSD +  1TB HDD\n3         Intel                2.7   8             256GB SSD\n4         Intel                2.5   8             256GB SSD\n..          ...                ...  ..                   ...\n907       Intel                2.5   8             256GB SSD\n908       Intel                2.8   8  128GB SSD +  1TB HDD\n909       Intel                2.7  16               2TB HDD\n910       Intel                2.7   8               1TB HDD\n911       Intel                2.7   8             256GB SSD\n\n[912 rows x 4 columns]",
      "text/html": "<div>\n<style scoped>\n    .dataframe tbody tr th:only-of-type {\n        vertical-align: middle;\n    }\n\n    .dataframe tbody tr th {\n        vertical-align: top;\n    }\n\n    .dataframe thead th {\n        text-align: right;\n    }\n</style>\n<table border=\"1\" class=\"dataframe\">\n  <thead>\n    <tr style=\"text-align: right;\">\n      <th></th>\n      <th>Cpu_Company</th>\n      <th>Cpu_Frecuency(GHz)</th>\n      <th>Ram</th>\n      <th>Memory</th>\n    </tr>\n  </thead>\n  <tbody>\n    <tr>\n      <th>0</th>\n      <td>Intel</td>\n      <td>2.3</td>\n      <td>4</td>\n      <td>128GB SSD</td>\n    </tr>\n    <tr>\n      <th>1</th>\n      <td>Intel</td>\n      <td>2.7</td>\n      <td>8</td>\n      <td>256GB SSD</td>\n    </tr>\n    <tr>\n      <th>2</th>\n      <td>Intel</td>\n      <td>1.8</td>\n      <td>8</td>\n      <td>128GB SSD +  1TB HDD</td>\n    </tr>\n    <tr>\n      <th>3</th>\n      <td>Intel</td>\n      <td>2.7</td>\n      <td>8</td>\n      <td>256GB SSD</td>\n    </tr>\n    <tr>\n      <th>4</th>\n      <td>Intel</td>\n      <td>2.5</td>\n      <td>8</td>\n      <td>256GB SSD</td>\n    </tr>\n    <tr>\n      <th>...</th>\n      <td>...</td>\n      <td>...</td>\n      <td>...</td>\n      <td>...</td>\n    </tr>\n    <tr>\n      <th>907</th>\n      <td>Intel</td>\n      <td>2.5</td>\n      <td>8</td>\n      <td>256GB SSD</td>\n    </tr>\n    <tr>\n      <th>908</th>\n      <td>Intel</td>\n      <td>2.8</td>\n      <td>8</td>\n      <td>128GB SSD +  1TB HDD</td>\n    </tr>\n    <tr>\n      <th>909</th>\n      <td>Intel</td>\n      <td>2.7</td>\n      <td>16</td>\n      <td>2TB HDD</td>\n    </tr>\n    <tr>\n      <th>910</th>\n      <td>Intel</td>\n      <td>2.7</td>\n      <td>8</td>\n      <td>1TB HDD</td>\n    </tr>\n    <tr>\n      <th>911</th>\n      <td>Intel</td>\n      <td>2.7</td>\n      <td>8</td>\n      <td>256GB SSD</td>\n    </tr>\n  </tbody>\n</table>\n<p>912 rows × 4 columns</p>\n</div>"
     },
     "execution_count": 108,
     "metadata": {},
     "output_type": "execute_result"
    }
   ],
   "source": [
    "X = train[['Cpu_Company', 'Cpu_Frecuency(GHz)', 'Ram','Memory']]\n",
    "y = train['Price']\n",
    "X"
   ]
  },
  {
   "cell_type": "markdown",
   "metadata": {},
   "source": [
    "Ahora vamos a proceder a tratar los datos"
   ]
  },
  {
   "cell_type": "code",
   "execution_count": 109,
   "metadata": {
    "collapsed": false
   },
   "outputs": [],
   "source": [
    "X = column_transformer.fit_transform(X.to_numpy())"
   ]
  },
  {
   "cell_type": "markdown",
   "source": [
    "Ahora dividimos el conjunto de entrenamiento"
   ],
   "metadata": {
    "collapsed": false
   }
  },
  {
   "cell_type": "code",
   "execution_count": 110,
   "outputs": [],
   "source": [
    "X_train,X_test, y_train, y_test = train_test_split(X, y, test_size=0.3, random_state=42)"
   ],
   "metadata": {
    "collapsed": false
   }
  },
  {
   "cell_type": "markdown",
   "source": [
    "Ahora procedemos a hacer la regresión lineal"
   ],
   "metadata": {
    "collapsed": false
   }
  },
  {
   "cell_type": "code",
   "execution_count": 111,
   "outputs": [
    {
     "data": {
      "text/plain": "array([ 432.56210665,  845.74534798, 2744.89545488,    7.73723319])"
     },
     "execution_count": 111,
     "metadata": {},
     "output_type": "execute_result"
    }
   ],
   "source": [
    "reg = LinearRegression().fit(X_train, y_train)\n",
    "reg.coef_"
   ],
   "metadata": {
    "collapsed": false
   }
  },
  {
   "cell_type": "code",
   "execution_count": 112,
   "outputs": [
    {
     "name": "stdout",
     "output_type": "stream",
     "text": [
      "MAE:  313.36244882818283\n"
     ]
    }
   ],
   "source": [
    "y_pred = reg.predict(X_test)\n",
    "print(\"MAE: \", mean_absolute_error(y_test, y_pred))"
   ],
   "metadata": {
    "collapsed": false
   }
  }
 ],
 "metadata": {
  "kernelspec": {
   "display_name": "Python 3.9.12 ('base')",
   "language": "python",
   "name": "python3"
  },
  "language_info": {
   "codemirror_mode": {
    "name": "ipython",
    "version": 3
   },
   "file_extension": ".py",
   "mimetype": "text/x-python",
   "name": "python",
   "nbconvert_exporter": "python",
   "pygments_lexer": "ipython3",
   "version": "3.9.12"
  },
  "vscode": {
   "interpreter": {
    "hash": "e5898a40ac1bc55161c2b54e62bd79c8b1a24ee26972e08bccb36328cd6b373a"
   }
  }
 },
 "nbformat": 4,
 "nbformat_minor": 0
}
