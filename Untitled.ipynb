{
 "cells": [
  {
   "cell_type": "code",
   "execution_count": null,
   "id": "b669fe6b",
   "metadata": {},
   "outputs": [],
   "source": []
  },
  {
   "cell_type": "code",
   "execution_count": 1,
   "id": "08b086eb",
   "metadata": {},
   "outputs": [],
   "source": [
    "train_url = \"https://gist.githubusercontent.com/w-dan/77e46a090ae0c2fec5bb2ecdf6e09cc8/raw/779897c43ee5976e6fe8de37cd1d6575f6c2a2ad/practica1-train.csv\"\n",
    "test_url = \"https://gist.githubusercontent.com/w-dan/77e46a090ae0c2fec5bb2ecdf6e09cc8/raw/779897c43ee5976e6fe8de37cd1d6575f6c2a2ad/practica1-test.csv\""
   ]
  },
  {
   "cell_type": "code",
   "execution_count": null,
   "id": "03630b90",
   "metadata": {},
   "outputs": [],
   "source": []
  }
 ],
 "metadata": {
  "kernelspec": {
   "display_name": "Python 3 (ipykernel)",
   "language": "python",
   "name": "python3"
  },
  "language_info": {
   "codemirror_mode": {
    "name": "ipython",
    "version": 3
   },
   "file_extension": ".py",
   "mimetype": "text/x-python",
   "name": "python",
   "nbconvert_exporter": "python",
   "pygments_lexer": "ipython3",
   "version": "3.10.6"
  }
 },
 "nbformat": 4,
 "nbformat_minor": 5
}
